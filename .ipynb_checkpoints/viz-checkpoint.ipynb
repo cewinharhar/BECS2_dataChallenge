{
 "cells": [
  {
   "cell_type": "code",
   "execution_count": 2,
   "metadata": {},
   "outputs": [],
   "source": [
    "import pandas as pd\n",
    "import numpy as np\n",
    "import matplotlib.pyplot as plt\n",
    "import dash_bio\n",
    "from math import log2, log10\n",
    "from scipy import stats"
   ]
  },
  {
   "cell_type": "code",
   "execution_count": 3,
   "metadata": {},
   "outputs": [
    {
     "data": {
      "text/plain": [
       "Breast Cancer        84630\n",
       "Lung Cancer          81900\n",
       "Pancreatic Cancer    81900\n",
       "Colorectal Cancer    81900\n",
       "Healthy              81900\n",
       "Prostate Cancer      81900\n",
       "Name: Cancer, dtype: int64"
      ]
     },
     "execution_count": 3,
     "metadata": {},
     "output_type": "execute_result"
    }
   ],
   "source": [
    "#create pandas dataframe\n",
    "path = \"./RawData/tidy.csv\"\n",
    "pathMet = \"./RawData/metadata.csv\"\n",
    "tidy = pd.read_csv(path, sep=\",\")\n",
    "tidyMet = pd.read_csv(pathMet, sep=\";\", index_col=0)\n",
    "\n",
    "#remove samples which are not in the metadata index column (quality controle etc)\n",
    "tidy = tidy[ (tidy[\"R.FileName\"].isin(tidyMet.index)) ]\n",
    "tidyMer    = pd.merge(tidy, tidyMet, how=\"left\", on=\"R.FileName\")\n",
    "tidySub = tidyMer[[\"R.FileName\", \"uniprot\", \"meanAbu\", \"Cancer\"]]\n",
    "tidySub.Cancer.value_counts()"
   ]
  },
  {
   "cell_type": "code",
   "execution_count": 4,
   "metadata": {},
   "outputs": [
    {
     "data": {
      "text/html": [
       "<div>\n",
       "<style scoped>\n",
       "    .dataframe tbody tr th:only-of-type {\n",
       "        vertical-align: middle;\n",
       "    }\n",
       "\n",
       "    .dataframe tbody tr th {\n",
       "        vertical-align: top;\n",
       "    }\n",
       "\n",
       "    .dataframe thead th {\n",
       "        text-align: right;\n",
       "    }\n",
       "</style>\n",
       "<table border=\"1\" class=\"dataframe\">\n",
       "  <thead>\n",
       "    <tr style=\"text-align: right;\">\n",
       "      <th></th>\n",
       "      <th>R.FileName</th>\n",
       "      <th>uniprot</th>\n",
       "      <th>meanAbu</th>\n",
       "      <th>Cancer</th>\n",
       "    </tr>\n",
       "  </thead>\n",
       "  <tbody>\n",
       "    <tr>\n",
       "      <th>0</th>\n",
       "      <td>J_D201211_MDIA_P705_SExp01-BGSID-1_R01</td>\n",
       "      <td>A0A075B6H9</td>\n",
       "      <td>11601.398438</td>\n",
       "      <td>Lung Cancer</td>\n",
       "    </tr>\n",
       "    <tr>\n",
       "      <th>1</th>\n",
       "      <td>J_D201211_MDIA_P705_SExp01-BGSID-1_R01</td>\n",
       "      <td>A0A075B6I0</td>\n",
       "      <td>3827.466797</td>\n",
       "      <td>Lung Cancer</td>\n",
       "    </tr>\n",
       "    <tr>\n",
       "      <th>2</th>\n",
       "      <td>J_D201211_MDIA_P705_SExp01-BGSID-1_R01</td>\n",
       "      <td>A0A075B6I1</td>\n",
       "      <td>114115.796875</td>\n",
       "      <td>Lung Cancer</td>\n",
       "    </tr>\n",
       "    <tr>\n",
       "      <th>3</th>\n",
       "      <td>J_D201211_MDIA_P705_SExp01-BGSID-1_R01</td>\n",
       "      <td>A0A075B6I7</td>\n",
       "      <td>4293.524902</td>\n",
       "      <td>Lung Cancer</td>\n",
       "    </tr>\n",
       "    <tr>\n",
       "      <th>4</th>\n",
       "      <td>J_D201211_MDIA_P705_SExp01-BGSID-1_R01</td>\n",
       "      <td>A0A075B6J1</td>\n",
       "      <td>5969.785645</td>\n",
       "      <td>Lung Cancer</td>\n",
       "    </tr>\n",
       "  </tbody>\n",
       "</table>\n",
       "</div>"
      ],
      "text/plain": [
       "                               R.FileName     uniprot        meanAbu  \\\n",
       "0  J_D201211_MDIA_P705_SExp01-BGSID-1_R01  A0A075B6H9   11601.398438   \n",
       "1  J_D201211_MDIA_P705_SExp01-BGSID-1_R01  A0A075B6I0    3827.466797   \n",
       "2  J_D201211_MDIA_P705_SExp01-BGSID-1_R01  A0A075B6I1  114115.796875   \n",
       "3  J_D201211_MDIA_P705_SExp01-BGSID-1_R01  A0A075B6I7    4293.524902   \n",
       "4  J_D201211_MDIA_P705_SExp01-BGSID-1_R01  A0A075B6J1    5969.785645   \n",
       "\n",
       "        Cancer  \n",
       "0  Lung Cancer  \n",
       "1  Lung Cancer  \n",
       "2  Lung Cancer  \n",
       "3  Lung Cancer  \n",
       "4  Lung Cancer  "
      ]
     },
     "execution_count": 4,
     "metadata": {},
     "output_type": "execute_result"
    }
   ],
   "source": [
    "tidySub.head()"
   ]
  },
  {
   "cell_type": "markdown",
   "metadata": {},
   "source": [
    "For the pvalues, we need data stored in a list for each protein and cancertype "
   ]
  },
  {
   "cell_type": "code",
   "execution_count": 5,
   "metadata": {},
   "outputs": [],
   "source": [
    "#important for pvalues!\n",
    "ValueDF = tidySub.groupby(['uniprot','Cancer'])['meanAbu'].apply(list)\n",
    "ValueDF = ValueDF.reset_index()"
   ]
  },
  {
   "cell_type": "markdown",
   "metadata": {},
   "source": [
    "For the log2 values, we use MeanDF"
   ]
  },
  {
   "cell_type": "code",
   "execution_count": 6,
   "metadata": {},
   "outputs": [],
   "source": [
    "MeanDF = tidySub.groupby(['uniprot','Cancer'])['meanAbu'].mean()\n",
    "MeanDF = pd.DataFrame(MeanDF)\n",
    "MeanDF = MeanDF.reset_index()"
   ]
  },
  {
   "cell_type": "code",
   "execution_count": 7,
   "metadata": {},
   "outputs": [
    {
     "data": {
      "text/html": [
       "<div>\n",
       "<style scoped>\n",
       "    .dataframe tbody tr th:only-of-type {\n",
       "        vertical-align: middle;\n",
       "    }\n",
       "\n",
       "    .dataframe tbody tr th {\n",
       "        vertical-align: top;\n",
       "    }\n",
       "\n",
       "    .dataframe thead th {\n",
       "        text-align: right;\n",
       "    }\n",
       "</style>\n",
       "<table border=\"1\" class=\"dataframe\">\n",
       "  <thead>\n",
       "    <tr style=\"text-align: right;\">\n",
       "      <th></th>\n",
       "      <th>uniprot</th>\n",
       "      <th>Cancer</th>\n",
       "      <th>meanAbu</th>\n",
       "    </tr>\n",
       "  </thead>\n",
       "  <tbody>\n",
       "    <tr>\n",
       "      <th>0</th>\n",
       "      <td>A0A075B6H9</td>\n",
       "      <td>Breast Cancer</td>\n",
       "      <td>13187.140263</td>\n",
       "    </tr>\n",
       "    <tr>\n",
       "      <th>1</th>\n",
       "      <td>A0A075B6H9</td>\n",
       "      <td>Colorectal Cancer</td>\n",
       "      <td>11832.107357</td>\n",
       "    </tr>\n",
       "    <tr>\n",
       "      <th>2</th>\n",
       "      <td>A0A075B6H9</td>\n",
       "      <td>Healthy</td>\n",
       "      <td>39325.718099</td>\n",
       "    </tr>\n",
       "    <tr>\n",
       "      <th>3</th>\n",
       "      <td>A0A075B6H9</td>\n",
       "      <td>Lung Cancer</td>\n",
       "      <td>19166.234025</td>\n",
       "    </tr>\n",
       "    <tr>\n",
       "      <th>4</th>\n",
       "      <td>A0A075B6H9</td>\n",
       "      <td>Pancreatic Cancer</td>\n",
       "      <td>30563.667741</td>\n",
       "    </tr>\n",
       "    <tr>\n",
       "      <th>5</th>\n",
       "      <td>A0A075B6H9</td>\n",
       "      <td>Prostate Cancer</td>\n",
       "      <td>12818.901481</td>\n",
       "    </tr>\n",
       "  </tbody>\n",
       "</table>\n",
       "</div>"
      ],
      "text/plain": [
       "      uniprot             Cancer       meanAbu\n",
       "0  A0A075B6H9      Breast Cancer  13187.140263\n",
       "1  A0A075B6H9  Colorectal Cancer  11832.107357\n",
       "2  A0A075B6H9            Healthy  39325.718099\n",
       "3  A0A075B6H9        Lung Cancer  19166.234025\n",
       "4  A0A075B6H9  Pancreatic Cancer  30563.667741\n",
       "5  A0A075B6H9    Prostate Cancer  12818.901481"
      ]
     },
     "execution_count": 7,
     "metadata": {},
     "output_type": "execute_result"
    }
   ],
   "source": [
    "# each protein has a mean abu\n",
    "MeanDF[MeanDF.uniprot == 'A0A075B6H9']"
   ]
  },
  {
   "cell_type": "code",
   "execution_count": 8,
   "metadata": {},
   "outputs": [],
   "source": [
    "pivMeanDF = MeanDF.pivot_table(values='meanAbu', index=['uniprot'], columns='Cancer')\n",
    "pivMeanDF = pivMeanDF.reset_index()"
   ]
  },
  {
   "cell_type": "code",
   "execution_count": null,
   "metadata": {},
   "outputs": [
    {
     "name": "stdout",
     "output_type": "stream",
     "text": [
      "Breast Cancer\n"
     ]
    }
   ],
   "source": [
    "d = {}\n",
    "for items in pivMeanDF.columns[1:]:\n",
    "    if items == 'Healthy':\n",
    "        next\n",
    "    else:\n",
    "        print(items)\n",
    "        name = (str(items.replace(\" \", \"\")).lower())\n",
    "        d[name] = pd.DataFrame(pivMeanDF[['uniprot', items, 'Healthy']])\n",
    "        \n",
    "        d[name] = d[name].set_index('uniprot')\n",
    "        \n",
    "        for protein in d[name].index:\n",
    "        \n",
    "            x = ValueDF[(ValueDF.uniprot == protein) & (ValueDF.Cancer == items)].meanAbu.values[0]\n",
    "            y = ValueDF[(ValueDF.uniprot == protein) & (ValueDF.Cancer == 'Healthy')].meanAbu.values[0]\n",
    "            d[name].at[protein, 'pvalue']  = stats.ttest_ind(x, y).pvalue\n",
    "            d[name].pvalue.apply((log10))\n",
    "            d[name].pvalue.multiply(-1)\n",
    "            \n",
    "            d[name]['L2F'] = (d[name][items].apply(log2) / d[name]['Healthy'].apply(log2))\n",
    "            "
   ]
  },
  {
   "cell_type": "code",
   "execution_count": null,
   "metadata": {},
   "outputs": [],
   "source": [
    "d['breastcancer'].reset_index()"
   ]
  },
  {
   "cell_type": "code",
   "execution_count": null,
   "metadata": {},
   "outputs": [],
   "source": [
    "print(d['breastcancer'])\n",
    "print(d['lungcancer'])"
   ]
  },
  {
   "cell_type": "code",
   "execution_count": null,
   "metadata": {},
   "outputs": [],
   "source": [
    "import joblib\n",
    "joblib.dump(d, 'volcanoplot_data')"
   ]
  },
  {
   "cell_type": "code",
   "execution_count": null,
   "metadata": {},
   "outputs": [],
   "source": [
    "\n",
    "dash_bio.VolcanoPlot(\n",
    "    dataframe=d['breastcancer'].reset_index(),\n",
    "    effect_size='L2F',\n",
    "    p='pvalue',\n",
    "    snp = 'uniprot',\n",
    "    gene=None,\n",
    "    logp=True)\n"
   ]
  },
  {
   "cell_type": "code",
   "execution_count": null,
   "metadata": {},
   "outputs": [],
   "source": [
    "\n",
    "dash_bio.VolcanoPlot(\n",
    "    dataframe=d['colorectalcancer'].reset_index(),\n",
    "    effect_size='L2F',\n",
    "    p='pvalue',\n",
    "    snp = 'uniprot',\n",
    "    gene=None,\n",
    "    logp=True)\n"
   ]
  },
  {
   "cell_type": "code",
   "execution_count": null,
   "metadata": {},
   "outputs": [],
   "source": [
    "\n",
    "dash_bio.VolcanoPlot(\n",
    "    dataframe=d['pancreaticcancer'].reset_index(),\n",
    "    effect_size='L2F',\n",
    "    p='pvalue',\n",
    "    snp = 'uniprot',\n",
    "    gene=None,\n",
    "    logp=True)\n"
   ]
  },
  {
   "cell_type": "code",
   "execution_count": null,
   "metadata": {},
   "outputs": [],
   "source": [
    "\n",
    "dash_bio.VolcanoPlot(\n",
    "    dataframe=d['lungcancer'].reset_index(),\n",
    "    effect_size='L2F',\n",
    "    p='pvalue',\n",
    "    snp = 'uniprot',\n",
    "    gene=None,\n",
    "    logp=True)\n"
   ]
  },
  {
   "cell_type": "code",
   "execution_count": null,
   "metadata": {},
   "outputs": [],
   "source": [
    "\n",
    "dash_bio.VolcanoPlot(\n",
    "    dataframe=d['prostatecancer'].reset_index(),\n",
    "    effect_size='L2F',\n",
    "    p='pvalue',\n",
    "    snp = 'uniprot',\n",
    "    gene=None,\n",
    "    logp=True)\n"
   ]
  },
  {
   "cell_type": "code",
   "execution_count": null,
   "metadata": {},
   "outputs": [],
   "source": [
    "for frames in d:\n",
    "    print(frames)"
   ]
  },
  {
   "cell_type": "code",
   "execution_count": null,
   "metadata": {},
   "outputs": [],
   "source": []
  }
 ],
 "metadata": {
  "interpreter": {
   "hash": "944b2b7eef1ababc1ac802be0e332c128cb5c3e6616f472b8539b01ebefaa75d"
  },
  "kernelspec": {
   "display_name": "Python 3",
   "language": "python",
   "name": "python3"
  },
  "language_info": {
   "codemirror_mode": {
    "name": "ipython",
    "version": 3
   },
   "file_extension": ".py",
   "mimetype": "text/x-python",
   "name": "python",
   "nbconvert_exporter": "python",
   "pygments_lexer": "ipython3",
   "version": "3.9.4"
  }
 },
 "nbformat": 4,
 "nbformat_minor": 2
}
