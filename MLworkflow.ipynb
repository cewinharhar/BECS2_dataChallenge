{
 "cells": [
  {
   "cell_type": "markdown",
   "metadata": {},
   "source": [
    "## BECS 2 Data Challenge: Predicting Cancer Status of Patients\n",
    "Koch Kilian (ZHAW), Rieder Jonathan (ZHAW), Yar Kevin (ZHAW)\n",
    "\n",
    "The aim of this project work is to predict 6 different healt status of patients (healthy, breast-, lung-, pancreatic-, colorectal- and prostate cancer). The prediction is based on mass spectroscopy data of different protein levels meassured in patients blood. "
   ]
  },
  {
   "cell_type": "markdown",
   "metadata": {},
   "source": [
    "## Part 1: Loading packages and define initial Parameters"
   ]
  },
  {
   "cell_type": "code",
   "execution_count": 30,
   "metadata": {},
   "outputs": [
    {
     "data": {
      "text/plain": [
       "'\\nusage joblib\\n# save the model: \\njoblib.dump(model , \"model.pkl\")\\n# load the model:\\nmodel = joblib.load(\"model.pkl\")\\n'"
      ]
     },
     "execution_count": 30,
     "metadata": {},
     "output_type": "execute_result"
    }
   ],
   "source": [
    "#import necessary packages \n",
    "import os\n",
    "import random\n",
    "import xgboost\n",
    "import joblib\n",
    "import numpy as np\n",
    "import pandas as pd\n",
    "import matplotlib.pyplot as plt\n",
    "plt.style.use('ggplot')\n",
    "\n",
    "from sklearn import metrics\n",
    "from sklearn import preprocessing\n",
    "\n",
    "from sklearn.pipeline import Pipeline\n",
    "from sklearn.impute import SimpleImputer\n",
    "from sklearn.model_selection import train_test_split\n",
    "from sklearn.model_selection import cross_val_score\n",
    "from sklearn.model_selection import RandomizedSearchCV\n",
    "from sklearn.model_selection import GridSearchCV\n",
    "from sklearn.ensemble import RandomForestClassifier\n",
    "from sklearn.feature_selection import SelectFromModel\n",
    "from sklearn.feature_selection import SequentialFeatureSelector \n",
    "from sklearn.metrics import classification_report, accuracy_score\n",
    "from sklearn.metrics import confusion_matrix, ConfusionMatrixDisplay\n",
    "\n",
    "from sklearn_genetic import GAFeatureSelectionCV\n",
    "\n",
    "os.getcwd()\n",
    "\"\"\"\n",
    "usage joblib\n",
    "# save the model: \n",
    "joblib.dump(model , \"model.pkl\")\n",
    "# load the model:\n",
    "model = joblib.load(\"model.pkl\")\n",
    "\"\"\""
   ]
  },
  {
   "cell_type": "markdown",
   "metadata": {},
   "source": [
    "## Part 2: Data Preprocessing\n",
    "In this section the raw data is preprocessed"
   ]
  },
  {
   "cell_type": "code",
   "execution_count": null,
   "metadata": {},
   "outputs": [],
   "source": [
    "#Kilian insert your code here"
   ]
  },
  {
   "cell_type": "markdown",
   "metadata": {},
   "source": [
    "## Part 3: Data Preparation\n",
    "In this section the raw data is prepared and reshaped to be fed into the different models. Furhtermore, the distribution of the input data is visualized to check if the data set is balanced. The data is converted into two main variables X (patiens and the coresponding protein quantities) and y (patients and the coresponding healt condition).\n"
   ]
  },
  {
   "cell_type": "code",
   "execution_count": 3,
   "metadata": {},
   "outputs": [
    {
     "data": {
      "text/plain": [
       "Breast Cancer        84630\n",
       "Lung Cancer          81900\n",
       "Pancreatic Cancer    81900\n",
       "Colorectal Cancer    81900\n",
       "Healthy              81900\n",
       "Prostate Cancer      81900\n",
       "Name: Cancer, dtype: int64"
      ]
     },
     "execution_count": 3,
     "metadata": {},
     "output_type": "execute_result"
    }
   ],
   "source": [
    "#create pandas dataframe\n",
    "#load data with protein quantities\n",
    "path = \"rawData/tidy.csv\"\n",
    "\n",
    "#load data for patients healt status\n",
    "pathMet = \"rawData/metadata.csv\"\n",
    "tidy = pd.read_csv(path, sep=\",\")\n",
    "tidyMet = pd.read_csv(pathMet, sep=\";\", index_col=0)\n",
    "\n",
    "#remove samples which are not in the metadata index column (quality controle etc)\n",
    "tidy = tidy[ (tidy[\"R.FileName\"].isin(tidyMet.index)) ]\n",
    "tidyMer    = pd.merge(tidy, tidyMet, how=\"left\", on=\"R.FileName\")\n",
    "tidySub = tidyMer[[\"R.FileName\", \"uniprot\", \"meanAbu\", \"Cancer\"]]\n",
    "tidySub.Cancer.value_counts()"
   ]
  },
  {
   "cell_type": "code",
   "execution_count": 4,
   "metadata": {},
   "outputs": [
    {
     "data": {
      "text/html": [
       "<div>\n",
       "<style scoped>\n",
       "    .dataframe tbody tr th:only-of-type {\n",
       "        vertical-align: middle;\n",
       "    }\n",
       "\n",
       "    .dataframe tbody tr th {\n",
       "        vertical-align: top;\n",
       "    }\n",
       "\n",
       "    .dataframe thead th {\n",
       "        text-align: right;\n",
       "    }\n",
       "</style>\n",
       "<table border=\"1\" class=\"dataframe\">\n",
       "  <thead>\n",
       "    <tr style=\"text-align: right;\">\n",
       "      <th></th>\n",
       "      <th>A0A075B6H9</th>\n",
       "      <th>A0A075B6I0</th>\n",
       "      <th>A0A075B6I1</th>\n",
       "      <th>A0A075B6I7</th>\n",
       "      <th>A0A075B6J1</th>\n",
       "      <th>A0A075B6J9</th>\n",
       "      <th>A0A075B6K4</th>\n",
       "      <th>A0A075B6K5</th>\n",
       "      <th>A0A075B6P5;P01615</th>\n",
       "      <th>A0A075B6R2</th>\n",
       "      <th>...</th>\n",
       "      <th>Q9Y6C2</th>\n",
       "      <th>Q9Y6E0</th>\n",
       "      <th>Q9Y6E2</th>\n",
       "      <th>Q9Y6G9</th>\n",
       "      <th>Q9Y6L6</th>\n",
       "      <th>Q9Y6N7</th>\n",
       "      <th>Q9Y6R7</th>\n",
       "      <th>Q9Y6Y9</th>\n",
       "      <th>Q9Y6Z7</th>\n",
       "      <th>Cancer</th>\n",
       "    </tr>\n",
       "    <tr>\n",
       "      <th>R.FileName</th>\n",
       "      <th></th>\n",
       "      <th></th>\n",
       "      <th></th>\n",
       "      <th></th>\n",
       "      <th></th>\n",
       "      <th></th>\n",
       "      <th></th>\n",
       "      <th></th>\n",
       "      <th></th>\n",
       "      <th></th>\n",
       "      <th></th>\n",
       "      <th></th>\n",
       "      <th></th>\n",
       "      <th></th>\n",
       "      <th></th>\n",
       "      <th></th>\n",
       "      <th></th>\n",
       "      <th></th>\n",
       "      <th></th>\n",
       "      <th></th>\n",
       "      <th></th>\n",
       "    </tr>\n",
       "  </thead>\n",
       "  <tbody>\n",
       "    <tr>\n",
       "      <th>J_D201211_MDIA_P705_SExp01-BGSID-100_R01</th>\n",
       "      <td>14946.335938</td>\n",
       "      <td>44693.898438</td>\n",
       "      <td>5286.701172</td>\n",
       "      <td>2721.810303</td>\n",
       "      <td>6439.688965</td>\n",
       "      <td>4968.654297</td>\n",
       "      <td>9251.992188</td>\n",
       "      <td>40399.160156</td>\n",
       "      <td>7.631951e+04</td>\n",
       "      <td>50205.507812</td>\n",
       "      <td>...</td>\n",
       "      <td>46711.242188</td>\n",
       "      <td>4999.735352</td>\n",
       "      <td>3843.583496</td>\n",
       "      <td>3900.420654</td>\n",
       "      <td>4008.093262</td>\n",
       "      <td>30271.335938</td>\n",
       "      <td>5562199.50</td>\n",
       "      <td>20829.845703</td>\n",
       "      <td>186635.421875</td>\n",
       "      <td>Pancreatic Cancer</td>\n",
       "    </tr>\n",
       "    <tr>\n",
       "      <th>J_D201211_MDIA_P705_SExp01-BGSID-101_R01</th>\n",
       "      <td>38555.570312</td>\n",
       "      <td>51684.972656</td>\n",
       "      <td>9045.169922</td>\n",
       "      <td>7985.143555</td>\n",
       "      <td>5580.953125</td>\n",
       "      <td>3497.142578</td>\n",
       "      <td>6626.406738</td>\n",
       "      <td>100954.500000</td>\n",
       "      <td>1.029116e+06</td>\n",
       "      <td>15354.227539</td>\n",
       "      <td>...</td>\n",
       "      <td>37423.011719</td>\n",
       "      <td>32570.783203</td>\n",
       "      <td>16396.248047</td>\n",
       "      <td>5583.424316</td>\n",
       "      <td>2844.958496</td>\n",
       "      <td>17626.980469</td>\n",
       "      <td>3184120.25</td>\n",
       "      <td>19085.271484</td>\n",
       "      <td>125766.781250</td>\n",
       "      <td>Colorectal Cancer</td>\n",
       "    </tr>\n",
       "    <tr>\n",
       "      <th>J_D201211_MDIA_P705_SExp01-BGSID-102_R01</th>\n",
       "      <td>4343.331543</td>\n",
       "      <td>46242.109375</td>\n",
       "      <td>7758.438477</td>\n",
       "      <td>6393.914551</td>\n",
       "      <td>2902.563721</td>\n",
       "      <td>3281.517090</td>\n",
       "      <td>7488.952148</td>\n",
       "      <td>15695.381836</td>\n",
       "      <td>4.025498e+04</td>\n",
       "      <td>70995.250000</td>\n",
       "      <td>...</td>\n",
       "      <td>42504.460938</td>\n",
       "      <td>5609.707031</td>\n",
       "      <td>5444.106445</td>\n",
       "      <td>4461.832520</td>\n",
       "      <td>5693.956543</td>\n",
       "      <td>24841.900391</td>\n",
       "      <td>2423431.00</td>\n",
       "      <td>5232.701660</td>\n",
       "      <td>163073.593750</td>\n",
       "      <td>Lung Cancer</td>\n",
       "    </tr>\n",
       "    <tr>\n",
       "      <th>J_D201211_MDIA_P705_SExp01-BGSID-103_R01</th>\n",
       "      <td>4416.617676</td>\n",
       "      <td>4498.669922</td>\n",
       "      <td>5079.411133</td>\n",
       "      <td>5620.907227</td>\n",
       "      <td>3928.547607</td>\n",
       "      <td>3783.535645</td>\n",
       "      <td>4335.171387</td>\n",
       "      <td>2919.001953</td>\n",
       "      <td>1.193392e+04</td>\n",
       "      <td>26160.638672</td>\n",
       "      <td>...</td>\n",
       "      <td>42933.371094</td>\n",
       "      <td>5125.121582</td>\n",
       "      <td>5866.069336</td>\n",
       "      <td>8054.897461</td>\n",
       "      <td>6311.884766</td>\n",
       "      <td>32395.267578</td>\n",
       "      <td>1822234.00</td>\n",
       "      <td>5621.607910</td>\n",
       "      <td>242902.843750</td>\n",
       "      <td>Pancreatic Cancer</td>\n",
       "    </tr>\n",
       "    <tr>\n",
       "      <th>J_D201211_MDIA_P705_SExp01-BGSID-104_R01</th>\n",
       "      <td>35277.675781</td>\n",
       "      <td>43951.742188</td>\n",
       "      <td>9787.271484</td>\n",
       "      <td>5069.423340</td>\n",
       "      <td>3543.106445</td>\n",
       "      <td>5205.493652</td>\n",
       "      <td>4844.367676</td>\n",
       "      <td>19586.009766</td>\n",
       "      <td>1.528375e+05</td>\n",
       "      <td>58521.871094</td>\n",
       "      <td>...</td>\n",
       "      <td>34184.515625</td>\n",
       "      <td>5825.452637</td>\n",
       "      <td>6959.082520</td>\n",
       "      <td>7264.607422</td>\n",
       "      <td>5692.607422</td>\n",
       "      <td>25756.402344</td>\n",
       "      <td>3612022.00</td>\n",
       "      <td>6194.402832</td>\n",
       "      <td>74033.210938</td>\n",
       "      <td>Breast Cancer</td>\n",
       "    </tr>\n",
       "    <tr>\n",
       "      <th>J_D201211_MDIA_P705_SExp01-BGSID-105_R01</th>\n",
       "      <td>168020.156250</td>\n",
       "      <td>314351.937500</td>\n",
       "      <td>43850.906250</td>\n",
       "      <td>7771.826172</td>\n",
       "      <td>29071.429688</td>\n",
       "      <td>71324.187500</td>\n",
       "      <td>113709.164062</td>\n",
       "      <td>164368.421875</td>\n",
       "      <td>1.048406e+06</td>\n",
       "      <td>439806.000000</td>\n",
       "      <td>...</td>\n",
       "      <td>68271.148438</td>\n",
       "      <td>3907.875488</td>\n",
       "      <td>5595.822754</td>\n",
       "      <td>5423.373535</td>\n",
       "      <td>6921.024902</td>\n",
       "      <td>64960.882812</td>\n",
       "      <td>5701776.00</td>\n",
       "      <td>14410.666992</td>\n",
       "      <td>218686.546875</td>\n",
       "      <td>Healthy</td>\n",
       "    </tr>\n",
       "    <tr>\n",
       "      <th>J_D201211_MDIA_P705_SExp01-BGSID-106_R01</th>\n",
       "      <td>30662.833984</td>\n",
       "      <td>56251.250000</td>\n",
       "      <td>22177.605469</td>\n",
       "      <td>3568.471436</td>\n",
       "      <td>7860.810059</td>\n",
       "      <td>5676.283203</td>\n",
       "      <td>7791.059082</td>\n",
       "      <td>14281.361328</td>\n",
       "      <td>4.652126e+04</td>\n",
       "      <td>86427.093750</td>\n",
       "      <td>...</td>\n",
       "      <td>70641.117188</td>\n",
       "      <td>5911.922852</td>\n",
       "      <td>5732.438477</td>\n",
       "      <td>5113.707031</td>\n",
       "      <td>3057.126465</td>\n",
       "      <td>14672.596680</td>\n",
       "      <td>2764777.00</td>\n",
       "      <td>2809.475586</td>\n",
       "      <td>137199.046875</td>\n",
       "      <td>Pancreatic Cancer</td>\n",
       "    </tr>\n",
       "    <tr>\n",
       "      <th>J_D201211_MDIA_P705_SExp01-BGSID-107_R01</th>\n",
       "      <td>28435.175781</td>\n",
       "      <td>35869.933594</td>\n",
       "      <td>2727.172852</td>\n",
       "      <td>3502.998779</td>\n",
       "      <td>7316.994629</td>\n",
       "      <td>7915.940430</td>\n",
       "      <td>5812.071777</td>\n",
       "      <td>14288.806641</td>\n",
       "      <td>1.516024e+05</td>\n",
       "      <td>36148.906250</td>\n",
       "      <td>...</td>\n",
       "      <td>103312.960938</td>\n",
       "      <td>5317.896484</td>\n",
       "      <td>3941.360596</td>\n",
       "      <td>4759.937988</td>\n",
       "      <td>3729.927002</td>\n",
       "      <td>15953.640625</td>\n",
       "      <td>2216572.25</td>\n",
       "      <td>4058.714844</td>\n",
       "      <td>154778.015625</td>\n",
       "      <td>Lung Cancer</td>\n",
       "    </tr>\n",
       "    <tr>\n",
       "      <th>J_D201211_MDIA_P705_SExp01-BGSID-108_R01</th>\n",
       "      <td>37487.718750</td>\n",
       "      <td>106022.242188</td>\n",
       "      <td>4052.228027</td>\n",
       "      <td>3884.076416</td>\n",
       "      <td>5557.278809</td>\n",
       "      <td>15570.591797</td>\n",
       "      <td>9720.247070</td>\n",
       "      <td>38907.343750</td>\n",
       "      <td>1.918306e+05</td>\n",
       "      <td>46801.824219</td>\n",
       "      <td>...</td>\n",
       "      <td>104351.617188</td>\n",
       "      <td>6847.056641</td>\n",
       "      <td>3552.546631</td>\n",
       "      <td>2710.405029</td>\n",
       "      <td>3458.876709</td>\n",
       "      <td>22813.226562</td>\n",
       "      <td>2690729.00</td>\n",
       "      <td>3660.502686</td>\n",
       "      <td>101316.054688</td>\n",
       "      <td>Colorectal Cancer</td>\n",
       "    </tr>\n",
       "    <tr>\n",
       "      <th>J_D201211_MDIA_P705_SExp01-BGSID-109_R01</th>\n",
       "      <td>9181.585938</td>\n",
       "      <td>134948.609375</td>\n",
       "      <td>10369.925781</td>\n",
       "      <td>2935.796875</td>\n",
       "      <td>5970.308105</td>\n",
       "      <td>5139.558105</td>\n",
       "      <td>5623.950684</td>\n",
       "      <td>18671.617188</td>\n",
       "      <td>1.580666e+05</td>\n",
       "      <td>43009.527344</td>\n",
       "      <td>...</td>\n",
       "      <td>24573.173828</td>\n",
       "      <td>4717.085938</td>\n",
       "      <td>3563.429688</td>\n",
       "      <td>4207.068359</td>\n",
       "      <td>3715.948486</td>\n",
       "      <td>21239.107422</td>\n",
       "      <td>4926607.00</td>\n",
       "      <td>13127.912109</td>\n",
       "      <td>66921.515625</td>\n",
       "      <td>Healthy</td>\n",
       "    </tr>\n",
       "  </tbody>\n",
       "</table>\n",
       "<p>10 rows × 2731 columns</p>\n",
       "</div>"
      ],
      "text/plain": [
       "                                             A0A075B6H9     A0A075B6I0  \\\n",
       "R.FileName                                                               \n",
       "J_D201211_MDIA_P705_SExp01-BGSID-100_R01   14946.335938   44693.898438   \n",
       "J_D201211_MDIA_P705_SExp01-BGSID-101_R01   38555.570312   51684.972656   \n",
       "J_D201211_MDIA_P705_SExp01-BGSID-102_R01    4343.331543   46242.109375   \n",
       "J_D201211_MDIA_P705_SExp01-BGSID-103_R01    4416.617676    4498.669922   \n",
       "J_D201211_MDIA_P705_SExp01-BGSID-104_R01   35277.675781   43951.742188   \n",
       "J_D201211_MDIA_P705_SExp01-BGSID-105_R01  168020.156250  314351.937500   \n",
       "J_D201211_MDIA_P705_SExp01-BGSID-106_R01   30662.833984   56251.250000   \n",
       "J_D201211_MDIA_P705_SExp01-BGSID-107_R01   28435.175781   35869.933594   \n",
       "J_D201211_MDIA_P705_SExp01-BGSID-108_R01   37487.718750  106022.242188   \n",
       "J_D201211_MDIA_P705_SExp01-BGSID-109_R01    9181.585938  134948.609375   \n",
       "\n",
       "                                            A0A075B6I1   A0A075B6I7  \\\n",
       "R.FileName                                                            \n",
       "J_D201211_MDIA_P705_SExp01-BGSID-100_R01   5286.701172  2721.810303   \n",
       "J_D201211_MDIA_P705_SExp01-BGSID-101_R01   9045.169922  7985.143555   \n",
       "J_D201211_MDIA_P705_SExp01-BGSID-102_R01   7758.438477  6393.914551   \n",
       "J_D201211_MDIA_P705_SExp01-BGSID-103_R01   5079.411133  5620.907227   \n",
       "J_D201211_MDIA_P705_SExp01-BGSID-104_R01   9787.271484  5069.423340   \n",
       "J_D201211_MDIA_P705_SExp01-BGSID-105_R01  43850.906250  7771.826172   \n",
       "J_D201211_MDIA_P705_SExp01-BGSID-106_R01  22177.605469  3568.471436   \n",
       "J_D201211_MDIA_P705_SExp01-BGSID-107_R01   2727.172852  3502.998779   \n",
       "J_D201211_MDIA_P705_SExp01-BGSID-108_R01   4052.228027  3884.076416   \n",
       "J_D201211_MDIA_P705_SExp01-BGSID-109_R01  10369.925781  2935.796875   \n",
       "\n",
       "                                            A0A075B6J1    A0A075B6J9  \\\n",
       "R.FileName                                                             \n",
       "J_D201211_MDIA_P705_SExp01-BGSID-100_R01   6439.688965   4968.654297   \n",
       "J_D201211_MDIA_P705_SExp01-BGSID-101_R01   5580.953125   3497.142578   \n",
       "J_D201211_MDIA_P705_SExp01-BGSID-102_R01   2902.563721   3281.517090   \n",
       "J_D201211_MDIA_P705_SExp01-BGSID-103_R01   3928.547607   3783.535645   \n",
       "J_D201211_MDIA_P705_SExp01-BGSID-104_R01   3543.106445   5205.493652   \n",
       "J_D201211_MDIA_P705_SExp01-BGSID-105_R01  29071.429688  71324.187500   \n",
       "J_D201211_MDIA_P705_SExp01-BGSID-106_R01   7860.810059   5676.283203   \n",
       "J_D201211_MDIA_P705_SExp01-BGSID-107_R01   7316.994629   7915.940430   \n",
       "J_D201211_MDIA_P705_SExp01-BGSID-108_R01   5557.278809  15570.591797   \n",
       "J_D201211_MDIA_P705_SExp01-BGSID-109_R01   5970.308105   5139.558105   \n",
       "\n",
       "                                             A0A075B6K4     A0A075B6K5  \\\n",
       "R.FileName                                                               \n",
       "J_D201211_MDIA_P705_SExp01-BGSID-100_R01    9251.992188   40399.160156   \n",
       "J_D201211_MDIA_P705_SExp01-BGSID-101_R01    6626.406738  100954.500000   \n",
       "J_D201211_MDIA_P705_SExp01-BGSID-102_R01    7488.952148   15695.381836   \n",
       "J_D201211_MDIA_P705_SExp01-BGSID-103_R01    4335.171387    2919.001953   \n",
       "J_D201211_MDIA_P705_SExp01-BGSID-104_R01    4844.367676   19586.009766   \n",
       "J_D201211_MDIA_P705_SExp01-BGSID-105_R01  113709.164062  164368.421875   \n",
       "J_D201211_MDIA_P705_SExp01-BGSID-106_R01    7791.059082   14281.361328   \n",
       "J_D201211_MDIA_P705_SExp01-BGSID-107_R01    5812.071777   14288.806641   \n",
       "J_D201211_MDIA_P705_SExp01-BGSID-108_R01    9720.247070   38907.343750   \n",
       "J_D201211_MDIA_P705_SExp01-BGSID-109_R01    5623.950684   18671.617188   \n",
       "\n",
       "                                          A0A075B6P5;P01615     A0A075B6R2  \\\n",
       "R.FileName                                                                   \n",
       "J_D201211_MDIA_P705_SExp01-BGSID-100_R01       7.631951e+04   50205.507812   \n",
       "J_D201211_MDIA_P705_SExp01-BGSID-101_R01       1.029116e+06   15354.227539   \n",
       "J_D201211_MDIA_P705_SExp01-BGSID-102_R01       4.025498e+04   70995.250000   \n",
       "J_D201211_MDIA_P705_SExp01-BGSID-103_R01       1.193392e+04   26160.638672   \n",
       "J_D201211_MDIA_P705_SExp01-BGSID-104_R01       1.528375e+05   58521.871094   \n",
       "J_D201211_MDIA_P705_SExp01-BGSID-105_R01       1.048406e+06  439806.000000   \n",
       "J_D201211_MDIA_P705_SExp01-BGSID-106_R01       4.652126e+04   86427.093750   \n",
       "J_D201211_MDIA_P705_SExp01-BGSID-107_R01       1.516024e+05   36148.906250   \n",
       "J_D201211_MDIA_P705_SExp01-BGSID-108_R01       1.918306e+05   46801.824219   \n",
       "J_D201211_MDIA_P705_SExp01-BGSID-109_R01       1.580666e+05   43009.527344   \n",
       "\n",
       "                                          ...         Q9Y6C2        Q9Y6E0  \\\n",
       "R.FileName                                ...                                \n",
       "J_D201211_MDIA_P705_SExp01-BGSID-100_R01  ...   46711.242188   4999.735352   \n",
       "J_D201211_MDIA_P705_SExp01-BGSID-101_R01  ...   37423.011719  32570.783203   \n",
       "J_D201211_MDIA_P705_SExp01-BGSID-102_R01  ...   42504.460938   5609.707031   \n",
       "J_D201211_MDIA_P705_SExp01-BGSID-103_R01  ...   42933.371094   5125.121582   \n",
       "J_D201211_MDIA_P705_SExp01-BGSID-104_R01  ...   34184.515625   5825.452637   \n",
       "J_D201211_MDIA_P705_SExp01-BGSID-105_R01  ...   68271.148438   3907.875488   \n",
       "J_D201211_MDIA_P705_SExp01-BGSID-106_R01  ...   70641.117188   5911.922852   \n",
       "J_D201211_MDIA_P705_SExp01-BGSID-107_R01  ...  103312.960938   5317.896484   \n",
       "J_D201211_MDIA_P705_SExp01-BGSID-108_R01  ...  104351.617188   6847.056641   \n",
       "J_D201211_MDIA_P705_SExp01-BGSID-109_R01  ...   24573.173828   4717.085938   \n",
       "\n",
       "                                                Q9Y6E2       Q9Y6G9  \\\n",
       "R.FileName                                                            \n",
       "J_D201211_MDIA_P705_SExp01-BGSID-100_R01   3843.583496  3900.420654   \n",
       "J_D201211_MDIA_P705_SExp01-BGSID-101_R01  16396.248047  5583.424316   \n",
       "J_D201211_MDIA_P705_SExp01-BGSID-102_R01   5444.106445  4461.832520   \n",
       "J_D201211_MDIA_P705_SExp01-BGSID-103_R01   5866.069336  8054.897461   \n",
       "J_D201211_MDIA_P705_SExp01-BGSID-104_R01   6959.082520  7264.607422   \n",
       "J_D201211_MDIA_P705_SExp01-BGSID-105_R01   5595.822754  5423.373535   \n",
       "J_D201211_MDIA_P705_SExp01-BGSID-106_R01   5732.438477  5113.707031   \n",
       "J_D201211_MDIA_P705_SExp01-BGSID-107_R01   3941.360596  4759.937988   \n",
       "J_D201211_MDIA_P705_SExp01-BGSID-108_R01   3552.546631  2710.405029   \n",
       "J_D201211_MDIA_P705_SExp01-BGSID-109_R01   3563.429688  4207.068359   \n",
       "\n",
       "                                               Q9Y6L6        Q9Y6N7  \\\n",
       "R.FileName                                                            \n",
       "J_D201211_MDIA_P705_SExp01-BGSID-100_R01  4008.093262  30271.335938   \n",
       "J_D201211_MDIA_P705_SExp01-BGSID-101_R01  2844.958496  17626.980469   \n",
       "J_D201211_MDIA_P705_SExp01-BGSID-102_R01  5693.956543  24841.900391   \n",
       "J_D201211_MDIA_P705_SExp01-BGSID-103_R01  6311.884766  32395.267578   \n",
       "J_D201211_MDIA_P705_SExp01-BGSID-104_R01  5692.607422  25756.402344   \n",
       "J_D201211_MDIA_P705_SExp01-BGSID-105_R01  6921.024902  64960.882812   \n",
       "J_D201211_MDIA_P705_SExp01-BGSID-106_R01  3057.126465  14672.596680   \n",
       "J_D201211_MDIA_P705_SExp01-BGSID-107_R01  3729.927002  15953.640625   \n",
       "J_D201211_MDIA_P705_SExp01-BGSID-108_R01  3458.876709  22813.226562   \n",
       "J_D201211_MDIA_P705_SExp01-BGSID-109_R01  3715.948486  21239.107422   \n",
       "\n",
       "                                              Q9Y6R7        Q9Y6Y9  \\\n",
       "R.FileName                                                           \n",
       "J_D201211_MDIA_P705_SExp01-BGSID-100_R01  5562199.50  20829.845703   \n",
       "J_D201211_MDIA_P705_SExp01-BGSID-101_R01  3184120.25  19085.271484   \n",
       "J_D201211_MDIA_P705_SExp01-BGSID-102_R01  2423431.00   5232.701660   \n",
       "J_D201211_MDIA_P705_SExp01-BGSID-103_R01  1822234.00   5621.607910   \n",
       "J_D201211_MDIA_P705_SExp01-BGSID-104_R01  3612022.00   6194.402832   \n",
       "J_D201211_MDIA_P705_SExp01-BGSID-105_R01  5701776.00  14410.666992   \n",
       "J_D201211_MDIA_P705_SExp01-BGSID-106_R01  2764777.00   2809.475586   \n",
       "J_D201211_MDIA_P705_SExp01-BGSID-107_R01  2216572.25   4058.714844   \n",
       "J_D201211_MDIA_P705_SExp01-BGSID-108_R01  2690729.00   3660.502686   \n",
       "J_D201211_MDIA_P705_SExp01-BGSID-109_R01  4926607.00  13127.912109   \n",
       "\n",
       "                                                 Q9Y6Z7             Cancer  \n",
       "R.FileName                                                                  \n",
       "J_D201211_MDIA_P705_SExp01-BGSID-100_R01  186635.421875  Pancreatic Cancer  \n",
       "J_D201211_MDIA_P705_SExp01-BGSID-101_R01  125766.781250  Colorectal Cancer  \n",
       "J_D201211_MDIA_P705_SExp01-BGSID-102_R01  163073.593750        Lung Cancer  \n",
       "J_D201211_MDIA_P705_SExp01-BGSID-103_R01  242902.843750  Pancreatic Cancer  \n",
       "J_D201211_MDIA_P705_SExp01-BGSID-104_R01   74033.210938      Breast Cancer  \n",
       "J_D201211_MDIA_P705_SExp01-BGSID-105_R01  218686.546875            Healthy  \n",
       "J_D201211_MDIA_P705_SExp01-BGSID-106_R01  137199.046875  Pancreatic Cancer  \n",
       "J_D201211_MDIA_P705_SExp01-BGSID-107_R01  154778.015625        Lung Cancer  \n",
       "J_D201211_MDIA_P705_SExp01-BGSID-108_R01  101316.054688  Colorectal Cancer  \n",
       "J_D201211_MDIA_P705_SExp01-BGSID-109_R01   66921.515625            Healthy  \n",
       "\n",
       "[10 rows x 2731 columns]"
      ]
     },
     "execution_count": 4,
     "metadata": {},
     "output_type": "execute_result"
    }
   ],
   "source": [
    "#reshape data for model\n",
    "#X data\n",
    "tidyReshaped = tidySub.pivot(index = \"R.FileName\", columns = \"uniprot\", values = \"meanAbu\")\n",
    "tidyReshaped.head()\n",
    "\n",
    "#y condition\n",
    "Group =  tidySub.drop([\"uniprot\", \"meanAbu\"], axis=1)\n",
    "Group = Group.drop_duplicates().reset_index(drop=True)\n",
    "Group.head()\n",
    "\n",
    "#merge X and y and set dataframe to numerical values\n",
    "data = pd.merge(tidyReshaped, Group, how=\"left\", on=\"R.FileName\")\n",
    "data = data.set_index(\"R.FileName\")\n",
    "\n",
    "X_ = data.iloc[:, :-1].apply(np.log2)\n",
    "y_ = data.iloc[:,-1]\n",
    "\n",
    "#check first 10 entries of the dataframe \n",
    "data[:10]"
   ]
  },
  {
   "cell_type": "code",
   "execution_count": null,
   "metadata": {},
   "outputs": [],
   "source": [
    "fig, ax = plt.subplots(1,1, figsize=(30, 5))\n",
    "\n",
    "ax.boxplot(X_)"
   ]
  },
  {
   "cell_type": "markdown",
   "metadata": {},
   "source": [
    "### Part 4: Creation of Data Sets, Feature and Model Selection\n",
    "* Create pipeline for imputing, scaling !! **Scaling is not needed for Random Forest**\n",
    "* (https://towardsdatascience.com/how-data-normalization-affects-your-random-forest-algorithm-fbc6753b4ddf)\n",
    "* Creation of training, validation and test sets\n",
    "* Feature Selection, Engineering\n",
    "* Model Selection"
   ]
  },
  {
   "cell_type": "code",
   "execution_count": 5,
   "metadata": {},
   "outputs": [],
   "source": [
    "#Make pipeline\n",
    "dataPrepPipe = Pipeline([\n",
    "    ('imputer', SimpleImputer(strategy='median')),\n",
    "    ]) \n",
    "\n",
    "#X is already purely numerical\n",
    "X = dataPrepPipe.fit_transform(X_)"
   ]
  },
  {
   "cell_type": "code",
   "execution_count": 6,
   "metadata": {},
   "outputs": [
    {
     "data": {
      "text/plain": [
       "{('Breast Cancer', 0),\n",
       " ('Colorectal Cancer', 1),\n",
       " ('Healthy', 2),\n",
       " ('Lung Cancer', 3),\n",
       " ('Pancreatic Cancer', 4),\n",
       " ('Prostate Cancer', 5)}"
      ]
     },
     "execution_count": 6,
     "metadata": {},
     "output_type": "execute_result"
    }
   ],
   "source": [
    "# Encode target labels\n",
    "labEnc = preprocessing.LabelEncoder() \n",
    "y = labEnc.fit_transform(y_) \n",
    "set(zip(y_, y))"
   ]
  },
  {
   "cell_type": "code",
   "execution_count": null,
   "metadata": {},
   "outputs": [],
   "source": [
    "# Save X and y for next session\n",
    "#joblib.dump(y, \"Models/y.pkl\")\n",
    "#joblib.dump(X, \"Models/X.pkl\")\n"
   ]
  },
  {
   "cell_type": "code",
   "execution_count": 2,
   "metadata": {},
   "outputs": [],
   "source": [
    "# load saved X and y \n",
    "y = joblib.load(\"Models/y.pkl\")\n",
    "X = joblib.load(\"Models/X.pkl\")\n"
   ]
  },
  {
   "cell_type": "markdown",
   "metadata": {},
   "source": [
    "## Feature selection\n",
    "\n",
    "### Two possibilities:\n",
    "* Tree-based feature selection - sklearn.feature_selection.SelectFromModel\n",
    "    * May be used with sklearn.tree models\n",
    "##\n",
    "* Genetic algorithm feature selection - sklearn_genetic.GAFeatureSelection\n",
    "    * May be used with xgboost"
   ]
  },
  {
   "cell_type": "markdown",
   "metadata": {},
   "source": [
    "### Random Forest \n",
    "#### with **sklearn.feature_selection.SelectFromModel**"
   ]
  },
  {
   "cell_type": "code",
   "execution_count": 14,
   "metadata": {},
   "outputs": [
    {
     "name": "stdout",
     "output_type": "stream",
     "text": [
      "Original X shape: (181, 2730)\n",
      "Feature selected X_new shape: (181, 926)\n"
     ]
    },
    {
     "data": {
      "image/png": "[encoded data removed]",
      "text/plain": [
       "<Figure size 576x432 with 1 Axes>"
      ]
     },
     "metadata": {},
     "output_type": "display_data"
    }
   ],
   "source": [
    "# Tree Feature Selection \n",
    "\n",
    "\"\"\"\n",
    "Can be used in pipeline\n",
    "clf = Pipeline([ \n",
    "  ('feature_selection', SelectFromModel(LinearSVC(penalty=\"l1\"))),\n",
    "  ('classification', RandomForestClassifier())\n",
    "])\n",
    "\"\"\"\n",
    "#create Random Forest classifier with random hyperparameters\n",
    "params  = {'n_estimators': 114, 'min_samples_split': 2, 'max_features': 'auto', 'max_depth': 18, 'bootstrap': False}\n",
    "clf_RA  = RandomForestClassifier(random_state=0, **params)\n",
    "clf_RA.fit(X, y)\n",
    "\n",
    "#checkout importance in a histogram\n",
    "plt.figure(figsize=(8,6))\n",
    "plt.hist(clf_RA.feature_importances_, bins=100, color='green')\n",
    "plt.title(\"Histogram of the feature importance for all 2730 proteins\")\n",
    "plt.xlabel(\"Importance\")\n",
    "plt.ylabel(\"Count\")\n",
    "\n",
    "\n",
    "#get the reduced X\n",
    "selector  = SelectFromModel(estimator = clf_RA, prefit=True,)\n",
    "X_RF      = selector.transform(X)\n",
    "\n",
    "print(f\"Original X shape: {X.shape}\")\n",
    "print(f\"Feature selected X_new shape: {X_RF.shape}\")\n",
    "\n",
    "#joblib.dump(X_RF, \"Models/X_RF.pkl\")\n",
    "#joblib.dump(selector.get_support(), \"Models/featSel_RF.pkl\")\n"
   ]
  },
  {
   "cell_type": "code",
   "execution_count": null,
   "metadata": {},
   "outputs": [],
   "source": [
    "# Visualize feature importance\n",
    "\n",
    "importances = raFo.feature_importances_\n",
    "\n",
    "std = np.std([tree.feature_importances_ for tree in raFo.estimators_], axis=0)\n",
    "std.sort()\n",
    "\n",
    "forest_importances = pd.Series(importances)\n",
    "\n",
    "fig, ax = plt.subplots()\n",
    "forest_importances.plot.bar(yerr=std, ax=ax)\n",
    "ax.set_title(\"Feature importances using MDI\")\n",
    "ax.set_ylabel(\"Mean decrease in impurity\")\n",
    "ax.get_xaxis().set_visible(False)\n",
    "fig.tight_layout()\n",
    "plt.show()\n"
   ]
  },
  {
   "cell_type": "markdown",
   "metadata": {},
   "source": [
    "### Random Forest \n",
    "#### with **sklearn_genetic.GAFeatureSelection**"
   ]
  },
  {
   "cell_type": "code",
   "execution_count": null,
   "metadata": {},
   "outputs": [],
   "source": [
    "params  = {'n_estimators': 114, 'min_samples_split': 2, 'max_features': 'auto', 'max_depth': 18, 'bootstrap': False}\n",
    "clf_RF    = RandomForestClassifier(random_state=0, **params)\n",
    "\n",
    "evolved_estimator = GAFeatureSelectionCV(\n",
    "    estimator   = clf_RF,\n",
    "    cv          = None,\n",
    "    population_size=20, \n",
    "    generations =40,\n",
    "    crossover_probability=0.8,\n",
    "    mutation_probability = 0.15,\n",
    "    n_jobs      = -1,\n",
    "    scoring     = \"accuracy\")\n",
    "\n",
    "# Train and select the features\n",
    "evolved_estimator.fit(X, y)\n",
    "\n",
    "# Features selected by the algorithm\n",
    "X_RFGA    = X[:, evolved_estimator.best_features_]\n",
    "\n",
    "joblib.dump(X_RFGA, \"Models/X_RFGA.pkl\")\n",
    "joblib.dump(evolved_estimator.best_features_, \"Models/featSel_RFGA.pkl\")\n"
   ]
  },
  {
   "cell_type": "markdown",
   "metadata": {},
   "source": [
    "### XGboost \n",
    "#### with **sklearn.feature_selection.SelectFromModel**"
   ]
  },
  {
   "cell_type": "code",
   "execution_count": null,
   "metadata": {},
   "outputs": [],
   "source": [
    "\n",
    "params = dict(tree_method=\"exact\", \n",
    "                eval_metric='mlogloss',\n",
    "                use_label_encoder =False)\n",
    "\n",
    "clf_XG = xgboost.XGBClassifier(random_state=0, **params)\n",
    "clf_XG.fit(X,y)\n",
    "\n",
    "#checkout importance in a histogram\n",
    "plt.hist(clf_XG.feature_importances_, bins=100)\n",
    "plt.title(\"Histogram of the feature importance for all 2730 proteins\")\n",
    "plt.xlabel(\"Importance\")\n",
    "plt.ylabel(\"Count\")\n",
    "\n",
    "selector = SelectFromModel(estimator = clf_XG)\n",
    "selector.fit(X,y)\n",
    "\n",
    "X_XG = selector.transform(X)\n",
    "\n",
    "print(f\"Original X shape: {X.shape}\")\n",
    "print(f\"Feature selected X_new shape: {X_XG.shape}\")\n",
    "\n",
    "joblib.dump(X_XG, \"Models/X_XG.pkl\")\n",
    "joblib.dump(selector.get_support(), \"Models/featSel_XG.pkl\")"
   ]
  },
  {
   "cell_type": "markdown",
   "metadata": {},
   "source": [
    "### XGboost \n",
    "#### with **sklearn_genetic.GAFeatureSelection**"
   ]
  },
  {
   "cell_type": "code",
   "execution_count": null,
   "metadata": {},
   "outputs": [],
   "source": [
    "params = dict(tree_method=\"exact\", \n",
    "                eval_metric='mlogloss',\n",
    "                use_label_encoder =False)\n",
    "\n",
    "clf_XG = xgboost.XGBClassifier(random_state=0, **params)\n",
    "clf_XG.fit(X,y)\n",
    "\n",
    "evolved_estimator = GAFeatureSelectionCV(\n",
    "    estimator           = clf_XG,\n",
    "    cv                  = None,\n",
    "    population_size     =25, \n",
    "    generations         =40,\n",
    "    crossover_probability=0.8,\n",
    "    mutation_probability= 0.1,\n",
    "    n_jobs              = -1,\n",
    "    scoring             = \"accuracy\")\n",
    "\n",
    "# Train and select the features\n",
    "evolved_estimator.fit(X, y)\n",
    "\n",
    "#susbet data to only the chosen features\n",
    "X_XGGA    = X[:, evolved_estimator.best_features_]\n",
    "\n",
    "joblib.dump(X_XGGA, \"Models/X_XGGA.pkl\")\n",
    "joblib.dump(evolved_estimator.best_features_, \"Models/featSel_XGGA.pkl\")\n"
   ]
  },
  {
   "cell_type": "markdown",
   "metadata": {},
   "source": [
    "## Part 5: Model Training"
   ]
  },
  {
   "cell_type": "code",
   "execution_count": 3,
   "metadata": {},
   "outputs": [],
   "source": [
    "\"\"\"\n",
    "The different features from part 4 are loaded here to find the optimal set of features for the prediction\n",
    "\"\"\"\n",
    "featSel_RF = joblib.load(\"Models/featSel_RF.pkl\")\n",
    "featSel_RFGA = joblib.load(\"Models/featSel_RFGA.pkl\")   #\n",
    "featSel_XG = joblib.load(\"Models/featSel_XG.pkl\")       #<-- WINNER\n",
    "featSel_XGGA = joblib.load(\"Models/featSel_XGGA.pkl\")\n"
   ]
  },
  {
   "cell_type": "code",
   "execution_count": 23,
   "metadata": {},
   "outputs": [],
   "source": [
    "X_train, X_test, y_train, y_test = train_test_split(X[:, featSel_XG ], y, test_size=0.3, random_state=0)"
   ]
  },
  {
   "cell_type": "markdown",
   "metadata": {},
   "source": [
    "### Random Forest"
   ]
  },
  {
   "cell_type": "code",
   "execution_count": 21,
   "metadata": {},
   "outputs": [
    {
     "name": "stdout",
     "output_type": "stream",
     "text": [
      "Accuracy Random Forest: 0.6842105263157895\n",
      "              precision    recall  f1-score   support\n",
      "\n",
      "           0       0.50      1.00      0.67         1\n",
      "           1       0.75      0.75      0.75         4\n",
      "           2       0.50      0.67      0.57         3\n",
      "           3       1.00      0.67      0.80         3\n",
      "           4       0.75      0.60      0.67         5\n",
      "           5       0.67      0.67      0.67         3\n",
      "\n",
      "    accuracy                           0.68        19\n",
      "   macro avg       0.69      0.72      0.69        19\n",
      "weighted avg       0.72      0.68      0.69        19\n",
      "\n"
     ]
    }
   ],
   "source": [
    "clf_RF      = RandomForestClassifier(random_state=0)\n",
    "clf_RF.fit(X_train ,y_train)\n",
    "y_RFpred    = clf_RF.predict(X_test)\n",
    "\n",
    "# Model Accuracy, how often is the classifier correct?\n",
    "print(\"Accuracy Random Forest:\",metrics.accuracy_score(y_test , y_RFpred))\n",
    "print(classification_report(y_test, y_RFpred))"
   ]
  },
  {
   "cell_type": "markdown",
   "metadata": {},
   "source": [
    "### XGBoost Classifier"
   ]
  },
  {
   "cell_type": "code",
   "execution_count": 28,
   "metadata": {},
   "outputs": [
    {
     "name": "stdout",
     "output_type": "stream",
     "text": [
      "Accuracy XGBoost Random Forest: 0.6\n",
      "              precision    recall  f1-score   support\n",
      "\n",
      "           0       0.60      0.67      0.63         9\n",
      "           1       0.64      0.64      0.64        11\n",
      "           2       0.38      0.33      0.35         9\n",
      "           3       0.75      0.50      0.60         6\n",
      "           4       0.62      0.50      0.56        10\n",
      "           5       0.64      0.90      0.75        10\n",
      "\n",
      "    accuracy                           0.60        55\n",
      "   macro avg       0.60      0.59      0.59        55\n",
      "weighted avg       0.60      0.60      0.59        55\n",
      "\n"
     ]
    }
   ],
   "source": [
    "#define some parameters for xgboost to avoid warnings\n",
    "params = dict(tree_method=\"exact\", \n",
    "                eval_metric='mlogloss',\n",
    "                use_label_encoder =False)\n",
    "\n",
    "clf_XG = xgboost.XGBClassifier(random_state=0, **params)\n",
    "\n",
    "clf_XG.fit(X_train ,y_train)\n",
    "y_XGpred = clf_XG.predict(X_test)\n",
    "\n",
    "print(\"Accuracy XGBoost Random Forest:\",metrics.accuracy_score(y_test , y_XGpred))\n",
    "print(classification_report(y_test, y_XGpred))"
   ]
  },
  {
   "cell_type": "markdown",
   "metadata": {},
   "source": [
    "## Part 6: Hyperparameter Tuning\n",
    "In this chapter the model is optimized by hyperparameter tuning. A random grid search is applied to selected hyperparameters of both models. The hyperparametertuning follows the instructions of the following publication https://towardsdatascience.com/hyperparameter-tuning-the-random-forest-in-python-using-scikit-learn-28d2aa77dd74 (31.12.21). Hyperparameter tuning takes some time ~20 minutes. Therefore, after each hyperparameter tuning the model is run with optimized parameters, so hyperparameter tuning is not needed to be run if there is no time for it. Furthermore, be aware that each grid search results in differen optimized parameters. We selected the best parameter we obtained by running the grid search several times with different conditions."
   ]
  },
  {
   "cell_type": "code",
   "execution_count": 66,
   "metadata": {},
   "outputs": [
    {
     "data": {
      "text/plain": [
       "{'n_estimators': 523,\n",
       " 'min_samples_split': 19,\n",
       " 'max_features': 'log2',\n",
       " 'max_depth': 20,\n",
       " 'bootstrap': False}"
      ]
     },
     "execution_count": 66,
     "metadata": {},
     "output_type": "execute_result"
    }
   ],
   "source": [
    "#init model\n",
    "clf_RF    = RandomForestClassifier(random_state=0)\n",
    "\n",
    "#Define hyperparameters for tuning\\n,\n",
    "n_estimators_RF = [x for x in np.linspace(start=350, stop=650, num=20, dtype=int)] #number of trees\n",
    "criterion_RF    = [\"gini\", \"entropy\"]\n",
    "\n",
    "max_depth_RF = [int(x) for x in np.arange(1, 30)] #numbber of levels\n",
    "max_depth_RF.append(None)\n",
    "\n",
    "\n",
    "min_samples_split_RF = [int(x) for x in np.arange(1, 30)] #minimum number of samples required to split a note\n",
    "min_samples_leaf_RF = [np.arange(start=1, stop=5)] #minimum number of samples required at each leaf node\n",
    "\n",
    "max_features_RF = ['auto', 'sqrt', \"log2\"] #number of features\n",
    "\n",
    "class_weight        = []  #<---     SUPER WICHTIG FÜR BIOMARKER\n",
    "\n",
    "bootstrap_RF = [True, False] #method of selecting samples for training\n",
    "#initialize random grid \\n,\n",
    "# RANDOM FOREST PARAMS\\n,\n",
    "random_grid_RF = {'n_estimators'   : n_estimators_RF,\n",
    "            'max_features'      : max_features_RF,\n",
    "            'max_depth'         : max_depth_RF,                        \n",
    "            'min_samples_split' : min_samples_split_RF,\n",
    "            'bootstrap'         : bootstrap_RF}\n",
    "\n",
    "#define model parameters for random grid search\n",
    "RF_random = RandomizedSearchCV(estimator = clf_RF,\n",
    "            param_distributions=random_grid_RF, \n",
    "            cv=3, verbose=0, n_jobs=-1)\n",
    "\n",
    "#fit the random search model\n",
    "RF_random.fit(X_train, y_train)\n",
    "\n",
    "#get best hyperparameters from the model\n",
    "RF_random.best_params_"
   ]
  },
  {
   "cell_type": "code",
   "execution_count": 23,
   "metadata": {},
   "outputs": [
    {
     "name": "stdout",
     "output_type": "stream",
     "text": [
      "Accuracy Random Forest with tuned hyperparameters: 0.7368421052631579\n"
     ]
    }
   ],
   "source": [
    "#run model with optimized hyperparameters\n",
    "\n",
    "\n",
    "params  = {'n_estimators': 476, 'min_samples_split': 2, 'max_features': 'log2', 'max_depth': 17, 'bootstrap': False}  #<-- 0.74\n",
    "#params  = {'n_estimators': 460, 'min_samples_split': 7, 'max_features': 'log2', 'max_depth': 9, 'bootstrap': False}  #<-- WINNER\n",
    "#params  = {'n_estimators': 600, 'min_samples_split': 2, 'max_features': 'auto', 'max_depth': 60, 'bootstrap': True}\n",
    "\n",
    "clf_RF_tuned = RandomForestClassifier(**params, random_state = 0)\n",
    "\n",
    "clf_RF_tuned.fit(X_train ,y_train)\n",
    "y_RFpred_tuned = clf_RF_tuned.predict(X_test)\n",
    "\n",
    "print(\"Accuracy Random Forest with tuned hyperparameters:\",metrics.accuracy_score(y_test , y_RFpred_tuned))"
   ]
  },
  {
   "cell_type": "code",
   "execution_count": 6,
   "metadata": {},
   "outputs": [
    {
     "data": {
      "text/plain": [
       "<bound method XGBModel.get_params of XGBClassifier(base_score=None, booster=None, colsample_bylevel=None,\n",
       "              colsample_bynode=None, colsample_bytree=None,\n",
       "              enable_categorical=False, gamma=None, gpu_id=None,\n",
       "              importance_type=None, interaction_constraints=None,\n",
       "              learning_rate=None, max_delta_step=None, max_depth=None,\n",
       "              min_child_weight=None, missing=nan, monotone_constraints=None,\n",
       "              n_estimators=100, n_jobs=None, num_parallel_tree=None,\n",
       "              predictor=None, random_state=0, reg_alpha=None, reg_lambda=None,\n",
       "              scale_pos_weight=None, subsample=None, tree_method=None,\n",
       "              validate_parameters=None, verbosity=None)>"
      ]
     },
     "execution_count": 6,
     "metadata": {},
     "output_type": "execute_result"
    }
   ],
   "source": [
    "clf_XG = xgboost.XGBClassifier(random_state=0)\n",
    "clf_XG.get_params"
   ]
  },
  {
   "cell_type": "code",
   "execution_count": 33,
   "metadata": {},
   "outputs": [],
   "source": [
    "clf_XG = xgboost.XGBClassifier(use_label_encoder = False, eval_metric = ['mlogloss'])\n",
    "\n",
    "#Hyperparameter tuning for the xgboost classifier using random grid search\n",
    "#Define hyperparameters for tuning\n",
    "\n",
    "params = dict(\n",
    "    eta          = [x for x in np.linspace(start=0.01, stop=0.75, num=20)],\n",
    "    gamma      = [x for x in np.linspace(start=0, stop=5, num=10)]  ,    #min split los\n",
    "    max_depth  = [x for x in np.arange(0, 30, step=2)] ,#numbber of levels\n",
    "    min_child_weight   = [x for x in np.linspace(start=0, stop=20, num=10)],\n",
    "    max_delta_step     = [x for x in np.linspace(start=0, stop=20, num=10)],\n",
    "    subsample          = [x for x in np.linspace(start=0.1, stop=1.0, num=5)],\n",
    "    colsample_bytree   = [x for x in np.linspace(start=0.1, stop=1, num=5)],\n",
    "    reg_lambda             = [int(x) for x in np.arange(start=1, stop=10)] ,     #min split los\n",
    "    tree_method        = ['auto', 'approx', 'hist', 'gpu_hist'],\n",
    "    refresh_leaf       = [1, 0],\n",
    "    max_bin            = [x for x in np.linspace(start=100, stop=500, num=20, dtype=int)]\n",
    ")\n",
    "\n",
    "\n",
    "#define model parameters for random grid search\n",
    "XGRF_random = GridSearchCV(estimator = clf_XG,\n",
    "            param_grid =params, \n",
    "            cv=5, verbose=0, n_jobs=-1)\n",
    "\n",
    "#fit the random search model\n",
    "XGRF_random.fit(X_train, y_train)\n",
    "\n",
    "#get best hyperparameters from the model\n",
    "XGRF_random.best_params_"
   ]
  },
  {
   "cell_type": "code",
   "execution_count": 29,
   "metadata": {},
   "outputs": [
    {
     "name": "stdout",
     "output_type": "stream",
     "text": [
      "Accuracy XGBoost with tuned hyperparameters: 0.4909090909090909\n"
     ]
    }
   ],
   "source": [
    "#run model with optimized hyperparameters\n",
    "\n",
    "\n",
    "params  = {'tree_method': 'auto',\n",
    " 'subsample': 1.0,\n",
    " 'reg_lambda': 1,\n",
    " 'refresh_leaf': 0,\n",
    " 'min_child_weight': 8.88888888888889,\n",
    " 'max_depth': 8,\n",
    " 'max_delta_step': 2.2222222222222223,\n",
    " 'max_bin': 268,\n",
    " 'gamma': 2.2222222222222223,\n",
    " 'colsample_bytree': 0.775}\n",
    "\n",
    "clf_XG_tuned = xgboost.XGBClassifier(random_state=0, use_label_encoder = False, eval_metric = ['mlogloss'])\n",
    "\n",
    "clf_XG_tuned.fit(X_train ,y_train)\n",
    "y_XGpred_tuned = clf_XG_tuned.predict(X_test)\n",
    "\n",
    "print(\"Accuracy XGBoost with tuned hyperparameters:\",metrics.accuracy_score(y_test , y_XGpred_tuned))"
   ]
  },
  {
   "cell_type": "markdown",
   "metadata": {},
   "source": [
    "## Part 7: Model Validation"
   ]
  },
  {
   "cell_type": "code",
   "execution_count": null,
   "metadata": {},
   "outputs": [],
   "source": [
    "# visualize confusion matrix\n",
    "\n",
    "\n",
    "cm = confusion_matrix(y_test, y_RFpred, labels=clf_RF.classes_) # calculate value\n",
    "disp = ConfusionMatrixDisplay(confusion_matrix=cm,              # display\n",
    "                              display_labels=clf_RF.classes_)\n",
    "disp.plot(); \n",
    "\n"
   ]
  },
  {
   "cell_type": "markdown",
   "metadata": {},
   "source": [
    "### Compare uncertainty of Data and Model"
   ]
  },
  {
   "cell_type": "code",
   "execution_count": 7,
   "metadata": {},
   "outputs": [
    {
     "name": "stdout",
     "output_type": "stream",
     "text": [
      "Uncertainty in the data: 0.034\n",
      "Uncertainty in the model: 0.045\n",
      "The model performance is 0.698 ± 0.034 ± 0.045\n"
     ]
    }
   ],
   "source": [
    "params  = {'n_estimators': 476, 'min_samples_split': 2, 'max_features': 'log2', 'max_depth': 17, 'bootstrap': False} \n",
    "\n",
    "clf_RF_val = RandomForestClassifier(**params, random_state = 0)\n",
    "\n",
    "scores = cross_val_score(clf_RF_val, X_train, y_train, cv=5, scoring='accuracy')\n",
    "Udata = scores.std()\n",
    "\n",
    "modAcuRF = []\n",
    "for rs in range(1,6):\n",
    "    clf_RF_val2 = RandomForestClassifier(**params, random_state = random.randrange(rs))\n",
    "    clf_RF_val2.fit(X_train, y_train)\n",
    "    modAcuRF += [accuracy_score(y_test, clf_RF_val2.predict(X_test))]\n",
    "\n",
    "Umodel = np.std(modAcuRF)\n",
    "\n",
    "print(\"Uncertainty in the data: %.3f\" % Udata)\n",
    "print(\"Uncertainty in the model: %.3f\" % Umodel)\n",
    "print(\"The model performance is %.3f ± %.3f ± %.3f\" % (scores.mean(),Udata,Umodel))"
   ]
  },
  {
   "cell_type": "code",
   "execution_count": null,
   "metadata": {},
   "outputs": [],
   "source": [
    "\n",
    "\n",
    "scores = cross_val_score(clf_XGRF, X_new, y, cv=5, scoring='accuracy')\n",
    "Udata = scores.std()\n",
    "\n",
    "modAcuXGRF = []\n",
    "for rs in range(1,6):\n",
    "    model = xgboost.XGBClassifier(random_state=random.randrange(rs), **params)\n",
    "    model.fit(X_train, y_train)\n",
    "    modAcuXGRF += [accuracy_score(y_test, model.predict(X_test))]\n",
    "\n",
    "Umodel = np.std(modAcuXGRF)\n",
    "\n",
    "print(\"Uncertainty in the data: %.3f\" % Udata)\n",
    "print(\"Uncertainty in the model: %.3f\" % Umodel)\n",
    "print(\"The model performance is %.3f ± %.3f ± %.3f\" % (scores.mean(),Udata,Umodel))"
   ]
  },
  {
   "cell_type": "code",
   "execution_count": null,
   "metadata": {},
   "outputs": [],
   "source": []
  }
 ],
 "metadata": {
  "interpreter": {
   "hash": "43fef3abedee1d893beac1d2d118646f520aa845e2b69655f65decb73f4f0136"
  },
  "kernelspec": {
   "display_name": "Python 3 (ipykernel)",
   "language": "python",
   "name": "python3"
  },
  "language_info": {
   "codemirror_mode": {
    "name": "ipython",
    "version": 3
   },
   "file_extension": ".py",
   "mimetype": "text/x-python",
   "name": "python",
   "nbconvert_exporter": "python",
   "pygments_lexer": "ipython3",
   "version": "3.8.11"
  }
 },
 "nbformat": 4,
 "nbformat_minor": 2
}
