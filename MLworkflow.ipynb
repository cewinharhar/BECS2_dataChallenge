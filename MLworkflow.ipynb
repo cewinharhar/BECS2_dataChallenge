{
 "cells": [
  {
   "cell_type": "code",
   "execution_count": 1,
   "metadata": {},
   "outputs": [
    {
     "data": {
      "text/plain": [
       "'\\nusage joblib\\n# save the model: \\njoblib.dump(model , \"model.pkl\")\\n# load the model:\\nmodel = joblib.load(\"model.pkl\")\\n'"
      ]
     },
     "execution_count": 1,
     "metadata": {},
     "output_type": "execute_result"
    }
   ],
   "source": [
    "#import necessary packages\n",
    "import pandas as pd\n",
    "\n",
    "import os\n",
    "import random\n",
    "\n",
    "import matplotlib.pyplot as plt\n",
    "plt.style.use('ggplot')\n",
    "import numpy as np\n",
    "\n",
    "import xgboost\n",
    "\n",
    "\n",
    "from sklearn.metrics import classification_report, accuracy_score\n",
    "from sklearn import metrics \n",
    "from sklearn.model_selection import train_test_split \n",
    "\n",
    "#to save model\n",
    "import joblib\n",
    "\n",
    "\"\"\"\n",
    "usage joblib\n",
    "# save the model: \n",
    "joblib.dump(model , \"model.pkl\")\n",
    "# load the model:\n",
    "model = joblib.load(\"model.pkl\")\n",
    "\"\"\""
   ]
  },
  {
   "cell_type": "code",
   "execution_count": 2,
   "metadata": {},
   "outputs": [
    {
     "data": {
      "text/plain": [
       "'/Users/jonathanrieder/BECS2_dataChallenge'"
      ]
     },
     "execution_count": 2,
     "metadata": {},
     "output_type": "execute_result"
    }
   ],
   "source": [
    "os.getcwd()"
   ]
  },
  {
   "cell_type": "markdown",
   "metadata": {},
   "source": [
    "## We want to have a dataframe with:\n",
    "* X: rows = patients, cols = proteins filled with the protein quantity\n",
    "* y: rows = patients, col  = health condition (healthy, cancer A, cancer B)"
   ]
  },
  {
   "cell_type": "code",
   "execution_count": 6,
   "metadata": {},
   "outputs": [
    {
     "data": {
      "text/plain": [
       "array(['Healthy', 'Prostate Cancer', 'Lung Cancer 2 Squamous',\n",
       "       'Lung Cancer 1 Adeno'], dtype=object)"
      ]
     },
     "execution_count": 6,
     "metadata": {},
     "output_type": "execute_result"
    }
   ],
   "source": [
    "path = \"rawData2/tidy.csv\"\n",
    "#path = r\"rawDataBig\\tidyBig.csv\"\n",
    "tidy = pd.read_csv(path, sep=\",\")\n",
    "\n",
    "tidy.head()\n",
    "\n",
    "tidySub = tidy[[\"R.FileName\", \"uniprot\", \"meanAbu\", \"Group\"]]\n",
    "\n",
    "tidySub.head()\n",
    "\n",
    "tidySub.Group.unique()\n"
   ]
  },
  {
   "cell_type": "markdown",
   "metadata": {},
   "source": [
    "### To feed the data inot a model we need to reshape"
   ]
  },
  {
   "cell_type": "code",
   "execution_count": 7,
   "metadata": {},
   "outputs": [],
   "source": [
    "#reshape data\n",
    "#X data\n",
    "tidyReshaped = tidySub.pivot(index = \"R.FileName\", columns = \"uniprot\", values = \"meanAbu\")\n",
    "tidyReshaped.head()\n",
    "#y condition\n",
    "Group =  tidySub.drop([\"uniprot\", \"meanAbu\"], axis=1)\n",
    "Group = Group.drop_duplicates().reset_index(drop=True)\n",
    "Group.head()\n",
    "\n",
    "#we merge to ensure that the y rows fit the corresponding x rows\n",
    "data = pd.merge(tidyReshaped, Group, how=\"left\", on=\"R.FileName\")\n",
    "\n",
    "#to make df purely numerical\n",
    "data = data.set_index(\"R.FileName\")\n",
    "\n",
    "X = data.iloc[:, :-1]\n",
    "y = data.iloc[:,-1]"
   ]
  },
  {
   "cell_type": "code",
   "execution_count": 8,
   "metadata": {},
   "outputs": [
    {
     "data": {
      "text/html": [
       "<div>\n",
       "<style scoped>\n",
       "    .dataframe tbody tr th:only-of-type {\n",
       "        vertical-align: middle;\n",
       "    }\n",
       "\n",
       "    .dataframe tbody tr th {\n",
       "        vertical-align: top;\n",
       "    }\n",
       "\n",
       "    .dataframe thead th {\n",
       "        text-align: right;\n",
       "    }\n",
       "</style>\n",
       "<table border=\"1\" class=\"dataframe\">\n",
       "  <thead>\n",
       "    <tr style=\"text-align: right;\">\n",
       "      <th></th>\n",
       "      <th>A0A075B6H7</th>\n",
       "      <th>A0A075B6I0</th>\n",
       "      <th>A0A075B6I9</th>\n",
       "      <th>A0A075B6K4</th>\n",
       "      <th>A0A075B6K5</th>\n",
       "      <th>A0A075B6P5</th>\n",
       "      <th>A0A075B6R9</th>\n",
       "      <th>A0A075B6S5</th>\n",
       "      <th>A0A075B6S6</th>\n",
       "      <th>A0A087WSY6</th>\n",
       "      <th>...</th>\n",
       "      <th>Q9Y646</th>\n",
       "      <th>Q9Y678</th>\n",
       "      <th>Q9Y696</th>\n",
       "      <th>Q9Y6C2</th>\n",
       "      <th>Q9Y6E0</th>\n",
       "      <th>Q9Y6E2</th>\n",
       "      <th>Q9Y6N7</th>\n",
       "      <th>Q9Y6R7</th>\n",
       "      <th>Q9Y6Z7</th>\n",
       "      <th>Group</th>\n",
       "    </tr>\n",
       "    <tr>\n",
       "      <th>R.FileName</th>\n",
       "      <th></th>\n",
       "      <th></th>\n",
       "      <th></th>\n",
       "      <th></th>\n",
       "      <th></th>\n",
       "      <th></th>\n",
       "      <th></th>\n",
       "      <th></th>\n",
       "      <th></th>\n",
       "      <th></th>\n",
       "      <th></th>\n",
       "      <th></th>\n",
       "      <th></th>\n",
       "      <th></th>\n",
       "      <th></th>\n",
       "      <th></th>\n",
       "      <th></th>\n",
       "      <th></th>\n",
       "      <th></th>\n",
       "      <th></th>\n",
       "      <th></th>\n",
       "    </tr>\n",
       "  </thead>\n",
       "  <tbody>\n",
       "    <tr>\n",
       "      <th>G_D200423_MDIA_P671_S46_R01</th>\n",
       "      <td>5657.235840</td>\n",
       "      <td>5067.330078</td>\n",
       "      <td>5604.411621</td>\n",
       "      <td>10224.492188</td>\n",
       "      <td>6343.487793</td>\n",
       "      <td>78877.789062</td>\n",
       "      <td>9067.871094</td>\n",
       "      <td>6284.654297</td>\n",
       "      <td>78877.789062</td>\n",
       "      <td>8089.087402</td>\n",
       "      <td>...</td>\n",
       "      <td>206704.000000</td>\n",
       "      <td>9420.396484</td>\n",
       "      <td>115316.203125</td>\n",
       "      <td>91033.523438</td>\n",
       "      <td>10161.599609</td>\n",
       "      <td>8801.833984</td>\n",
       "      <td>33897.933594</td>\n",
       "      <td>3541157.50</td>\n",
       "      <td>1818743.625</td>\n",
       "      <td>Healthy</td>\n",
       "    </tr>\n",
       "    <tr>\n",
       "      <th>G_D200423_MDIA_P671_S47_R01</th>\n",
       "      <td>4197.675781</td>\n",
       "      <td>3745.600830</td>\n",
       "      <td>13051.904297</td>\n",
       "      <td>7744.376465</td>\n",
       "      <td>6467.788574</td>\n",
       "      <td>62091.562500</td>\n",
       "      <td>7366.675293</td>\n",
       "      <td>4680.375000</td>\n",
       "      <td>62091.562500</td>\n",
       "      <td>6077.228516</td>\n",
       "      <td>...</td>\n",
       "      <td>119427.085938</td>\n",
       "      <td>8406.820312</td>\n",
       "      <td>156389.062500</td>\n",
       "      <td>42827.113281</td>\n",
       "      <td>6284.032227</td>\n",
       "      <td>10127.641602</td>\n",
       "      <td>43025.464844</td>\n",
       "      <td>10770114.00</td>\n",
       "      <td>1572191.000</td>\n",
       "      <td>Prostate Cancer</td>\n",
       "    </tr>\n",
       "    <tr>\n",
       "      <th>G_D200423_MDIA_P671_S48_R01</th>\n",
       "      <td>4347.856934</td>\n",
       "      <td>14244.392578</td>\n",
       "      <td>16915.058594</td>\n",
       "      <td>8141.059082</td>\n",
       "      <td>6010.960449</td>\n",
       "      <td>58120.796875</td>\n",
       "      <td>10160.139648</td>\n",
       "      <td>4860.643555</td>\n",
       "      <td>58120.796875</td>\n",
       "      <td>27495.693359</td>\n",
       "      <td>...</td>\n",
       "      <td>188632.921875</td>\n",
       "      <td>8084.767090</td>\n",
       "      <td>49577.316406</td>\n",
       "      <td>38096.230469</td>\n",
       "      <td>11165.591797</td>\n",
       "      <td>6627.731934</td>\n",
       "      <td>41315.085938</td>\n",
       "      <td>5501568.00</td>\n",
       "      <td>1952462.125</td>\n",
       "      <td>Lung Cancer 2 Squamous</td>\n",
       "    </tr>\n",
       "    <tr>\n",
       "      <th>G_D200423_MDIA_P671_S49_R01</th>\n",
       "      <td>5671.628906</td>\n",
       "      <td>17417.154297</td>\n",
       "      <td>22845.427734</td>\n",
       "      <td>11024.160156</td>\n",
       "      <td>11237.347656</td>\n",
       "      <td>63608.382812</td>\n",
       "      <td>8253.462891</td>\n",
       "      <td>6382.974609</td>\n",
       "      <td>63608.382812</td>\n",
       "      <td>8474.129883</td>\n",
       "      <td>...</td>\n",
       "      <td>218763.578125</td>\n",
       "      <td>62972.187500</td>\n",
       "      <td>371774.625000</td>\n",
       "      <td>60473.968750</td>\n",
       "      <td>124898.390625</td>\n",
       "      <td>101776.609375</td>\n",
       "      <td>22992.140625</td>\n",
       "      <td>7576046.00</td>\n",
       "      <td>1396170.625</td>\n",
       "      <td>Lung Cancer 2 Squamous</td>\n",
       "    </tr>\n",
       "    <tr>\n",
       "      <th>G_D200423_MDIA_P671_S50_R01</th>\n",
       "      <td>5149.610840</td>\n",
       "      <td>42474.027344</td>\n",
       "      <td>28125.232422</td>\n",
       "      <td>9379.673828</td>\n",
       "      <td>4277.265625</td>\n",
       "      <td>236357.781250</td>\n",
       "      <td>14788.560547</td>\n",
       "      <td>12092.203125</td>\n",
       "      <td>236357.781250</td>\n",
       "      <td>18549.763672</td>\n",
       "      <td>...</td>\n",
       "      <td>189610.531250</td>\n",
       "      <td>11624.708984</td>\n",
       "      <td>75535.765625</td>\n",
       "      <td>14131.162109</td>\n",
       "      <td>25577.009766</td>\n",
       "      <td>12085.042969</td>\n",
       "      <td>18592.796875</td>\n",
       "      <td>3925265.25</td>\n",
       "      <td>1604530.250</td>\n",
       "      <td>Lung Cancer 1 Adeno</td>\n",
       "    </tr>\n",
       "    <tr>\n",
       "      <th>G_D200423_MDIA_P671_S51_R01</th>\n",
       "      <td>5329.400391</td>\n",
       "      <td>27233.929688</td>\n",
       "      <td>11272.750000</td>\n",
       "      <td>9910.237305</td>\n",
       "      <td>15898.846680</td>\n",
       "      <td>133607.062500</td>\n",
       "      <td>32330.837891</td>\n",
       "      <td>6566.350098</td>\n",
       "      <td>133607.062500</td>\n",
       "      <td>24511.050781</td>\n",
       "      <td>...</td>\n",
       "      <td>94951.812500</td>\n",
       "      <td>24986.076172</td>\n",
       "      <td>150176.875000</td>\n",
       "      <td>50251.832031</td>\n",
       "      <td>46977.371094</td>\n",
       "      <td>54664.382812</td>\n",
       "      <td>26050.025391</td>\n",
       "      <td>3794282.25</td>\n",
       "      <td>905443.625</td>\n",
       "      <td>Lung Cancer 2 Squamous</td>\n",
       "    </tr>\n",
       "    <tr>\n",
       "      <th>G_D200423_MDIA_P671_S52_R01</th>\n",
       "      <td>9013.053711</td>\n",
       "      <td>12684.507812</td>\n",
       "      <td>12015.651367</td>\n",
       "      <td>4598.562988</td>\n",
       "      <td>7420.737793</td>\n",
       "      <td>124573.000000</td>\n",
       "      <td>45591.269531</td>\n",
       "      <td>10683.921875</td>\n",
       "      <td>124573.000000</td>\n",
       "      <td>8143.407227</td>\n",
       "      <td>...</td>\n",
       "      <td>138678.281250</td>\n",
       "      <td>7974.915527</td>\n",
       "      <td>110107.382812</td>\n",
       "      <td>58535.144531</td>\n",
       "      <td>19417.583984</td>\n",
       "      <td>4685.333008</td>\n",
       "      <td>19738.373047</td>\n",
       "      <td>3603603.50</td>\n",
       "      <td>1308536.000</td>\n",
       "      <td>Lung Cancer 1 Adeno</td>\n",
       "    </tr>\n",
       "    <tr>\n",
       "      <th>G_D200423_MDIA_P671_S54_R01</th>\n",
       "      <td>6727.961914</td>\n",
       "      <td>9793.064453</td>\n",
       "      <td>15581.037109</td>\n",
       "      <td>3513.179443</td>\n",
       "      <td>5576.563477</td>\n",
       "      <td>104598.046875</td>\n",
       "      <td>44105.175781</td>\n",
       "      <td>15252.457031</td>\n",
       "      <td>104598.046875</td>\n",
       "      <td>43302.921875</td>\n",
       "      <td>...</td>\n",
       "      <td>189195.843750</td>\n",
       "      <td>4802.375488</td>\n",
       "      <td>18501.699219</td>\n",
       "      <td>31682.830078</td>\n",
       "      <td>10632.224609</td>\n",
       "      <td>5316.687988</td>\n",
       "      <td>24904.435547</td>\n",
       "      <td>3765874.50</td>\n",
       "      <td>1725554.750</td>\n",
       "      <td>Healthy</td>\n",
       "    </tr>\n",
       "    <tr>\n",
       "      <th>G_D200423_MDIA_P671_S55_R01</th>\n",
       "      <td>9219.068359</td>\n",
       "      <td>7216.154297</td>\n",
       "      <td>10831.267578</td>\n",
       "      <td>16914.802734</td>\n",
       "      <td>7640.093750</td>\n",
       "      <td>104121.570312</td>\n",
       "      <td>10030.084961</td>\n",
       "      <td>17989.990234</td>\n",
       "      <td>104121.570312</td>\n",
       "      <td>13876.768555</td>\n",
       "      <td>...</td>\n",
       "      <td>203634.281250</td>\n",
       "      <td>7062.212402</td>\n",
       "      <td>57738.902344</td>\n",
       "      <td>7126.300781</td>\n",
       "      <td>11650.108398</td>\n",
       "      <td>17223.146484</td>\n",
       "      <td>38963.941406</td>\n",
       "      <td>6202386.50</td>\n",
       "      <td>1136114.000</td>\n",
       "      <td>Healthy</td>\n",
       "    </tr>\n",
       "    <tr>\n",
       "      <th>G_D200423_MDIA_P671_S56_R01</th>\n",
       "      <td>14596.128906</td>\n",
       "      <td>11082.665039</td>\n",
       "      <td>11501.261719</td>\n",
       "      <td>7384.404297</td>\n",
       "      <td>11988.142578</td>\n",
       "      <td>348956.406250</td>\n",
       "      <td>32946.796875</td>\n",
       "      <td>7532.807129</td>\n",
       "      <td>348956.406250</td>\n",
       "      <td>20028.371094</td>\n",
       "      <td>...</td>\n",
       "      <td>178141.796875</td>\n",
       "      <td>29564.814453</td>\n",
       "      <td>234104.062500</td>\n",
       "      <td>38276.613281</td>\n",
       "      <td>74351.875000</td>\n",
       "      <td>41472.058594</td>\n",
       "      <td>30146.722656</td>\n",
       "      <td>2980078.50</td>\n",
       "      <td>1347813.125</td>\n",
       "      <td>Healthy</td>\n",
       "    </tr>\n",
       "  </tbody>\n",
       "</table>\n",
       "<p>10 rows × 1793 columns</p>\n",
       "</div>"
      ],
      "text/plain": [
       "                               A0A075B6H7    A0A075B6I0    A0A075B6I9  \\\n",
       "R.FileName                                                              \n",
       "G_D200423_MDIA_P671_S46_R01   5657.235840   5067.330078   5604.411621   \n",
       "G_D200423_MDIA_P671_S47_R01   4197.675781   3745.600830  13051.904297   \n",
       "G_D200423_MDIA_P671_S48_R01   4347.856934  14244.392578  16915.058594   \n",
       "G_D200423_MDIA_P671_S49_R01   5671.628906  17417.154297  22845.427734   \n",
       "G_D200423_MDIA_P671_S50_R01   5149.610840  42474.027344  28125.232422   \n",
       "G_D200423_MDIA_P671_S51_R01   5329.400391  27233.929688  11272.750000   \n",
       "G_D200423_MDIA_P671_S52_R01   9013.053711  12684.507812  12015.651367   \n",
       "G_D200423_MDIA_P671_S54_R01   6727.961914   9793.064453  15581.037109   \n",
       "G_D200423_MDIA_P671_S55_R01   9219.068359   7216.154297  10831.267578   \n",
       "G_D200423_MDIA_P671_S56_R01  14596.128906  11082.665039  11501.261719   \n",
       "\n",
       "                               A0A075B6K4    A0A075B6K5     A0A075B6P5  \\\n",
       "R.FileName                                                               \n",
       "G_D200423_MDIA_P671_S46_R01  10224.492188   6343.487793   78877.789062   \n",
       "G_D200423_MDIA_P671_S47_R01   7744.376465   6467.788574   62091.562500   \n",
       "G_D200423_MDIA_P671_S48_R01   8141.059082   6010.960449   58120.796875   \n",
       "G_D200423_MDIA_P671_S49_R01  11024.160156  11237.347656   63608.382812   \n",
       "G_D200423_MDIA_P671_S50_R01   9379.673828   4277.265625  236357.781250   \n",
       "G_D200423_MDIA_P671_S51_R01   9910.237305  15898.846680  133607.062500   \n",
       "G_D200423_MDIA_P671_S52_R01   4598.562988   7420.737793  124573.000000   \n",
       "G_D200423_MDIA_P671_S54_R01   3513.179443   5576.563477  104598.046875   \n",
       "G_D200423_MDIA_P671_S55_R01  16914.802734   7640.093750  104121.570312   \n",
       "G_D200423_MDIA_P671_S56_R01   7384.404297  11988.142578  348956.406250   \n",
       "\n",
       "                               A0A075B6R9    A0A075B6S5     A0A075B6S6  \\\n",
       "R.FileName                                                               \n",
       "G_D200423_MDIA_P671_S46_R01   9067.871094   6284.654297   78877.789062   \n",
       "G_D200423_MDIA_P671_S47_R01   7366.675293   4680.375000   62091.562500   \n",
       "G_D200423_MDIA_P671_S48_R01  10160.139648   4860.643555   58120.796875   \n",
       "G_D200423_MDIA_P671_S49_R01   8253.462891   6382.974609   63608.382812   \n",
       "G_D200423_MDIA_P671_S50_R01  14788.560547  12092.203125  236357.781250   \n",
       "G_D200423_MDIA_P671_S51_R01  32330.837891   6566.350098  133607.062500   \n",
       "G_D200423_MDIA_P671_S52_R01  45591.269531  10683.921875  124573.000000   \n",
       "G_D200423_MDIA_P671_S54_R01  44105.175781  15252.457031  104598.046875   \n",
       "G_D200423_MDIA_P671_S55_R01  10030.084961  17989.990234  104121.570312   \n",
       "G_D200423_MDIA_P671_S56_R01  32946.796875   7532.807129  348956.406250   \n",
       "\n",
       "                               A0A087WSY6  ...         Q9Y646        Q9Y678  \\\n",
       "R.FileName                                 ...                                \n",
       "G_D200423_MDIA_P671_S46_R01   8089.087402  ...  206704.000000   9420.396484   \n",
       "G_D200423_MDIA_P671_S47_R01   6077.228516  ...  119427.085938   8406.820312   \n",
       "G_D200423_MDIA_P671_S48_R01  27495.693359  ...  188632.921875   8084.767090   \n",
       "G_D200423_MDIA_P671_S49_R01   8474.129883  ...  218763.578125  62972.187500   \n",
       "G_D200423_MDIA_P671_S50_R01  18549.763672  ...  189610.531250  11624.708984   \n",
       "G_D200423_MDIA_P671_S51_R01  24511.050781  ...   94951.812500  24986.076172   \n",
       "G_D200423_MDIA_P671_S52_R01   8143.407227  ...  138678.281250   7974.915527   \n",
       "G_D200423_MDIA_P671_S54_R01  43302.921875  ...  189195.843750   4802.375488   \n",
       "G_D200423_MDIA_P671_S55_R01  13876.768555  ...  203634.281250   7062.212402   \n",
       "G_D200423_MDIA_P671_S56_R01  20028.371094  ...  178141.796875  29564.814453   \n",
       "\n",
       "                                    Q9Y696        Q9Y6C2         Q9Y6E0  \\\n",
       "R.FileName                                                                \n",
       "G_D200423_MDIA_P671_S46_R01  115316.203125  91033.523438   10161.599609   \n",
       "G_D200423_MDIA_P671_S47_R01  156389.062500  42827.113281    6284.032227   \n",
       "G_D200423_MDIA_P671_S48_R01   49577.316406  38096.230469   11165.591797   \n",
       "G_D200423_MDIA_P671_S49_R01  371774.625000  60473.968750  124898.390625   \n",
       "G_D200423_MDIA_P671_S50_R01   75535.765625  14131.162109   25577.009766   \n",
       "G_D200423_MDIA_P671_S51_R01  150176.875000  50251.832031   46977.371094   \n",
       "G_D200423_MDIA_P671_S52_R01  110107.382812  58535.144531   19417.583984   \n",
       "G_D200423_MDIA_P671_S54_R01   18501.699219  31682.830078   10632.224609   \n",
       "G_D200423_MDIA_P671_S55_R01   57738.902344   7126.300781   11650.108398   \n",
       "G_D200423_MDIA_P671_S56_R01  234104.062500  38276.613281   74351.875000   \n",
       "\n",
       "                                    Q9Y6E2        Q9Y6N7       Q9Y6R7  \\\n",
       "R.FileName                                                              \n",
       "G_D200423_MDIA_P671_S46_R01    8801.833984  33897.933594   3541157.50   \n",
       "G_D200423_MDIA_P671_S47_R01   10127.641602  43025.464844  10770114.00   \n",
       "G_D200423_MDIA_P671_S48_R01    6627.731934  41315.085938   5501568.00   \n",
       "G_D200423_MDIA_P671_S49_R01  101776.609375  22992.140625   7576046.00   \n",
       "G_D200423_MDIA_P671_S50_R01   12085.042969  18592.796875   3925265.25   \n",
       "G_D200423_MDIA_P671_S51_R01   54664.382812  26050.025391   3794282.25   \n",
       "G_D200423_MDIA_P671_S52_R01    4685.333008  19738.373047   3603603.50   \n",
       "G_D200423_MDIA_P671_S54_R01    5316.687988  24904.435547   3765874.50   \n",
       "G_D200423_MDIA_P671_S55_R01   17223.146484  38963.941406   6202386.50   \n",
       "G_D200423_MDIA_P671_S56_R01   41472.058594  30146.722656   2980078.50   \n",
       "\n",
       "                                  Q9Y6Z7                   Group  \n",
       "R.FileName                                                        \n",
       "G_D200423_MDIA_P671_S46_R01  1818743.625                 Healthy  \n",
       "G_D200423_MDIA_P671_S47_R01  1572191.000         Prostate Cancer  \n",
       "G_D200423_MDIA_P671_S48_R01  1952462.125  Lung Cancer 2 Squamous  \n",
       "G_D200423_MDIA_P671_S49_R01  1396170.625  Lung Cancer 2 Squamous  \n",
       "G_D200423_MDIA_P671_S50_R01  1604530.250     Lung Cancer 1 Adeno  \n",
       "G_D200423_MDIA_P671_S51_R01   905443.625  Lung Cancer 2 Squamous  \n",
       "G_D200423_MDIA_P671_S52_R01  1308536.000     Lung Cancer 1 Adeno  \n",
       "G_D200423_MDIA_P671_S54_R01  1725554.750                 Healthy  \n",
       "G_D200423_MDIA_P671_S55_R01  1136114.000                 Healthy  \n",
       "G_D200423_MDIA_P671_S56_R01  1347813.125                 Healthy  \n",
       "\n",
       "[10 rows x 1793 columns]"
      ]
     },
     "execution_count": 8,
     "metadata": {},
     "output_type": "execute_result"
    }
   ],
   "source": [
    "data[:10]"
   ]
  },
  {
   "cell_type": "markdown",
   "metadata": {},
   "source": [
    "### Now that the data is prepared we continue with the following steps:\n",
    "* Create pipeline for imputing, scaling !! **Scaling is not needed for Random Forest**\n",
    "* (https://towardsdatascience.com/how-data-normalization-affects-your-random-forest-algorithm-fbc6753b4ddf)\n",
    "* Creation of training, validation and test sets\n",
    "* Feature Selection, Engineering\n",
    "* Model Selection"
   ]
  },
  {
   "cell_type": "code",
   "execution_count": 9,
   "metadata": {},
   "outputs": [],
   "source": [
    "#Make pipeline\n",
    "from sklearn.pipeline import Pipeline\n",
    "from sklearn.impute import SimpleImputer\n",
    "\n",
    "dataPrepPipe = Pipeline([\n",
    "    ('imputer', SimpleImputer(strategy='median')),\n",
    "    ]) \n",
    "\n",
    "#X is already purely numerical\n",
    "X = dataPrepPipe.fit_transform(X)"
   ]
  },
  {
   "cell_type": "code",
   "execution_count": 10,
   "metadata": {},
   "outputs": [
    {
     "name": "stdout",
     "output_type": "stream",
     "text": [
      "[0 3 2 2 1 2 1 0 0 0 1 2 3 0 1 0 3 0 2 0 1 3 0 0 0 3 0 2 0 0 1 0 1 3]\n"
     ]
    }
   ],
   "source": [
    "# Encode target labels\n",
    "from sklearn import preprocessing\n",
    "\n",
    "labEnc = preprocessing.LabelEncoder() \n",
    "\n",
    "# apply label encoding\n",
    "y = labEnc.fit_transform(y) \n",
    "print(y)"
   ]
  },
  {
   "cell_type": "code",
   "execution_count": 47,
   "metadata": {},
   "outputs": [
    {
     "data": {
      "text/plain": [
       "['Models/X.pkl']"
      ]
     },
     "execution_count": 47,
     "metadata": {},
     "output_type": "execute_result"
    }
   ],
   "source": [
    "# Save X and y for next session\n",
    "\n",
    "joblib.dump(y, \"Models/y.pkl\")\n",
    "joblib.dump(X, \"Models/X.pkl\")\n"
   ]
  },
  {
   "cell_type": "code",
   "execution_count": 48,
   "metadata": {},
   "outputs": [],
   "source": [
    "# load saved X and y \n",
    "\n",
    "y = joblib.load(\"Models/y.pkl\")\n",
    "X = joblib.load(\"Models/X.pkl\")\n"
   ]
  },
  {
   "cell_type": "code",
   "execution_count": 11,
   "metadata": {},
   "outputs": [
    {
     "data": {
      "text/plain": [
       "(34, 373)"
      ]
     },
     "execution_count": 11,
     "metadata": {},
     "output_type": "execute_result"
    },
    {
     "data": {
      "image/png": "[encoded data removed]",
      "text/plain": [
       "<Figure size 432x288 with 1 Axes>"
      ]
     },
     "metadata": {
      "needs_background": "light"
     },
     "output_type": "display_data"
    }
   ],
   "source": [
    "# Feature Selection\n",
    "\n",
    "\"\"\"\n",
    "Can be used in pipeline\n",
    "clf = Pipeline([\n",
    "  ('feature_selection', SelectFromModel(LinearSVC(penalty=\"l1\"))),\n",
    "  ('classification', RandomForestClassifier())\n",
    "])\n",
    "\"\"\"\n",
    "from sklearn.ensemble import RandomForestClassifier\n",
    "from sklearn.feature_selection import SelectFromModel #checkout description https://scikit-learn.org/stable/modules/feature_selection.html#tree-based-feature-selection\n",
    "\n",
    "#create Random Forest classifier with default hyperparameters\n",
    "raFo = RandomForestClassifier()\n",
    "raFo = raFo.fit(X, y)\n",
    "\n",
    "#checkout importance in a histogram\n",
    "plt.hist(raFo.feature_importances_, bins=100)\n",
    "\n",
    "#get the reduced X\n",
    "model = SelectFromModel(estimator = raFo, prefit=True)\n",
    "X_new = model.transform(X)\n",
    "X_new.shape   "
   ]
  },
  {
   "cell_type": "code",
   "execution_count": 12,
   "metadata": {},
   "outputs": [
    {
     "data": {
      "image/png": "[encoded data removed]",
      "text/plain": [
       "<Figure size 432x288 with 1 Axes>"
      ]
     },
     "metadata": {
      "needs_background": "light"
     },
     "output_type": "display_data"
    },
    {
     "data": {
      "text/plain": [
       "' plt.rcParams[\"figure.figsize\"] = (10,5)\\nplt.bar(raFo.feature_names, raFo.feature_importances_)\\nplt.xlabel(\\'Feature Labels\\')\\nplt.ylabel(\\'Feature Importances\\')\\nplt.title(\\'Comparison of different Feature Importances\\'); '"
      ]
     },
     "execution_count": 12,
     "metadata": {},
     "output_type": "execute_result"
    }
   ],
   "source": [
    "# Visualize feature importance\n",
    "\n",
    "importances = raFo.feature_importances_\n",
    "\n",
    "std = np.std([tree.feature_importances_ for tree in raFo.estimators_], axis=0)\n",
    "std.sort()\n",
    "\n",
    "forest_importances = pd.Series(importances)\n",
    "\n",
    "fig, ax = plt.subplots()\n",
    "forest_importances.plot.bar(yerr=std, ax=ax)\n",
    "ax.set_title(\"Feature importances using MDI\")\n",
    "ax.set_ylabel(\"Mean decrease in impurity\")\n",
    "ax.get_xaxis().set_visible(False)\n",
    "fig.tight_layout()\n",
    "plt.show()\n",
    "\n",
    "\"\"\" plt.rcParams[\"figure.figsize\"] = (10,5)\n",
    "plt.bar(raFo.feature_names, raFo.feature_importances_)\n",
    "plt.xlabel('Feature Labels')\n",
    "plt.ylabel('Feature Importances')\n",
    "plt.title('Comparison of different Feature Importances'); \"\"\""
   ]
  },
  {
   "cell_type": "markdown",
   "metadata": {},
   "source": [
    "## Time to train the model\n"
   ]
  },
  {
   "cell_type": "code",
   "execution_count": 13,
   "metadata": {},
   "outputs": [
    {
     "name": "stderr",
     "output_type": "stream",
     "text": [
      "/Users/jonathanrieder/opt/anaconda3/envs/becs2/lib/python3.9/site-packages/sklearn/base.py:329: UserWarning: Trying to unpickle estimator DecisionTreeClassifier from version 1.0 when using version 1.0.2. This might lead to breaking code or invalid results. Use at your own risk. For more info please refer to:\n",
      "https://scikit-learn.org/stable/modules/model_persistence.html#security-maintainability-limitations\n",
      "  warnings.warn(\n",
      "/Users/jonathanrieder/opt/anaconda3/envs/becs2/lib/python3.9/site-packages/sklearn/base.py:329: UserWarning: Trying to unpickle estimator RandomForestClassifier from version 1.0 when using version 1.0.2. This might lead to breaking code or invalid results. Use at your own risk. For more info please refer to:\n",
      "https://scikit-learn.org/stable/modules/model_persistence.html#security-maintainability-limitations\n",
      "  warnings.warn(\n"
     ]
    }
   ],
   "source": [
    "# import already trained model\n",
    "\n",
    "clf_RF = joblib.load(\"Models/clf_RF_X_new.pkl\")\n",
    "clf_XGRF = joblib.load(\"Models/clf_XGRF_X_new.pkl\")\n"
   ]
  },
  {
   "cell_type": "markdown",
   "metadata": {},
   "source": [
    "### Random Forest"
   ]
  },
  {
   "cell_type": "code",
   "execution_count": 14,
   "metadata": {},
   "outputs": [
    {
     "name": "stdout",
     "output_type": "stream",
     "text": [
      "Accuracy Random Forest: 0.8571428571428571\n",
      "              precision    recall  f1-score   support\n",
      "\n",
      "           0       1.00      1.00      1.00         4\n",
      "           1       1.00      0.50      0.67         2\n",
      "           2       1.00      1.00      1.00         1\n",
      "           3       0.00      0.00      0.00         0\n",
      "\n",
      "    accuracy                           0.86         7\n",
      "   macro avg       0.75      0.62      0.67         7\n",
      "weighted avg       1.00      0.86      0.90         7\n",
      "\n"
     ]
    },
    {
     "name": "stderr",
     "output_type": "stream",
     "text": [
      "/Users/jonathanrieder/opt/anaconda3/envs/becs2/lib/python3.9/site-packages/sklearn/metrics/_classification.py:1318: UndefinedMetricWarning: Recall and F-score are ill-defined and being set to 0.0 in labels with no true samples. Use `zero_division` parameter to control this behavior.\n",
      "  _warn_prf(average, modifier, msg_start, len(result))\n",
      "/Users/jonathanrieder/opt/anaconda3/envs/becs2/lib/python3.9/site-packages/sklearn/metrics/_classification.py:1318: UndefinedMetricWarning: Recall and F-score are ill-defined and being set to 0.0 in labels with no true samples. Use `zero_division` parameter to control this behavior.\n",
      "  _warn_prf(average, modifier, msg_start, len(result))\n",
      "/Users/jonathanrieder/opt/anaconda3/envs/becs2/lib/python3.9/site-packages/sklearn/metrics/_classification.py:1318: UndefinedMetricWarning: Recall and F-score are ill-defined and being set to 0.0 in labels with no true samples. Use `zero_division` parameter to control this behavior.\n",
      "  _warn_prf(average, modifier, msg_start, len(result))\n"
     ]
    }
   ],
   "source": [
    "#split\n",
    "from sklearn.model_selection import train_test_split\n",
    "\n",
    "X_train, X_test, y_train, y_test = train_test_split(X_new, y, test_size=0.2, random_state=3)\n",
    "\n",
    "clf_RF = RandomForestClassifier(random_state=1)\n",
    "clf_RF.fit(X_train ,y_train)\n",
    "y_RFpred = clf_RF.predict(X_test)\n",
    "\n",
    "\n",
    "\n",
    "\n",
    "# Model Accuracy, how often is the classifier correct?\n",
    "print(\"Accuracy Random Forest:\",metrics.accuracy_score(y_test , y_RFpred))\n",
    "print(classification_report(y_test, y_RFpred))\n"
   ]
  },
  {
   "cell_type": "markdown",
   "metadata": {},
   "source": [
    "### XGBoost Random Forest"
   ]
  },
  {
   "cell_type": "code",
   "execution_count": 15,
   "metadata": {},
   "outputs": [
    {
     "name": "stdout",
     "output_type": "stream",
     "text": [
      "[12:35:32] WARNING: /Users/runner/miniforge3/conda-bld/xgboost-split_1637426408905/work/src/learner.cc:576: \n",
      "Parameters: { \"boosting\", \"feature_fraction\", \"metric\", \"num_iterations\", \"scale_pos_weight\" } might not be used.\n",
      "\n",
      "  This could be a false alarm, with some parameters getting used by language bindings but\n",
      "  then being mistakenly passed down to XGBoost core, or some parameter actually being used\n",
      "  but getting flagged wrongly here. Please open an issue if you find any such cases.\n",
      "\n",
      "\n",
      "Accuracy XGBoost Random Forest: 0.8571428571428571\n",
      "              precision    recall  f1-score   support\n",
      "\n",
      "           0       1.00      1.00      1.00         4\n",
      "           1       1.00      0.50      0.67         2\n",
      "           2       1.00      1.00      1.00         1\n",
      "           3       0.00      0.00      0.00         0\n",
      "\n",
      "    accuracy                           0.86         7\n",
      "   macro avg       0.75      0.62      0.67         7\n",
      "weighted avg       1.00      0.86      0.90         7\n",
      "\n"
     ]
    },
    {
     "name": "stderr",
     "output_type": "stream",
     "text": [
      "/Users/jonathanrieder/opt/anaconda3/envs/becs2/lib/python3.9/site-packages/sklearn/metrics/_classification.py:1318: UndefinedMetricWarning: Recall and F-score are ill-defined and being set to 0.0 in labels with no true samples. Use `zero_division` parameter to control this behavior.\n",
      "  _warn_prf(average, modifier, msg_start, len(result))\n",
      "/Users/jonathanrieder/opt/anaconda3/envs/becs2/lib/python3.9/site-packages/sklearn/metrics/_classification.py:1318: UndefinedMetricWarning: Recall and F-score are ill-defined and being set to 0.0 in labels with no true samples. Use `zero_division` parameter to control this behavior.\n",
      "  _warn_prf(average, modifier, msg_start, len(result))\n",
      "/Users/jonathanrieder/opt/anaconda3/envs/becs2/lib/python3.9/site-packages/sklearn/metrics/_classification.py:1318: UndefinedMetricWarning: Recall and F-score are ill-defined and being set to 0.0 in labels with no true samples. Use `zero_division` parameter to control this behavior.\n",
      "  _warn_prf(average, modifier, msg_start, len(result))\n"
     ]
    }
   ],
   "source": [
    "params = dict(tree_method=\"exact\", \n",
    "                num_class=7,\n",
    "                learning_rate=0.1,\n",
    "                num_iterations=1000,\n",
    "                max_depth=10,\n",
    "                feature_fraction=0.7, \n",
    "                scale_pos_weight=1.5,\n",
    "                boosting='gbdt',\n",
    "                metric='multiclass',\n",
    "                eval_metric='mlogloss',\n",
    "                use_label_encoder =False)\n",
    "\n",
    "clf_XGRF = xgboost.XGBClassifier(random_state=1, **params)\n",
    "\n",
    "clf_XGRF.fit(X_train ,y_train)\n",
    "y_XGRFpred = clf_XGRF.predict(X_test)\n",
    "\n",
    "print(\"Accuracy XGBoost Random Forest:\",metrics.accuracy_score(y_test , y_XGRFpred))\n",
    "print(classification_report(y_test, y_XGRFpred))"
   ]
  },
  {
   "cell_type": "code",
   "execution_count": 71,
   "metadata": {},
   "outputs": [
    {
     "data": {
      "text/plain": [
       "['Models/clf_XGRF_X_new.pkl']"
      ]
     },
     "execution_count": 71,
     "metadata": {},
     "output_type": "execute_result"
    }
   ],
   "source": [
    "#save the model\n",
    "joblib.dump(clf_RF, \"Models/clf_RF_X_new.pkl\")\n",
    "joblib.dump(clf_XGRF, \"Models/clf_XGRF_X_new.pkl\")"
   ]
  },
  {
   "cell_type": "code",
   "execution_count": 16,
   "metadata": {},
   "outputs": [
    {
     "data": {
      "image/png": "[encoded data removed]",
      "text/plain": [
       "<Figure size 432x288 with 2 Axes>"
      ]
     },
     "metadata": {
      "needs_background": "light"
     },
     "output_type": "display_data"
    }
   ],
   "source": [
    "# visualize confusion matrix\n",
    "from sklearn.metrics import confusion_matrix, ConfusionMatrixDisplay\n",
    "\n",
    "cm = confusion_matrix(y_test, y_RFpred, labels=clf_RF.classes_) # calculate value\n",
    "disp = ConfusionMatrixDisplay(confusion_matrix=cm,              # display\n",
    "                              display_labels=clf_RF.classes_)\n",
    "disp.plot(); \n",
    "\n"
   ]
  },
  {
   "cell_type": "markdown",
   "metadata": {},
   "source": [
    "## Compare uncertainty of Data and Model"
   ]
  },
  {
   "cell_type": "code",
   "execution_count": 17,
   "metadata": {},
   "outputs": [
    {
     "name": "stdout",
     "output_type": "stream",
     "text": [
      "Uncertainty in the data: 0.139\n",
      "Uncertainty in the model: 0.000\n",
      "The model performance is 0.676 ± 0.139 ± 0.000\n"
     ]
    }
   ],
   "source": [
    "from sklearn.model_selection import cross_val_score\n",
    "\n",
    "scores = cross_val_score(clf_RF, X_new, y, cv=5, scoring='accuracy')\n",
    "Udata = scores.std()\n",
    "\n",
    "modAcuRF = []\n",
    "for rs in range(1,6):\n",
    "    model = RandomForestClassifier(random_state=random.randrange(rs))\n",
    "    model.fit(X_train, y_train)\n",
    "    modAcuRF += [accuracy_score(y_test, model.predict(X_test))]\n",
    "\n",
    "Umodel = np.std(modAcuRF)\n",
    "\n",
    "print(\"Uncertainty in the data: %.3f\" % Udata)\n",
    "print(\"Uncertainty in the model: %.3f\" % Umodel)\n",
    "print(\"The model performance is %.3f ± %.3f ± %.3f\" % (scores.mean(),Udata,Umodel))"
   ]
  },
  {
   "cell_type": "code",
   "execution_count": 18,
   "metadata": {},
   "outputs": [
    {
     "name": "stdout",
     "output_type": "stream",
     "text": [
      "[12:36:01] WARNING: /Users/runner/miniforge3/conda-bld/xgboost-split_1637426408905/work/src/learner.cc:576: \n",
      "Parameters: { \"boosting\", \"feature_fraction\", \"metric\", \"num_iterations\", \"scale_pos_weight\" } might not be used.\n",
      "\n",
      "  This could be a false alarm, with some parameters getting used by language bindings but\n",
      "  then being mistakenly passed down to XGBoost core, or some parameter actually being used\n",
      "  but getting flagged wrongly here. Please open an issue if you find any such cases.\n",
      "\n",
      "\n",
      "[12:36:01] WARNING: /Users/runner/miniforge3/conda-bld/xgboost-split_1637426408905/work/src/learner.cc:576: \n",
      "Parameters: { \"boosting\", \"feature_fraction\", \"metric\", \"num_iterations\", \"scale_pos_weight\" } might not be used.\n",
      "\n",
      "  This could be a false alarm, with some parameters getting used by language bindings but\n",
      "  then being mistakenly passed down to XGBoost core, or some parameter actually being used\n",
      "  but getting flagged wrongly here. Please open an issue if you find any such cases.\n",
      "\n",
      "\n",
      "[12:36:02] WARNING: /Users/runner/miniforge3/conda-bld/xgboost-split_1637426408905/work/src/learner.cc:576: \n",
      "Parameters: { \"boosting\", \"feature_fraction\", \"metric\", \"num_iterations\", \"scale_pos_weight\" } might not be used.\n",
      "\n",
      "  This could be a false alarm, with some parameters getting used by language bindings but\n",
      "  then being mistakenly passed down to XGBoost core, or some parameter actually being used\n",
      "  but getting flagged wrongly here. Please open an issue if you find any such cases.\n",
      "\n",
      "\n",
      "[12:36:02] WARNING: /Users/runner/miniforge3/conda-bld/xgboost-split_1637426408905/work/src/learner.cc:576: \n",
      "Parameters: { \"boosting\", \"feature_fraction\", \"metric\", \"num_iterations\", \"scale_pos_weight\" } might not be used.\n",
      "\n",
      "  This could be a false alarm, with some parameters getting used by language bindings but\n",
      "  then being mistakenly passed down to XGBoost core, or some parameter actually being used\n",
      "  but getting flagged wrongly here. Please open an issue if you find any such cases.\n",
      "\n",
      "\n",
      "[12:36:02] WARNING: /Users/runner/miniforge3/conda-bld/xgboost-split_1637426408905/work/src/learner.cc:576: \n",
      "Parameters: { \"boosting\", \"feature_fraction\", \"metric\", \"num_iterations\", \"scale_pos_weight\" } might not be used.\n",
      "\n",
      "  This could be a false alarm, with some parameters getting used by language bindings but\n",
      "  then being mistakenly passed down to XGBoost core, or some parameter actually being used\n",
      "  but getting flagged wrongly here. Please open an issue if you find any such cases.\n",
      "\n",
      "\n",
      "[12:36:02] WARNING: /Users/runner/miniforge3/conda-bld/xgboost-split_1637426408905/work/src/learner.cc:576: \n",
      "Parameters: { \"boosting\", \"feature_fraction\", \"metric\", \"num_iterations\", \"scale_pos_weight\" } might not be used.\n",
      "\n",
      "  This could be a false alarm, with some parameters getting used by language bindings but\n",
      "  then being mistakenly passed down to XGBoost core, or some parameter actually being used\n",
      "  but getting flagged wrongly here. Please open an issue if you find any such cases.\n",
      "\n",
      "\n",
      "[12:36:03] WARNING: /Users/runner/miniforge3/conda-bld/xgboost-split_1637426408905/work/src/learner.cc:576: \n",
      "Parameters: { \"boosting\", \"feature_fraction\", \"metric\", \"num_iterations\", \"scale_pos_weight\" } might not be used.\n",
      "\n",
      "  This could be a false alarm, with some parameters getting used by language bindings but\n",
      "  then being mistakenly passed down to XGBoost core, or some parameter actually being used\n",
      "  but getting flagged wrongly here. Please open an issue if you find any such cases.\n",
      "\n",
      "\n",
      "[12:36:03] WARNING: /Users/runner/miniforge3/conda-bld/xgboost-split_1637426408905/work/src/learner.cc:576: \n",
      "Parameters: { \"boosting\", \"feature_fraction\", \"metric\", \"num_iterations\", \"scale_pos_weight\" } might not be used.\n",
      "\n",
      "  This could be a false alarm, with some parameters getting used by language bindings but\n",
      "  then being mistakenly passed down to XGBoost core, or some parameter actually being used\n",
      "  but getting flagged wrongly here. Please open an issue if you find any such cases.\n",
      "\n",
      "\n",
      "[12:36:03] WARNING: /Users/runner/miniforge3/conda-bld/xgboost-split_1637426408905/work/src/learner.cc:576: \n",
      "Parameters: { \"boosting\", \"feature_fraction\", \"metric\", \"num_iterations\", \"scale_pos_weight\" } might not be used.\n",
      "\n",
      "  This could be a false alarm, with some parameters getting used by language bindings but\n",
      "  then being mistakenly passed down to XGBoost core, or some parameter actually being used\n",
      "  but getting flagged wrongly here. Please open an issue if you find any such cases.\n",
      "\n",
      "\n",
      "[12:36:04] WARNING: /Users/runner/miniforge3/conda-bld/xgboost-split_1637426408905/work/src/learner.cc:576: \n",
      "Parameters: { \"boosting\", \"feature_fraction\", \"metric\", \"num_iterations\", \"scale_pos_weight\" } might not be used.\n",
      "\n",
      "  This could be a false alarm, with some parameters getting used by language bindings but\n",
      "  then being mistakenly passed down to XGBoost core, or some parameter actually being used\n",
      "  but getting flagged wrongly here. Please open an issue if you find any such cases.\n",
      "\n",
      "\n",
      "Uncertainty in the data: 0.156\n",
      "Uncertainty in the model: 0.000\n",
      "The model performance is 0.643 ± 0.156 ± 0.000\n"
     ]
    }
   ],
   "source": [
    "from sklearn.model_selection import cross_val_score\n",
    "\n",
    "scores = cross_val_score(clf_XGRF, X_new, y, cv=5, scoring='accuracy')\n",
    "Udata = scores.std()\n",
    "\n",
    "\n",
    "modAcuXGRF = []\n",
    "for rs in range(1,6):\n",
    "    model = xgboost.XGBClassifier(random_state=random.randrange(rs), **params)\n",
    "    model.fit(X_train, y_train)\n",
    "    modAcuXGRF += [accuracy_score(y_test, model.predict(X_test))]\n",
    "\n",
    "Umodel = np.std(modAcuXGRF)\n",
    "\n",
    "print(\"Uncertainty in the data: %.3f\" % Udata)\n",
    "print(\"Uncertainty in the model: %.3f\" % Umodel)\n",
    "print(\"The model performance is %.3f ± %.3f ± %.3f\" % (scores.mean(),Udata,Umodel))"
   ]
  },
  {
   "cell_type": "code",
   "execution_count": null,
   "metadata": {},
   "outputs": [],
   "source": []
  }
 ],
 "metadata": {
  "interpreter": {
   "hash": "43fef3abedee1d893beac1d2d118646f520aa845e2b69655f65decb73f4f0136"
  },
  "kernelspec": {
   "display_name": "Python 3.8.12 64-bit ('python38_r411': conda)",
   "language": "python",
   "name": "python3"
  },
  "language_info": {
   "codemirror_mode": {
    "name": "ipython",
    "version": 3
   },
   "file_extension": ".py",
   "mimetype": "text/x-python",
   "name": "python",
   "nbconvert_exporter": "python",
   "pygments_lexer": "ipython3",
   "version": "3.9.7"
  },
  "orig_nbformat": 4
 },
 "nbformat": 4,
 "nbformat_minor": 2
}
