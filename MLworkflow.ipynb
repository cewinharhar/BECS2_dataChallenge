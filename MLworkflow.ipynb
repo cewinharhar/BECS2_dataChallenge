{
 "cells": [
  {
   "cell_type": "code",
   "execution_count": 67,
   "metadata": {},
   "outputs": [
    {
     "data": {
      "text/plain": [
       "'\\nusage joblib\\n# save the model: \\njoblib.dump(model , \"model.pkl\")\\n# load the model:\\nmodel = joblib.load(\"model.pkl\")\\n'"
      ]
     },
     "execution_count": 67,
     "metadata": {},
     "output_type": "execute_result"
    }
   ],
   "source": [
    "import pandas as pd\n",
    "\n",
    "import os\n",
    "import random\n",
    "\n",
    "import matplotlib.pyplot as plt\n",
    "import numpy as np\n",
    "\n",
    "import xgboost\n",
    "\n",
    "from yellowbrick.classifier import ClassificationReport\n",
    "\n",
    "from sklearn.metrics import classification_report, accuracy_score\n",
    "from sklearn import metrics \n",
    "from sklearn.model_selection import train_test_split \n",
    "\n",
    "#to save model\n",
    "import joblib\n",
    "\n",
    "\"\"\"\n",
    "usage joblib\n",
    "# save the model: \n",
    "joblib.dump(model , \"model.pkl\")\n",
    "# load the model:\n",
    "model = joblib.load(\"model.pkl\")\n",
    "\"\"\""
   ]
  },
  {
   "cell_type": "code",
   "execution_count": null,
   "metadata": {},
   "outputs": [],
   "source": [
    "os.getcwd()"
   ]
  },
  {
   "cell_type": "markdown",
   "metadata": {},
   "source": [
    "## We want to have a dataframe with:\n",
    "* X: rows = patients, cols = proteins filled with the protein quantity\n",
    "* y: rows = patients, col  = health condition (healthy, cancer A, cancer B)"
   ]
  },
  {
   "cell_type": "code",
   "execution_count": 43,
   "metadata": {},
   "outputs": [
    {
     "data": {
      "text/html": [
       "<div>\n",
       "<style scoped>\n",
       "    .dataframe tbody tr th:only-of-type {\n",
       "        vertical-align: middle;\n",
       "    }\n",
       "\n",
       "    .dataframe tbody tr th {\n",
       "        vertical-align: top;\n",
       "    }\n",
       "\n",
       "    .dataframe thead th {\n",
       "        text-align: right;\n",
       "    }\n",
       "</style>\n",
       "<table border=\"1\" class=\"dataframe\">\n",
       "  <thead>\n",
       "    <tr style=\"text-align: right;\">\n",
       "      <th></th>\n",
       "      <th>R.FileName</th>\n",
       "      <th>uniprot</th>\n",
       "      <th>meanAbu</th>\n",
       "      <th>Group</th>\n",
       "    </tr>\n",
       "  </thead>\n",
       "  <tbody>\n",
       "    <tr>\n",
       "      <th>0</th>\n",
       "      <td>G_D200423_MDIA_P671_S46_R01</td>\n",
       "      <td>A0A075B6H7</td>\n",
       "      <td>5657.235840</td>\n",
       "      <td>Healthy</td>\n",
       "    </tr>\n",
       "    <tr>\n",
       "      <th>1</th>\n",
       "      <td>G_D200423_MDIA_P671_S46_R01</td>\n",
       "      <td>A0A075B6I0</td>\n",
       "      <td>5067.330078</td>\n",
       "      <td>Healthy</td>\n",
       "    </tr>\n",
       "    <tr>\n",
       "      <th>2</th>\n",
       "      <td>G_D200423_MDIA_P671_S46_R01</td>\n",
       "      <td>A0A075B6I9</td>\n",
       "      <td>5604.411621</td>\n",
       "      <td>Healthy</td>\n",
       "    </tr>\n",
       "    <tr>\n",
       "      <th>3</th>\n",
       "      <td>G_D200423_MDIA_P671_S46_R01</td>\n",
       "      <td>A0A075B6K4</td>\n",
       "      <td>10224.492188</td>\n",
       "      <td>Healthy</td>\n",
       "    </tr>\n",
       "    <tr>\n",
       "      <th>4</th>\n",
       "      <td>G_D200423_MDIA_P671_S46_R01</td>\n",
       "      <td>A0A075B6K5</td>\n",
       "      <td>6343.487793</td>\n",
       "      <td>Healthy</td>\n",
       "    </tr>\n",
       "  </tbody>\n",
       "</table>\n",
       "</div>"
      ],
      "text/plain": [
       "                    R.FileName     uniprot       meanAbu    Group\n",
       "0  G_D200423_MDIA_P671_S46_R01  A0A075B6H7   5657.235840  Healthy\n",
       "1  G_D200423_MDIA_P671_S46_R01  A0A075B6I0   5067.330078  Healthy\n",
       "2  G_D200423_MDIA_P671_S46_R01  A0A075B6I9   5604.411621  Healthy\n",
       "3  G_D200423_MDIA_P671_S46_R01  A0A075B6K4  10224.492188  Healthy\n",
       "4  G_D200423_MDIA_P671_S46_R01  A0A075B6K5   6343.487793  Healthy"
      ]
     },
     "execution_count": 43,
     "metadata": {},
     "output_type": "execute_result"
    }
   ],
   "source": [
    "path = r\"rawData\\tidy.csv\"\n",
    "tidy = pd.read_csv(path, sep=\",\")\n",
    "\n",
    "tidy.head()\n",
    "\n",
    "tidySub = tidy[[\"R.FileName\", \"uniprot\", \"meanAbu\", \"Group\"]]\n",
    "\n",
    "tidySub.head()"
   ]
  },
  {
   "cell_type": "markdown",
   "metadata": {},
   "source": [
    "### To feed the data inot a model we need to reshape"
   ]
  },
  {
   "cell_type": "code",
   "execution_count": 44,
   "metadata": {},
   "outputs": [],
   "source": [
    "#reshape data\n",
    "#X data\n",
    "tidyReshaped = tidySub.pivot(index = \"R.FileName\", columns = \"uniprot\", values = \"meanAbu\")\n",
    "tidyReshaped.head()\n",
    "#y condition\n",
    "Group =  tidySub.drop([\"uniprot\", \"meanAbu\"], axis=1)\n",
    "Group = Group.drop_duplicates().reset_index(drop=True)\n",
    "Group.head()\n",
    "\n",
    "#we merge to ensure that the y rows fit the corresponding x rows\n",
    "data = pd.merge(tidyReshaped, Group, how=\"left\", on=\"R.FileName\")\n",
    "\n",
    "#to make df purely numerical\n",
    "data = data.set_index(\"R.FileName\")\n",
    "\n",
    "X = data.iloc[:, :-1]\n",
    "y = data.iloc[:,-1]"
   ]
  },
  {
   "cell_type": "markdown",
   "metadata": {},
   "source": [
    "### Now that the data is prepared we continue with the following steps:\n",
    "* Create pipeline for imputing, scaling !! **Scaling is not needed for Random Forest**\n",
    "* (https://towardsdatascience.com/how-data-normalization-affects-your-random-forest-algorithm-fbc6753b4ddf)\n",
    "* Creation of training, validation and test sets\n",
    "* Feature Selection, Engineering\n",
    "* Model Selection"
   ]
  },
  {
   "cell_type": "code",
   "execution_count": 45,
   "metadata": {},
   "outputs": [],
   "source": [
    "#Make pipeline\n",
    "from sklearn.pipeline import Pipeline\n",
    "from sklearn.impute import SimpleImputer\n",
    "\n",
    "dataPrepPipe = Pipeline([\n",
    "    ('imputer', SimpleImputer(strategy='median')),\n",
    "    ]) \n",
    "\n",
    "#X is already purely numerical\n",
    "X = dataPrepPipe.fit_transform(X)"
   ]
  },
  {
   "cell_type": "code",
   "execution_count": 46,
   "metadata": {},
   "outputs": [
    {
     "name": "stdout",
     "output_type": "stream",
     "text": [
      "[0 3 2 2 1 2 1 0 0 0 1 2 3 0 1 0 3 0 2 0 1 3 0 0 0 3 0 2 0 0 1 0 1 3]\n"
     ]
    }
   ],
   "source": [
    "# Encode target labels\n",
    "from sklearn import preprocessing\n",
    "\n",
    "labEnc = preprocessing.LabelEncoder() \n",
    "\n",
    "# apply label encoding\n",
    "y = labEnc.fit_transform(y) \n",
    "print(y)"
   ]
  },
  {
   "cell_type": "code",
   "execution_count": 47,
   "metadata": {},
   "outputs": [
    {
     "data": {
      "text/plain": [
       "['Models/X.pkl']"
      ]
     },
     "execution_count": 47,
     "metadata": {},
     "output_type": "execute_result"
    }
   ],
   "source": [
    "# Save X and y for next session\n",
    "\n",
    "joblib.dump(y, \"Models/y.pkl\")\n",
    "joblib.dump(X, \"Models/X.pkl\")\n"
   ]
  },
  {
   "cell_type": "code",
   "execution_count": 48,
   "metadata": {},
   "outputs": [],
   "source": [
    "# load saved X and y \n",
    "\n",
    "y = joblib.load(\"Models/y.pkl\")\n",
    "X = joblib.load(\"Models/X.pkl\")\n"
   ]
  },
  {
   "cell_type": "code",
   "execution_count": 49,
   "metadata": {},
   "outputs": [
    {
     "data": {
      "text/plain": [
       "(34, 381)"
      ]
     },
     "execution_count": 49,
     "metadata": {},
     "output_type": "execute_result"
    },
    {
     "data": {
      "image/png": "[encoded data removed]",
      "text/plain": [
       "<Figure size 576x396 with 1 Axes>"
      ]
     },
     "metadata": {},
     "output_type": "display_data"
    }
   ],
   "source": [
    "# Feature Selection\n",
    "\n",
    "\"\"\"\n",
    "Can be used in pipeline\n",
    "clf = Pipeline([\n",
    "  ('feature_selection', SelectFromModel(LinearSVC(penalty=\"l1\"))),\n",
    "  ('classification', RandomForestClassifier())\n",
    "])\n",
    "\"\"\"\n",
    "from sklearn.ensemble import RandomForestClassifier\n",
    "from sklearn.feature_selection import SelectFromModel #checkout description https://scikit-learn.org/stable/modules/feature_selection.html#tree-based-feature-selection\n",
    "\n",
    "#create Random Forest classifier with default hyperparameters\n",
    "raFo = RandomForestClassifier()\n",
    "raFo = raFo.fit(X, y)\n",
    "\n",
    "#checkout importance in a histogram\n",
    "plt.hist(raFo.feature_importances_, bins=100)\n",
    "\n",
    "#get the reduced X\n",
    "model = SelectFromModel(estimator = raFo, prefit=True)\n",
    "X_new = model.transform(X)\n",
    "X_new.shape   "
   ]
  },
  {
   "cell_type": "code",
   "execution_count": 86,
   "metadata": {},
   "outputs": [
    {
     "data": {
      "image/png": "[encoded data removed]",
      "text/plain": [
       "<Figure size 576x396 with 1 Axes>"
      ]
     },
     "metadata": {},
     "output_type": "display_data"
    },
    {
     "data": {
      "text/plain": [
       "' plt.rcParams[\"figure.figsize\"] = (10,5)\\nplt.bar(raFo.feature_names, raFo.feature_importances_)\\nplt.xlabel(\\'Feature Labels\\')\\nplt.ylabel(\\'Feature Importances\\')\\nplt.title(\\'Comparison of different Feature Importances\\'); '"
      ]
     },
     "execution_count": 86,
     "metadata": {},
     "output_type": "execute_result"
    }
   ],
   "source": [
    "# Visualize feature importance\n",
    "\n",
    "importances = raFo.feature_importances_\n",
    "\n",
    "std = np.std([tree.feature_importances_ for tree in raFo.estimators_], axis=0)\n",
    "std.sort()\n",
    "\n",
    "forest_importances = pd.Series(importances)\n",
    "\n",
    "fig, ax = plt.subplots()\n",
    "forest_importances.plot.bar(yerr=std, ax=ax)\n",
    "ax.set_title(\"Feature importances using MDI\")\n",
    "ax.set_ylabel(\"Mean decrease in impurity\")\n",
    "ax.get_xaxis().set_visible(False)\n",
    "fig.tight_layout()\n",
    "plt.show()\n",
    "\n",
    "\"\"\" plt.rcParams[\"figure.figsize\"] = (10,5)\n",
    "plt.bar(raFo.feature_names, raFo.feature_importances_)\n",
    "plt.xlabel('Feature Labels')\n",
    "plt.ylabel('Feature Importances')\n",
    "plt.title('Comparison of different Feature Importances'); \"\"\""
   ]
  },
  {
   "cell_type": "markdown",
   "metadata": {},
   "source": [
    "## Time to train the model\n"
   ]
  },
  {
   "cell_type": "code",
   "execution_count": 53,
   "metadata": {},
   "outputs": [],
   "source": [
    "# import already trained model\n",
    "\n",
    "clf_RF = joblib.load(\"Models/clf_RF_X_new.pkl\")\n",
    "clf_XGRF = joblib.load(\"Models/clf_XGRF_X_new.pkl\")\n"
   ]
  },
  {
   "cell_type": "markdown",
   "metadata": {},
   "source": [
    "### Random Forest"
   ]
  },
  {
   "cell_type": "code",
   "execution_count": 75,
   "metadata": {},
   "outputs": [
    {
     "name": "stdout",
     "output_type": "stream",
     "text": [
      "Accuracy Random Forest: 0.8571428571428571\n",
      "              precision    recall  f1-score   support\n",
      "\n",
      "           0       1.00      1.00      1.00         4\n",
      "           1       1.00      0.50      0.67         2\n",
      "           2       1.00      1.00      1.00         1\n",
      "           3       0.00      0.00      0.00         0\n",
      "\n",
      "    accuracy                           0.86         7\n",
      "   macro avg       0.75      0.62      0.67         7\n",
      "weighted avg       1.00      0.86      0.90         7\n",
      "\n"
     ]
    },
    {
     "name": "stderr",
     "output_type": "stream",
     "text": [
      "C:\\Users\\kevin\\anaconda3\\envs\\python38_r411\\lib\\site-packages\\sklearn\\metrics\\_classification.py:1308: UndefinedMetricWarning: Recall and F-score are ill-defined and being set to 0.0 in labels with no true samples. Use `zero_division` parameter to control this behavior.\n",
      "  _warn_prf(average, modifier, msg_start, len(result))\n",
      "C:\\Users\\kevin\\anaconda3\\envs\\python38_r411\\lib\\site-packages\\sklearn\\metrics\\_classification.py:1308: UndefinedMetricWarning: Recall and F-score are ill-defined and being set to 0.0 in labels with no true samples. Use `zero_division` parameter to control this behavior.\n",
      "  _warn_prf(average, modifier, msg_start, len(result))\n",
      "C:\\Users\\kevin\\anaconda3\\envs\\python38_r411\\lib\\site-packages\\sklearn\\metrics\\_classification.py:1308: UndefinedMetricWarning: Recall and F-score are ill-defined and being set to 0.0 in labels with no true samples. Use `zero_division` parameter to control this behavior.\n",
      "  _warn_prf(average, modifier, msg_start, len(result))\n"
     ]
    }
   ],
   "source": [
    "#split\n",
    "from sklearn.model_selection import train_test_split\n",
    "\n",
    "X_train, X_test, y_train, y_test = train_test_split(X_new, y, test_size=0.2, random_state=3)\n",
    "\n",
    "clf_RF = RandomForestClassifier(random_state=1)\n",
    "clf_RF.fit(X_train ,y_train)\n",
    "y_RFpred = clf_RF.predict(X_test)\n",
    "\n",
    "\n",
    "\n",
    "\n",
    "# Model Accuracy, how often is the classifier correct?\n",
    "print(\"Accuracy Random Forest:\",metrics.accuracy_score(y_test , y_RFpred))\n",
    "print(classification_report(y_test, y_RFpred))\n"
   ]
  },
  {
   "cell_type": "markdown",
   "metadata": {},
   "source": [
    "### XGBoost Random Forest"
   ]
  },
  {
   "cell_type": "code",
   "execution_count": 76,
   "metadata": {},
   "outputs": [
    {
     "name": "stdout",
     "output_type": "stream",
     "text": [
      "[11:58:56] WARNING: C:/Users/Administrator/workspace/xgboost-win64_release_1.5.1/src/learner.cc:576: \n",
      "Parameters: { \"boosting\", \"feature_fraction\", \"metric\", \"num_iterations\", \"scale_pos_weight\" } might not be used.\n",
      "\n",
      "  This could be a false alarm, with some parameters getting used by language bindings but\n",
      "  then being mistakenly passed down to XGBoost core, or some parameter actually being used\n",
      "  but getting flagged wrongly here. Please open an issue if you find any such cases.\n",
      "\n",
      "\n",
      "Accuracy XGBoost Random Forest: 0.8571428571428571\n",
      "              precision    recall  f1-score   support\n",
      "\n",
      "           0       1.00      1.00      1.00         4\n",
      "           1       1.00      0.50      0.67         2\n",
      "           2       1.00      1.00      1.00         1\n",
      "           3       0.00      0.00      0.00         0\n",
      "\n",
      "    accuracy                           0.86         7\n",
      "   macro avg       0.75      0.62      0.67         7\n",
      "weighted avg       1.00      0.86      0.90         7\n",
      "\n"
     ]
    },
    {
     "name": "stderr",
     "output_type": "stream",
     "text": [
      "C:\\Users\\kevin\\anaconda3\\envs\\python38_r411\\lib\\site-packages\\sklearn\\metrics\\_classification.py:1308: UndefinedMetricWarning: Recall and F-score are ill-defined and being set to 0.0 in labels with no true samples. Use `zero_division` parameter to control this behavior.\n",
      "  _warn_prf(average, modifier, msg_start, len(result))\n",
      "C:\\Users\\kevin\\anaconda3\\envs\\python38_r411\\lib\\site-packages\\sklearn\\metrics\\_classification.py:1308: UndefinedMetricWarning: Recall and F-score are ill-defined and being set to 0.0 in labels with no true samples. Use `zero_division` parameter to control this behavior.\n",
      "  _warn_prf(average, modifier, msg_start, len(result))\n",
      "C:\\Users\\kevin\\anaconda3\\envs\\python38_r411\\lib\\site-packages\\sklearn\\metrics\\_classification.py:1308: UndefinedMetricWarning: Recall and F-score are ill-defined and being set to 0.0 in labels with no true samples. Use `zero_division` parameter to control this behavior.\n",
      "  _warn_prf(average, modifier, msg_start, len(result))\n"
     ]
    }
   ],
   "source": [
    "params = dict(tree_method=\"exact\", \n",
    "                num_class=7,\n",
    "                learning_rate=0.1,\n",
    "                num_iterations=1000,\n",
    "                max_depth=10,\n",
    "                feature_fraction=0.7, \n",
    "                scale_pos_weight=1.5,\n",
    "                boosting='gbdt',\n",
    "                metric='multiclass',\n",
    "                eval_metric='mlogloss',\n",
    "                use_label_encoder =False)\n",
    "\n",
    "clf_XGRF = xgboost.XGBClassifier(random_state=1, **params)\n",
    "\n",
    "clf_XGRF.fit(X_train ,y_train)\n",
    "y_XGRFpred = clf_XGRF.predict(X_test)\n",
    "\n",
    "print(\"Accuracy XGBoost Random Forest:\",metrics.accuracy_score(y_test , y_XGRFpred))\n",
    "print(classification_report(y_test, y_XGRFpred))"
   ]
  },
  {
   "cell_type": "code",
   "execution_count": 71,
   "metadata": {},
   "outputs": [
    {
     "data": {
      "text/plain": [
       "['Models/clf_XGRF_X_new.pkl']"
      ]
     },
     "execution_count": 71,
     "metadata": {},
     "output_type": "execute_result"
    }
   ],
   "source": [
    "#save the model\n",
    "joblib.dump(clf_RF, \"Models/clf_RF_X_new.pkl\")\n",
    "joblib.dump(clf_XGRF, \"Models/clf_XGRF_X_new.pkl\")"
   ]
  },
  {
   "cell_type": "code",
   "execution_count": 63,
   "metadata": {},
   "outputs": [
    {
     "data": {
      "image/png": "[encoded data removed]",
      "text/plain": [
       "<Figure size 576x396 with 2 Axes>"
      ]
     },
     "metadata": {},
     "output_type": "display_data"
    }
   ],
   "source": [
    "# visualize confusion matrix\n",
    "from sklearn.metrics import confusion_matrix, ConfusionMatrixDisplay\n",
    "\n",
    "cm = confusion_matrix(y_test, y_RFpred, labels=clf_RF.classes_) # calculate value\n",
    "disp = ConfusionMatrixDisplay(confusion_matrix=cm,              # display\n",
    "                              display_labels=clf_RF.classes_)\n",
    "disp.plot(); \n",
    "\n"
   ]
  },
  {
   "cell_type": "markdown",
   "metadata": {},
   "source": [
    "## Compare uncertainty of Data and Model"
   ]
  },
  {
   "cell_type": "code",
   "execution_count": 65,
   "metadata": {},
   "outputs": [
    {
     "name": "stdout",
     "output_type": "stream",
     "text": [
      "Uncertainty in the data: 0.152\n",
      "Uncertainty in the model: 0.000\n",
      "The model performance is 0.710 ± 0.152 ± 0.000\n"
     ]
    }
   ],
   "source": [
    "from sklearn.model_selection import cross_val_score\n",
    "\n",
    "scores = cross_val_score(clf_RF, X_new, y, cv=5, scoring='accuracy')\n",
    "Udata = scores.std()\n",
    "\n",
    "modAcuRF = []\n",
    "for rs in range(1,6):\n",
    "    model = RandomForestClassifier(random_state=random.randrange(rs))\n",
    "    model.fit(X_train, y_train)\n",
    "    modAcuRF += [accuracy_score(y_test, model.predict(X_test))]\n",
    "\n",
    "Umodel = np.std(modAcuRF)\n",
    "\n",
    "print(\"Uncertainty in the data: %.3f\" % Udata)\n",
    "print(\"Uncertainty in the model: %.3f\" % Umodel)\n",
    "print(\"The model performance is %.3f ± %.3f ± %.3f\" % (scores.mean(),Udata,Umodel))"
   ]
  },
  {
   "cell_type": "code",
   "execution_count": 74,
   "metadata": {},
   "outputs": [
    {
     "name": "stdout",
     "output_type": "stream",
     "text": [
      "[11:57:10] WARNING: C:/Users/Administrator/workspace/xgboost-win64_release_1.5.1/src/learner.cc:576: \n",
      "Parameters: { \"boosting\", \"feature_fraction\", \"metric\", \"num_iterations\", \"scale_pos_weight\" } might not be used.\n",
      "\n",
      "  This could be a false alarm, with some parameters getting used by language bindings but\n",
      "  then being mistakenly passed down to XGBoost core, or some parameter actually being used\n",
      "  but getting flagged wrongly here. Please open an issue if you find any such cases.\n",
      "\n",
      "\n",
      "[11:57:10] WARNING: C:/Users/Administrator/workspace/xgboost-win64_release_1.5.1/src/learner.cc:576: \n",
      "Parameters: { \"boosting\", \"feature_fraction\", \"metric\", \"num_iterations\", \"scale_pos_weight\" } might not be used.\n",
      "\n",
      "  This could be a false alarm, with some parameters getting used by language bindings but\n",
      "  then being mistakenly passed down to XGBoost core, or some parameter actually being used\n",
      "  but getting flagged wrongly here. Please open an issue if you find any such cases.\n",
      "\n",
      "\n",
      "[11:57:11] WARNING: C:/Users/Administrator/workspace/xgboost-win64_release_1.5.1/src/learner.cc:576: \n",
      "Parameters: { \"boosting\", \"feature_fraction\", \"metric\", \"num_iterations\", \"scale_pos_weight\" } might not be used.\n",
      "\n",
      "  This could be a false alarm, with some parameters getting used by language bindings but\n",
      "  then being mistakenly passed down to XGBoost core, or some parameter actually being used\n",
      "  but getting flagged wrongly here. Please open an issue if you find any such cases.\n",
      "\n",
      "\n",
      "[11:57:11] WARNING: C:/Users/Administrator/workspace/xgboost-win64_release_1.5.1/src/learner.cc:576: \n",
      "Parameters: { \"boosting\", \"feature_fraction\", \"metric\", \"num_iterations\", \"scale_pos_weight\" } might not be used.\n",
      "\n",
      "  This could be a false alarm, with some parameters getting used by language bindings but\n",
      "  then being mistakenly passed down to XGBoost core, or some parameter actually being used\n",
      "  but getting flagged wrongly here. Please open an issue if you find any such cases.\n",
      "\n",
      "\n",
      "[11:57:11] WARNING: C:/Users/Administrator/workspace/xgboost-win64_release_1.5.1/src/learner.cc:576: \n",
      "Parameters: { \"boosting\", \"feature_fraction\", \"metric\", \"num_iterations\", \"scale_pos_weight\" } might not be used.\n",
      "\n",
      "  This could be a false alarm, with some parameters getting used by language bindings but\n",
      "  then being mistakenly passed down to XGBoost core, or some parameter actually being used\n",
      "  but getting flagged wrongly here. Please open an issue if you find any such cases.\n",
      "\n",
      "\n",
      "[11:57:12] WARNING: C:/Users/Administrator/workspace/xgboost-win64_release_1.5.1/src/learner.cc:576: \n",
      "Parameters: { \"boosting\", \"feature_fraction\", \"metric\", \"num_iterations\", \"scale_pos_weight\" } might not be used.\n",
      "\n",
      "  This could be a false alarm, with some parameters getting used by language bindings but\n",
      "  then being mistakenly passed down to XGBoost core, or some parameter actually being used\n",
      "  but getting flagged wrongly here. Please open an issue if you find any such cases.\n",
      "\n",
      "\n",
      "[11:57:12] WARNING: C:/Users/Administrator/workspace/xgboost-win64_release_1.5.1/src/learner.cc:576: \n",
      "Parameters: { \"boosting\", \"feature_fraction\", \"metric\", \"num_iterations\", \"scale_pos_weight\" } might not be used.\n",
      "\n",
      "  This could be a false alarm, with some parameters getting used by language bindings but\n",
      "  then being mistakenly passed down to XGBoost core, or some parameter actually being used\n",
      "  but getting flagged wrongly here. Please open an issue if you find any such cases.\n",
      "\n",
      "\n",
      "[11:57:12] WARNING: C:/Users/Administrator/workspace/xgboost-win64_release_1.5.1/src/learner.cc:576: \n",
      "Parameters: { \"boosting\", \"feature_fraction\", \"metric\", \"num_iterations\", \"scale_pos_weight\" } might not be used.\n",
      "\n",
      "  This could be a false alarm, with some parameters getting used by language bindings but\n",
      "  then being mistakenly passed down to XGBoost core, or some parameter actually being used\n",
      "  but getting flagged wrongly here. Please open an issue if you find any such cases.\n",
      "\n",
      "\n",
      "[11:57:13] WARNING: C:/Users/Administrator/workspace/xgboost-win64_release_1.5.1/src/learner.cc:576: \n",
      "Parameters: { \"boosting\", \"feature_fraction\", \"metric\", \"num_iterations\", \"scale_pos_weight\" } might not be used.\n",
      "\n",
      "  This could be a false alarm, with some parameters getting used by language bindings but\n",
      "  then being mistakenly passed down to XGBoost core, or some parameter actually being used\n",
      "  but getting flagged wrongly here. Please open an issue if you find any such cases.\n",
      "\n",
      "\n",
      "[11:57:13] WARNING: C:/Users/Administrator/workspace/xgboost-win64_release_1.5.1/src/learner.cc:576: \n",
      "Parameters: { \"boosting\", \"feature_fraction\", \"metric\", \"num_iterations\", \"scale_pos_weight\" } might not be used.\n",
      "\n",
      "  This could be a false alarm, with some parameters getting used by language bindings but\n",
      "  then being mistakenly passed down to XGBoost core, or some parameter actually being used\n",
      "  but getting flagged wrongly here. Please open an issue if you find any such cases.\n",
      "\n",
      "\n",
      "Uncertainty in the data: 0.092\n",
      "Uncertainty in the model: 0.000\n",
      "The model performance is 0.705 ± 0.092 ± 0.000\n"
     ]
    }
   ],
   "source": [
    "from sklearn.model_selection import cross_val_score\n",
    "\n",
    "scores = cross_val_score(clf_XGRF, X_new, y, cv=5, scoring='accuracy')\n",
    "Udata = scores.std()\n",
    "\n",
    "\n",
    "modAcuXGRF = []\n",
    "for rs in range(1,6):\n",
    "    model = xgboost.XGBClassifier(random_state=random.randrange(rs), **params)\n",
    "    model.fit(X_train, y_train)\n",
    "    modAcuXGRF += [accuracy_score(y_test, model.predict(X_test))]\n",
    "\n",
    "Umodel = np.std(modAcuXGRF)\n",
    "\n",
    "print(\"Uncertainty in the data: %.3f\" % Udata)\n",
    "print(\"Uncertainty in the model: %.3f\" % Umodel)\n",
    "print(\"The model performance is %.3f ± %.3f ± %.3f\" % (scores.mean(),Udata,Umodel))"
   ]
  },
  {
   "cell_type": "code",
   "execution_count": null,
   "metadata": {},
   "outputs": [],
   "source": []
  }
 ],
 "metadata": {
  "interpreter": {
   "hash": "43fef3abedee1d893beac1d2d118646f520aa845e2b69655f65decb73f4f0136"
  },
  "kernelspec": {
   "display_name": "Python 3.8.12 64-bit ('python38_r411': conda)",
   "language": "python",
   "name": "python3"
  },
  "language_info": {
   "codemirror_mode": {
    "name": "ipython",
    "version": 3
   },
   "file_extension": ".py",
   "mimetype": "text/x-python",
   "name": "python",
   "nbconvert_exporter": "python",
   "pygments_lexer": "ipython3",
   "version": "3.8.12"
  },
  "orig_nbformat": 4
 },
 "nbformat": 4,
 "nbformat_minor": 2
}
