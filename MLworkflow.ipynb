{
 "cells": [
  {
   "cell_type": "code",
   "execution_count": 112,
   "metadata": {},
   "outputs": [],
   "source": [
    "import pandas as pd\n",
    "import os\n",
    "\n",
    "import matplotlib.pyplot as plt\n",
    "import numpy as np\n",
    "\n"
   ]
  },
  {
   "cell_type": "code",
   "execution_count": null,
   "metadata": {},
   "outputs": [],
   "source": [
    "os.getcwd()"
   ]
  },
  {
   "cell_type": "markdown",
   "metadata": {},
   "source": [
    "## We want to have a dataframe with:\n",
    "* X: rows = patients, cols = proteins filled with the protein quantity\n",
    "* y: rows = patients, col  = health condition (healthy, cancer A, cancer B)"
   ]
  },
  {
   "cell_type": "code",
   "execution_count": null,
   "metadata": {},
   "outputs": [],
   "source": [
    "path = r\"data\\tidy.csv\"\n",
    "tidy = pd.read_csv(path, sep=\",\")\n",
    "\n",
    "tidy.head()\n",
    "\n",
    "tidySub = tidy[[\"R.FileName\", \"uniprot\", \"meanAbu\", \"Group\"]]\n",
    "\n",
    "tidySub.head()"
   ]
  },
  {
   "cell_type": "markdown",
   "metadata": {},
   "source": [
    "### To feed the data inot a model we need to reshape"
   ]
  },
  {
   "cell_type": "code",
   "execution_count": null,
   "metadata": {},
   "outputs": [],
   "source": [
    "#reshape data\n",
    "#X data\n",
    "tidyReshaped = tidySub.pivot(index = \"R.FileName\", columns = \"uniprot\", values = \"meanAbu\")\n",
    "tidyReshaped.head()\n",
    "#y condition\n",
    "Group =  tidySub.drop([\"uniprot\", \"meanAbu\"], axis=1)\n",
    "Group = Group.drop_duplicates().reset_index(drop=True)\n",
    "Group.head()\n",
    "\n",
    "#we merge to ensure that the y rows fit the corresponding x rows\n",
    "data = pd.merge(tidyReshaped, Group, how=\"left\", on=\"R.FileName\")\n",
    "\n",
    "#to make df purely numerical\n",
    "data = data.set_index(\"R.FileName\")\n",
    "\n",
    "X = data.iloc[:, :-1]\n",
    "y = data.iloc[:,-1]"
   ]
  },
  {
   "cell_type": "markdown",
   "metadata": {},
   "source": [
    "### Now that the data is prepared we continue with the following steps:\n",
    "* Create pipeline for imputing, scaling !! **Scaling is not needed for Random Forest**\n",
    "* (https://towardsdatascience.com/how-data-normalization-affects-your-random-forest-algorithm-fbc6753b4ddf)\n",
    "* Creation of training, validation and test sets\n",
    "* Feature Selection, Engineering\n",
    "* Model Selection"
   ]
  },
  {
   "cell_type": "code",
   "execution_count": null,
   "metadata": {},
   "outputs": [],
   "source": [
    "#Make pipeline\n",
    "from sklearn.pipeline import Pipeline\n",
    "from sklearn.impute import SimpleImputer\n",
    "\n",
    "dataPrepPipe = Pipeline([\n",
    "    ('imputer', SimpleImputer(strategy='median')),\n",
    "    ]) \n",
    "\n",
    "#X is already purely numerical\n",
    "X = dataPrepPipe.fit_transform(X)"
   ]
  },
  {
   "cell_type": "code",
   "execution_count": null,
   "metadata": {},
   "outputs": [],
   "source": [
    "# Encode target labels\n",
    "from sklearn import preprocessing\n",
    "\n",
    "labEnc = preprocessing.LabelEncoder() \n",
    "\n",
    "# apply label encoding\n",
    "y = labEnc.fit_transform(y) \n",
    "print(y)"
   ]
  },
  {
   "cell_type": "code",
   "execution_count": null,
   "metadata": {},
   "outputs": [],
   "source": [
    "# Feature Selection\n",
    "\n",
    "\"\"\"\n",
    "Can be used in pipeline\n",
    "clf = Pipeline([\n",
    "  ('feature_selection', SelectFromModel(LinearSVC(penalty=\"l1\"))),\n",
    "  ('classification', RandomForestClassifier())\n",
    "])\n",
    "\"\"\"\n",
    "from sklearn.ensemble import RandomForestClassifier\n",
    "from sklearn.feature_selection import SelectFromModel #checkout description https://scikit-learn.org/stable/modules/feature_selection.html#tree-based-feature-selection\n",
    "\n",
    "#create Random Forest classifier with default hyperparameters\n",
    "raFo = RandomForestClassifier(n_estimators=100,  max_features=\"auto\")\n",
    "raFo = raFo.fit(X, y)\n",
    "\n",
    "#checkout importance in a histogram\n",
    "plt.hist(raFo.feature_importances_, bins=100)\n",
    "\n",
    "#get the reduced X\n",
    "model = SelectFromModel(estimator = raFo, prefit=True)\n",
    "X_new = model.transform(X)\n",
    "X_new.shape   "
   ]
  },
  {
   "cell_type": "code",
   "execution_count": 114,
   "metadata": {},
   "outputs": [
    {
     "data": {
      "text/plain": [
       "' plt.rcParams[\"figure.figsize\"] = (10,5)\\nplt.bar(raFo.feature_names, raFo.feature_importances_)\\nplt.xlabel(\\'Feature Labels\\')\\nplt.ylabel(\\'Feature Importances\\')\\nplt.title(\\'Comparison of different Feature Importances\\'); '"
      ]
     },
     "execution_count": 114,
     "metadata": {},
     "output_type": "execute_result"
    },
    {
     "data": {
      "image/png": "[encoded data removed]",
      "text/plain": [
       "<Figure size 720x360 with 1 Axes>"
      ]
     },
     "metadata": {
      "needs_background": "light"
     },
     "output_type": "display_data"
    }
   ],
   "source": [
    "# Visualize feature importance\n",
    "\n",
    "importances = raFo.feature_importances_\n",
    "std = np.std([tree.feature_importances_ for tree in raFo.estimators_], axis=0)\n",
    "\n",
    "forest_importances = pd.Series(importances)\n",
    "\n",
    "fig, ax = plt.subplots()\n",
    "forest_importances.plot.bar(yerr=std, ax=ax)\n",
    "ax.set_title(\"Feature importances using MDI\")\n",
    "ax.set_ylabel(\"Mean decrease in impurity\")\n",
    "ax.get_xaxis().set_visible(False)\n",
    "fig.tight_layout()\n",
    "\n",
    "\"\"\" plt.rcParams[\"figure.figsize\"] = (10,5)\n",
    "plt.bar(raFo.feature_names, raFo.feature_importances_)\n",
    "plt.xlabel('Feature Labels')\n",
    "plt.ylabel('Feature Importances')\n",
    "plt.title('Comparison of different Feature Importances'); \"\"\""
   ]
  },
  {
   "cell_type": "code",
   "execution_count": null,
   "metadata": {},
   "outputs": [],
   "source": [
    "\n",
    "\n"
   ]
  },
  {
   "cell_type": "code",
   "execution_count": null,
   "metadata": {},
   "outputs": [],
   "source": [
    "#split\n",
    "from sklearn.model_selection import train_test_split\n",
    "\n",
    "X_train, X_test, y_train, y_test = train_test_split(X, y, test_size=0.2, random_state=0)"
   ]
  }
 ],
 "metadata": {
  "interpreter": {
   "hash": "43fef3abedee1d893beac1d2d118646f520aa845e2b69655f65decb73f4f0136"
  },
  "kernelspec": {
   "display_name": "Python 3.8.12 64-bit ('python38_r411': conda)",
   "language": "python",
   "name": "python3"
  },
  "language_info": {
   "codemirror_mode": {
    "name": "ipython",
    "version": 3
   },
   "file_extension": ".py",
   "mimetype": "text/x-python",
   "name": "python",
   "nbconvert_exporter": "python",
   "pygments_lexer": "ipython3",
   "version": "3.8.12"
  },
  "orig_nbformat": 4
 },
 "nbformat": 4,
 "nbformat_minor": 2
}
