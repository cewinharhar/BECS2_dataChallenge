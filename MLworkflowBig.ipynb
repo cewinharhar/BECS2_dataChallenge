{
 "cells": [
  {
   "cell_type": "code",
   "execution_count": 1,
   "metadata": {},
   "outputs": [
    {
     "data": {
      "text/plain": [
       "'\\nusage joblib\\n# save the model: \\njoblib.dump(model , \"model.pkl\")\\n# load the model:\\nmodel = joblib.load(\"model.pkl\")\\n'"
      ]
     },
     "execution_count": 1,
     "metadata": {},
     "output_type": "execute_result"
    }
   ],
   "source": [
    "#import necessary packages\n",
    "import pandas as pd\n",
    "\n",
    "import os\n",
    "import random\n",
    "\n",
    "import matplotlib.pyplot as plt\n",
    "plt.style.use('ggplot')\n",
    "import numpy as np\n",
    "\n",
    "import xgboost\n",
    "\n",
    "\n",
    "from sklearn.metrics import classification_report, accuracy_score\n",
    "from sklearn import metrics \n",
    "from sklearn.model_selection import train_test_split \n",
    "\n",
    "#to save model\n",
    "import joblib\n",
    "\n",
    "\"\"\"\n",
    "usage joblib\n",
    "# save the model: \n",
    "joblib.dump(model , \"model.pkl\")\n",
    "# load the model:\n",
    "model = joblib.load(\"model.pkl\")\n",
    "\"\"\""
   ]
  },
  {
   "cell_type": "code",
   "execution_count": 2,
   "metadata": {},
   "outputs": [
    {
     "data": {
      "text/plain": [
       "'/Users/jonathanrieder/BECS2_dataChallenge'"
      ]
     },
     "execution_count": 2,
     "metadata": {},
     "output_type": "execute_result"
    }
   ],
   "source": [
    "os.getcwd()"
   ]
  },
  {
   "cell_type": "markdown",
   "metadata": {},
   "source": [
    "## We want to have a dataframe with:\n",
    "* X: rows = patients, cols = proteins filled with the protein quantity\n",
    "* y: rows = patients, col  = health condition (healthy, cancer A, cancer B)"
   ]
  },
  {
   "cell_type": "code",
   "execution_count": 2,
   "metadata": {},
   "outputs": [],
   "source": [
    "#path = \"rawData2/tidy.csv\"\n",
    "path = \"rawDataBig/tidyBig.csv\"\n",
    "pathMet = \"rawDataBig/MetadataBig.csv\"\n",
    "tidy = pd.read_csv(path, sep=\",\")\n",
    "tidyMet = pd.read_csv(pathMet, sep=\";\", index_col=0)\n",
    "\n",
    "tidyMer    = pd.merge(tidy, tidyMet, how=\"left\", on=\"R.FileName\")\n",
    "\n",
    "tidySub = tidyMer[[\"R.FileName\", \"uniprot\", \"meanAbu\", \"Cancer\"]]\n"
   ]
  },
  {
   "cell_type": "code",
   "execution_count": 3,
   "metadata": {},
   "outputs": [
    {
     "data": {
      "text/plain": [
       "Index(['J_D201211_MDIA_P705_SExp01-BGSID-1_R01',\n",
       "       'J_D201211_MDIA_P705_SExp01-BGSID-10_R01',\n",
       "       'J_D201211_MDIA_P705_SExp01-BGSID-100_R01',\n",
       "       'J_D201211_MDIA_P705_SExp01-BGSID-101_R01',\n",
       "       'J_D201211_MDIA_P705_SExp01-BGSID-102_R01',\n",
       "       'J_D201211_MDIA_P705_SExp01-BGSID-103_R01',\n",
       "       'J_D201211_MDIA_P705_SExp01-BGSID-104_R01',\n",
       "       'J_D201211_MDIA_P705_SExp01-BGSID-105_R01',\n",
       "       'J_D201211_MDIA_P705_SExp01-BGSID-106_R01',\n",
       "       'J_D201211_MDIA_P705_SExp01-BGSID-107_R01',\n",
       "       ...\n",
       "       'J_D210105_MDIA_P705_SExp01-BGSID-173_R01',\n",
       "       'J_D210105_MDIA_P705_SExp01-BGSID-174_R01',\n",
       "       'J_D210105_MDIA_P705_SExp01-BGSID-175_R01',\n",
       "       'J_D210105_MDIA_P705_SExp01-BGSID-176_R01',\n",
       "       'J_D210105_MDIA_P705_SExp01-BGSID-177_R01',\n",
       "       'J_D210105_MDIA_P705_SExp01-BGSID-178_R01',\n",
       "       'J_D210105_MDIA_P705_SExp01-BGSID-178_R01_X01',\n",
       "       'J_D210105_MDIA_P705_SExp01-BGSID-179_R01_X01',\n",
       "       'J_D210105_MDIA_P705_SExp01-BGSID-180_R01_X01',\n",
       "       'J_D210111_MDIA_P705_SExp01-BGSID-147_R01_X01'],\n",
       "      dtype='object', name='R.FileName', length=182)"
      ]
     },
     "execution_count": 3,
     "metadata": {},
     "output_type": "execute_result"
    }
   ],
   "source": [
    "tidyMet.index"
   ]
  },
  {
   "cell_type": "code",
   "execution_count": 32,
   "metadata": {},
   "outputs": [
    {
     "data": {
      "text/plain": [
       "Breast Cancer        84630\n",
       "Lung Cancer          81900\n",
       "Pancreatic Cancer    81900\n",
       "Colorectal Cancer    81900\n",
       "Healthy              81900\n",
       "Prostate Cancer      81900\n",
       "Name: Cancer, dtype: int64"
      ]
     },
     "execution_count": 32,
     "metadata": {},
     "output_type": "execute_result"
    }
   ],
   "source": [
    "tidySub.Cancer.value_counts()"
   ]
  },
  {
   "cell_type": "markdown",
   "metadata": {},
   "source": [
    "### To feed the data inot a model we need to reshape"
   ]
  },
  {
   "cell_type": "code",
   "execution_count": 14,
   "metadata": {},
   "outputs": [],
   "source": [
    "#reshape data\n",
    "#X data\n",
    "tidyReshaped = tidySub.pivot(index = \"R.FileName\", columns = \"uniprot\", values = \"meanAbu\")\n",
    "tidyReshaped.head()\n",
    "#y condition\n",
    "Group =  tidySub.drop([\"uniprot\", \"meanAbu\"], axis=1)\n",
    "Group = Group.drop_duplicates().reset_index(drop=True)\n",
    "Group.head()\n",
    "\n",
    "#we merge to ensure that the y rows fit the corresponding x rows\n",
    "data = pd.merge(tidyReshaped, Group, how=\"left\", on=\"R.FileName\")\n",
    "\n",
    "#to make df purely numerical\n",
    "data = data.set_index(\"R.FileName\")\n",
    "\n",
    "#change data to log2\n",
    "\n",
    "X = data.iloc[:, :-1].apply(np.log2)\n",
    "y = data.iloc[:,-1]"
   ]
  },
  {
   "cell_type": "code",
   "execution_count": 15,
   "metadata": {},
   "outputs": [
    {
     "data": {
      "text/html": [
       "<div>\n",
       "<style scoped>\n",
       "    .dataframe tbody tr th:only-of-type {\n",
       "        vertical-align: middle;\n",
       "    }\n",
       "\n",
       "    .dataframe tbody tr th {\n",
       "        vertical-align: top;\n",
       "    }\n",
       "\n",
       "    .dataframe thead th {\n",
       "        text-align: right;\n",
       "    }\n",
       "</style>\n",
       "<table border=\"1\" class=\"dataframe\">\n",
       "  <thead>\n",
       "    <tr style=\"text-align: right;\">\n",
       "      <th></th>\n",
       "      <th>A0A075B6H9</th>\n",
       "      <th>A0A075B6I0</th>\n",
       "      <th>A0A075B6I1</th>\n",
       "      <th>A0A075B6I7</th>\n",
       "      <th>A0A075B6J1</th>\n",
       "      <th>A0A075B6J9</th>\n",
       "      <th>A0A075B6K4</th>\n",
       "      <th>A0A075B6K5</th>\n",
       "      <th>A0A075B6P5;P01615</th>\n",
       "      <th>A0A075B6R2</th>\n",
       "      <th>...</th>\n",
       "      <th>Q9Y6C2</th>\n",
       "      <th>Q9Y6E0</th>\n",
       "      <th>Q9Y6E2</th>\n",
       "      <th>Q9Y6G9</th>\n",
       "      <th>Q9Y6L6</th>\n",
       "      <th>Q9Y6N7</th>\n",
       "      <th>Q9Y6R7</th>\n",
       "      <th>Q9Y6Y9</th>\n",
       "      <th>Q9Y6Z7</th>\n",
       "      <th>Cancer</th>\n",
       "    </tr>\n",
       "    <tr>\n",
       "      <th>R.FileName</th>\n",
       "      <th></th>\n",
       "      <th></th>\n",
       "      <th></th>\n",
       "      <th></th>\n",
       "      <th></th>\n",
       "      <th></th>\n",
       "      <th></th>\n",
       "      <th></th>\n",
       "      <th></th>\n",
       "      <th></th>\n",
       "      <th></th>\n",
       "      <th></th>\n",
       "      <th></th>\n",
       "      <th></th>\n",
       "      <th></th>\n",
       "      <th></th>\n",
       "      <th></th>\n",
       "      <th></th>\n",
       "      <th></th>\n",
       "      <th></th>\n",
       "      <th></th>\n",
       "    </tr>\n",
       "  </thead>\n",
       "  <tbody>\n",
       "    <tr>\n",
       "      <th>J_D201211_MDIA_P705_SExp01-BGSID-100_R01</th>\n",
       "      <td>14946.335938</td>\n",
       "      <td>44693.898438</td>\n",
       "      <td>5286.701172</td>\n",
       "      <td>2721.810303</td>\n",
       "      <td>6439.688965</td>\n",
       "      <td>4968.654297</td>\n",
       "      <td>9251.992188</td>\n",
       "      <td>40399.160156</td>\n",
       "      <td>7.631951e+04</td>\n",
       "      <td>50205.507812</td>\n",
       "      <td>...</td>\n",
       "      <td>46711.242188</td>\n",
       "      <td>4999.735352</td>\n",
       "      <td>3843.583496</td>\n",
       "      <td>3900.420654</td>\n",
       "      <td>4008.093262</td>\n",
       "      <td>30271.335938</td>\n",
       "      <td>5562199.50</td>\n",
       "      <td>20829.845703</td>\n",
       "      <td>186635.421875</td>\n",
       "      <td>Pancreatic Cancer</td>\n",
       "    </tr>\n",
       "    <tr>\n",
       "      <th>J_D201211_MDIA_P705_SExp01-BGSID-101_R01</th>\n",
       "      <td>38555.570312</td>\n",
       "      <td>51684.972656</td>\n",
       "      <td>9045.169922</td>\n",
       "      <td>7985.143555</td>\n",
       "      <td>5580.953125</td>\n",
       "      <td>3497.142578</td>\n",
       "      <td>6626.406738</td>\n",
       "      <td>100954.500000</td>\n",
       "      <td>1.029116e+06</td>\n",
       "      <td>15354.227539</td>\n",
       "      <td>...</td>\n",
       "      <td>37423.011719</td>\n",
       "      <td>32570.783203</td>\n",
       "      <td>16396.248047</td>\n",
       "      <td>5583.424316</td>\n",
       "      <td>2844.958496</td>\n",
       "      <td>17626.980469</td>\n",
       "      <td>3184120.25</td>\n",
       "      <td>19085.271484</td>\n",
       "      <td>125766.781250</td>\n",
       "      <td>Colorectal Cancer</td>\n",
       "    </tr>\n",
       "    <tr>\n",
       "      <th>J_D201211_MDIA_P705_SExp01-BGSID-102_R01</th>\n",
       "      <td>4343.331543</td>\n",
       "      <td>46242.109375</td>\n",
       "      <td>7758.438477</td>\n",
       "      <td>6393.914551</td>\n",
       "      <td>2902.563721</td>\n",
       "      <td>3281.517090</td>\n",
       "      <td>7488.952148</td>\n",
       "      <td>15695.381836</td>\n",
       "      <td>4.025498e+04</td>\n",
       "      <td>70995.250000</td>\n",
       "      <td>...</td>\n",
       "      <td>42504.460938</td>\n",
       "      <td>5609.707031</td>\n",
       "      <td>5444.106445</td>\n",
       "      <td>4461.832520</td>\n",
       "      <td>5693.956543</td>\n",
       "      <td>24841.900391</td>\n",
       "      <td>2423431.00</td>\n",
       "      <td>5232.701660</td>\n",
       "      <td>163073.593750</td>\n",
       "      <td>Lung Cancer</td>\n",
       "    </tr>\n",
       "    <tr>\n",
       "      <th>J_D201211_MDIA_P705_SExp01-BGSID-103_R01</th>\n",
       "      <td>4416.617676</td>\n",
       "      <td>4498.669922</td>\n",
       "      <td>5079.411133</td>\n",
       "      <td>5620.907227</td>\n",
       "      <td>3928.547607</td>\n",
       "      <td>3783.535645</td>\n",
       "      <td>4335.171387</td>\n",
       "      <td>2919.001953</td>\n",
       "      <td>1.193392e+04</td>\n",
       "      <td>26160.638672</td>\n",
       "      <td>...</td>\n",
       "      <td>42933.371094</td>\n",
       "      <td>5125.121582</td>\n",
       "      <td>5866.069336</td>\n",
       "      <td>8054.897461</td>\n",
       "      <td>6311.884766</td>\n",
       "      <td>32395.267578</td>\n",
       "      <td>1822234.00</td>\n",
       "      <td>5621.607910</td>\n",
       "      <td>242902.843750</td>\n",
       "      <td>Pancreatic Cancer</td>\n",
       "    </tr>\n",
       "    <tr>\n",
       "      <th>J_D201211_MDIA_P705_SExp01-BGSID-104_R01</th>\n",
       "      <td>35277.675781</td>\n",
       "      <td>43951.742188</td>\n",
       "      <td>9787.271484</td>\n",
       "      <td>5069.423340</td>\n",
       "      <td>3543.106445</td>\n",
       "      <td>5205.493652</td>\n",
       "      <td>4844.367676</td>\n",
       "      <td>19586.009766</td>\n",
       "      <td>1.528375e+05</td>\n",
       "      <td>58521.871094</td>\n",
       "      <td>...</td>\n",
       "      <td>34184.515625</td>\n",
       "      <td>5825.452637</td>\n",
       "      <td>6959.082520</td>\n",
       "      <td>7264.607422</td>\n",
       "      <td>5692.607422</td>\n",
       "      <td>25756.402344</td>\n",
       "      <td>3612022.00</td>\n",
       "      <td>6194.402832</td>\n",
       "      <td>74033.210938</td>\n",
       "      <td>Breast Cancer</td>\n",
       "    </tr>\n",
       "    <tr>\n",
       "      <th>J_D201211_MDIA_P705_SExp01-BGSID-105_R01</th>\n",
       "      <td>168020.156250</td>\n",
       "      <td>314351.937500</td>\n",
       "      <td>43850.906250</td>\n",
       "      <td>7771.826172</td>\n",
       "      <td>29071.429688</td>\n",
       "      <td>71324.187500</td>\n",
       "      <td>113709.164062</td>\n",
       "      <td>164368.421875</td>\n",
       "      <td>1.048406e+06</td>\n",
       "      <td>439806.000000</td>\n",
       "      <td>...</td>\n",
       "      <td>68271.148438</td>\n",
       "      <td>3907.875488</td>\n",
       "      <td>5595.822754</td>\n",
       "      <td>5423.373535</td>\n",
       "      <td>6921.024902</td>\n",
       "      <td>64960.882812</td>\n",
       "      <td>5701776.00</td>\n",
       "      <td>14410.666992</td>\n",
       "      <td>218686.546875</td>\n",
       "      <td>Healthy</td>\n",
       "    </tr>\n",
       "    <tr>\n",
       "      <th>J_D201211_MDIA_P705_SExp01-BGSID-106_R01</th>\n",
       "      <td>30662.833984</td>\n",
       "      <td>56251.250000</td>\n",
       "      <td>22177.605469</td>\n",
       "      <td>3568.471436</td>\n",
       "      <td>7860.810059</td>\n",
       "      <td>5676.283203</td>\n",
       "      <td>7791.059082</td>\n",
       "      <td>14281.361328</td>\n",
       "      <td>4.652126e+04</td>\n",
       "      <td>86427.093750</td>\n",
       "      <td>...</td>\n",
       "      <td>70641.117188</td>\n",
       "      <td>5911.922852</td>\n",
       "      <td>5732.438477</td>\n",
       "      <td>5113.707031</td>\n",
       "      <td>3057.126465</td>\n",
       "      <td>14672.596680</td>\n",
       "      <td>2764777.00</td>\n",
       "      <td>2809.475586</td>\n",
       "      <td>137199.046875</td>\n",
       "      <td>Pancreatic Cancer</td>\n",
       "    </tr>\n",
       "    <tr>\n",
       "      <th>J_D201211_MDIA_P705_SExp01-BGSID-107_R01</th>\n",
       "      <td>28435.175781</td>\n",
       "      <td>35869.933594</td>\n",
       "      <td>2727.172852</td>\n",
       "      <td>3502.998779</td>\n",
       "      <td>7316.994629</td>\n",
       "      <td>7915.940430</td>\n",
       "      <td>5812.071777</td>\n",
       "      <td>14288.806641</td>\n",
       "      <td>1.516024e+05</td>\n",
       "      <td>36148.906250</td>\n",
       "      <td>...</td>\n",
       "      <td>103312.960938</td>\n",
       "      <td>5317.896484</td>\n",
       "      <td>3941.360596</td>\n",
       "      <td>4759.937988</td>\n",
       "      <td>3729.927002</td>\n",
       "      <td>15953.640625</td>\n",
       "      <td>2216572.25</td>\n",
       "      <td>4058.714844</td>\n",
       "      <td>154778.015625</td>\n",
       "      <td>Lung Cancer</td>\n",
       "    </tr>\n",
       "    <tr>\n",
       "      <th>J_D201211_MDIA_P705_SExp01-BGSID-108_R01</th>\n",
       "      <td>37487.718750</td>\n",
       "      <td>106022.242188</td>\n",
       "      <td>4052.228027</td>\n",
       "      <td>3884.076416</td>\n",
       "      <td>5557.278809</td>\n",
       "      <td>15570.591797</td>\n",
       "      <td>9720.247070</td>\n",
       "      <td>38907.343750</td>\n",
       "      <td>1.918306e+05</td>\n",
       "      <td>46801.824219</td>\n",
       "      <td>...</td>\n",
       "      <td>104351.617188</td>\n",
       "      <td>6847.056641</td>\n",
       "      <td>3552.546631</td>\n",
       "      <td>2710.405029</td>\n",
       "      <td>3458.876709</td>\n",
       "      <td>22813.226562</td>\n",
       "      <td>2690729.00</td>\n",
       "      <td>3660.502686</td>\n",
       "      <td>101316.054688</td>\n",
       "      <td>Colorectal Cancer</td>\n",
       "    </tr>\n",
       "    <tr>\n",
       "      <th>J_D201211_MDIA_P705_SExp01-BGSID-109_R01</th>\n",
       "      <td>9181.585938</td>\n",
       "      <td>134948.609375</td>\n",
       "      <td>10369.925781</td>\n",
       "      <td>2935.796875</td>\n",
       "      <td>5970.308105</td>\n",
       "      <td>5139.558105</td>\n",
       "      <td>5623.950684</td>\n",
       "      <td>18671.617188</td>\n",
       "      <td>1.580666e+05</td>\n",
       "      <td>43009.527344</td>\n",
       "      <td>...</td>\n",
       "      <td>24573.173828</td>\n",
       "      <td>4717.085938</td>\n",
       "      <td>3563.429688</td>\n",
       "      <td>4207.068359</td>\n",
       "      <td>3715.948486</td>\n",
       "      <td>21239.107422</td>\n",
       "      <td>4926607.00</td>\n",
       "      <td>13127.912109</td>\n",
       "      <td>66921.515625</td>\n",
       "      <td>Healthy</td>\n",
       "    </tr>\n",
       "  </tbody>\n",
       "</table>\n",
       "<p>10 rows × 2731 columns</p>\n",
       "</div>"
      ],
      "text/plain": [
       "                                             A0A075B6H9     A0A075B6I0  \\\n",
       "R.FileName                                                               \n",
       "J_D201211_MDIA_P705_SExp01-BGSID-100_R01   14946.335938   44693.898438   \n",
       "J_D201211_MDIA_P705_SExp01-BGSID-101_R01   38555.570312   51684.972656   \n",
       "J_D201211_MDIA_P705_SExp01-BGSID-102_R01    4343.331543   46242.109375   \n",
       "J_D201211_MDIA_P705_SExp01-BGSID-103_R01    4416.617676    4498.669922   \n",
       "J_D201211_MDIA_P705_SExp01-BGSID-104_R01   35277.675781   43951.742188   \n",
       "J_D201211_MDIA_P705_SExp01-BGSID-105_R01  168020.156250  314351.937500   \n",
       "J_D201211_MDIA_P705_SExp01-BGSID-106_R01   30662.833984   56251.250000   \n",
       "J_D201211_MDIA_P705_SExp01-BGSID-107_R01   28435.175781   35869.933594   \n",
       "J_D201211_MDIA_P705_SExp01-BGSID-108_R01   37487.718750  106022.242188   \n",
       "J_D201211_MDIA_P705_SExp01-BGSID-109_R01    9181.585938  134948.609375   \n",
       "\n",
       "                                            A0A075B6I1   A0A075B6I7  \\\n",
       "R.FileName                                                            \n",
       "J_D201211_MDIA_P705_SExp01-BGSID-100_R01   5286.701172  2721.810303   \n",
       "J_D201211_MDIA_P705_SExp01-BGSID-101_R01   9045.169922  7985.143555   \n",
       "J_D201211_MDIA_P705_SExp01-BGSID-102_R01   7758.438477  6393.914551   \n",
       "J_D201211_MDIA_P705_SExp01-BGSID-103_R01   5079.411133  5620.907227   \n",
       "J_D201211_MDIA_P705_SExp01-BGSID-104_R01   9787.271484  5069.423340   \n",
       "J_D201211_MDIA_P705_SExp01-BGSID-105_R01  43850.906250  7771.826172   \n",
       "J_D201211_MDIA_P705_SExp01-BGSID-106_R01  22177.605469  3568.471436   \n",
       "J_D201211_MDIA_P705_SExp01-BGSID-107_R01   2727.172852  3502.998779   \n",
       "J_D201211_MDIA_P705_SExp01-BGSID-108_R01   4052.228027  3884.076416   \n",
       "J_D201211_MDIA_P705_SExp01-BGSID-109_R01  10369.925781  2935.796875   \n",
       "\n",
       "                                            A0A075B6J1    A0A075B6J9  \\\n",
       "R.FileName                                                             \n",
       "J_D201211_MDIA_P705_SExp01-BGSID-100_R01   6439.688965   4968.654297   \n",
       "J_D201211_MDIA_P705_SExp01-BGSID-101_R01   5580.953125   3497.142578   \n",
       "J_D201211_MDIA_P705_SExp01-BGSID-102_R01   2902.563721   3281.517090   \n",
       "J_D201211_MDIA_P705_SExp01-BGSID-103_R01   3928.547607   3783.535645   \n",
       "J_D201211_MDIA_P705_SExp01-BGSID-104_R01   3543.106445   5205.493652   \n",
       "J_D201211_MDIA_P705_SExp01-BGSID-105_R01  29071.429688  71324.187500   \n",
       "J_D201211_MDIA_P705_SExp01-BGSID-106_R01   7860.810059   5676.283203   \n",
       "J_D201211_MDIA_P705_SExp01-BGSID-107_R01   7316.994629   7915.940430   \n",
       "J_D201211_MDIA_P705_SExp01-BGSID-108_R01   5557.278809  15570.591797   \n",
       "J_D201211_MDIA_P705_SExp01-BGSID-109_R01   5970.308105   5139.558105   \n",
       "\n",
       "                                             A0A075B6K4     A0A075B6K5  \\\n",
       "R.FileName                                                               \n",
       "J_D201211_MDIA_P705_SExp01-BGSID-100_R01    9251.992188   40399.160156   \n",
       "J_D201211_MDIA_P705_SExp01-BGSID-101_R01    6626.406738  100954.500000   \n",
       "J_D201211_MDIA_P705_SExp01-BGSID-102_R01    7488.952148   15695.381836   \n",
       "J_D201211_MDIA_P705_SExp01-BGSID-103_R01    4335.171387    2919.001953   \n",
       "J_D201211_MDIA_P705_SExp01-BGSID-104_R01    4844.367676   19586.009766   \n",
       "J_D201211_MDIA_P705_SExp01-BGSID-105_R01  113709.164062  164368.421875   \n",
       "J_D201211_MDIA_P705_SExp01-BGSID-106_R01    7791.059082   14281.361328   \n",
       "J_D201211_MDIA_P705_SExp01-BGSID-107_R01    5812.071777   14288.806641   \n",
       "J_D201211_MDIA_P705_SExp01-BGSID-108_R01    9720.247070   38907.343750   \n",
       "J_D201211_MDIA_P705_SExp01-BGSID-109_R01    5623.950684   18671.617188   \n",
       "\n",
       "                                          A0A075B6P5;P01615     A0A075B6R2  \\\n",
       "R.FileName                                                                   \n",
       "J_D201211_MDIA_P705_SExp01-BGSID-100_R01       7.631951e+04   50205.507812   \n",
       "J_D201211_MDIA_P705_SExp01-BGSID-101_R01       1.029116e+06   15354.227539   \n",
       "J_D201211_MDIA_P705_SExp01-BGSID-102_R01       4.025498e+04   70995.250000   \n",
       "J_D201211_MDIA_P705_SExp01-BGSID-103_R01       1.193392e+04   26160.638672   \n",
       "J_D201211_MDIA_P705_SExp01-BGSID-104_R01       1.528375e+05   58521.871094   \n",
       "J_D201211_MDIA_P705_SExp01-BGSID-105_R01       1.048406e+06  439806.000000   \n",
       "J_D201211_MDIA_P705_SExp01-BGSID-106_R01       4.652126e+04   86427.093750   \n",
       "J_D201211_MDIA_P705_SExp01-BGSID-107_R01       1.516024e+05   36148.906250   \n",
       "J_D201211_MDIA_P705_SExp01-BGSID-108_R01       1.918306e+05   46801.824219   \n",
       "J_D201211_MDIA_P705_SExp01-BGSID-109_R01       1.580666e+05   43009.527344   \n",
       "\n",
       "                                          ...         Q9Y6C2        Q9Y6E0  \\\n",
       "R.FileName                                ...                                \n",
       "J_D201211_MDIA_P705_SExp01-BGSID-100_R01  ...   46711.242188   4999.735352   \n",
       "J_D201211_MDIA_P705_SExp01-BGSID-101_R01  ...   37423.011719  32570.783203   \n",
       "J_D201211_MDIA_P705_SExp01-BGSID-102_R01  ...   42504.460938   5609.707031   \n",
       "J_D201211_MDIA_P705_SExp01-BGSID-103_R01  ...   42933.371094   5125.121582   \n",
       "J_D201211_MDIA_P705_SExp01-BGSID-104_R01  ...   34184.515625   5825.452637   \n",
       "J_D201211_MDIA_P705_SExp01-BGSID-105_R01  ...   68271.148438   3907.875488   \n",
       "J_D201211_MDIA_P705_SExp01-BGSID-106_R01  ...   70641.117188   5911.922852   \n",
       "J_D201211_MDIA_P705_SExp01-BGSID-107_R01  ...  103312.960938   5317.896484   \n",
       "J_D201211_MDIA_P705_SExp01-BGSID-108_R01  ...  104351.617188   6847.056641   \n",
       "J_D201211_MDIA_P705_SExp01-BGSID-109_R01  ...   24573.173828   4717.085938   \n",
       "\n",
       "                                                Q9Y6E2       Q9Y6G9  \\\n",
       "R.FileName                                                            \n",
       "J_D201211_MDIA_P705_SExp01-BGSID-100_R01   3843.583496  3900.420654   \n",
       "J_D201211_MDIA_P705_SExp01-BGSID-101_R01  16396.248047  5583.424316   \n",
       "J_D201211_MDIA_P705_SExp01-BGSID-102_R01   5444.106445  4461.832520   \n",
       "J_D201211_MDIA_P705_SExp01-BGSID-103_R01   5866.069336  8054.897461   \n",
       "J_D201211_MDIA_P705_SExp01-BGSID-104_R01   6959.082520  7264.607422   \n",
       "J_D201211_MDIA_P705_SExp01-BGSID-105_R01   5595.822754  5423.373535   \n",
       "J_D201211_MDIA_P705_SExp01-BGSID-106_R01   5732.438477  5113.707031   \n",
       "J_D201211_MDIA_P705_SExp01-BGSID-107_R01   3941.360596  4759.937988   \n",
       "J_D201211_MDIA_P705_SExp01-BGSID-108_R01   3552.546631  2710.405029   \n",
       "J_D201211_MDIA_P705_SExp01-BGSID-109_R01   3563.429688  4207.068359   \n",
       "\n",
       "                                               Q9Y6L6        Q9Y6N7  \\\n",
       "R.FileName                                                            \n",
       "J_D201211_MDIA_P705_SExp01-BGSID-100_R01  4008.093262  30271.335938   \n",
       "J_D201211_MDIA_P705_SExp01-BGSID-101_R01  2844.958496  17626.980469   \n",
       "J_D201211_MDIA_P705_SExp01-BGSID-102_R01  5693.956543  24841.900391   \n",
       "J_D201211_MDIA_P705_SExp01-BGSID-103_R01  6311.884766  32395.267578   \n",
       "J_D201211_MDIA_P705_SExp01-BGSID-104_R01  5692.607422  25756.402344   \n",
       "J_D201211_MDIA_P705_SExp01-BGSID-105_R01  6921.024902  64960.882812   \n",
       "J_D201211_MDIA_P705_SExp01-BGSID-106_R01  3057.126465  14672.596680   \n",
       "J_D201211_MDIA_P705_SExp01-BGSID-107_R01  3729.927002  15953.640625   \n",
       "J_D201211_MDIA_P705_SExp01-BGSID-108_R01  3458.876709  22813.226562   \n",
       "J_D201211_MDIA_P705_SExp01-BGSID-109_R01  3715.948486  21239.107422   \n",
       "\n",
       "                                              Q9Y6R7        Q9Y6Y9  \\\n",
       "R.FileName                                                           \n",
       "J_D201211_MDIA_P705_SExp01-BGSID-100_R01  5562199.50  20829.845703   \n",
       "J_D201211_MDIA_P705_SExp01-BGSID-101_R01  3184120.25  19085.271484   \n",
       "J_D201211_MDIA_P705_SExp01-BGSID-102_R01  2423431.00   5232.701660   \n",
       "J_D201211_MDIA_P705_SExp01-BGSID-103_R01  1822234.00   5621.607910   \n",
       "J_D201211_MDIA_P705_SExp01-BGSID-104_R01  3612022.00   6194.402832   \n",
       "J_D201211_MDIA_P705_SExp01-BGSID-105_R01  5701776.00  14410.666992   \n",
       "J_D201211_MDIA_P705_SExp01-BGSID-106_R01  2764777.00   2809.475586   \n",
       "J_D201211_MDIA_P705_SExp01-BGSID-107_R01  2216572.25   4058.714844   \n",
       "J_D201211_MDIA_P705_SExp01-BGSID-108_R01  2690729.00   3660.502686   \n",
       "J_D201211_MDIA_P705_SExp01-BGSID-109_R01  4926607.00  13127.912109   \n",
       "\n",
       "                                                 Q9Y6Z7             Cancer  \n",
       "R.FileName                                                                  \n",
       "J_D201211_MDIA_P705_SExp01-BGSID-100_R01  186635.421875  Pancreatic Cancer  \n",
       "J_D201211_MDIA_P705_SExp01-BGSID-101_R01  125766.781250  Colorectal Cancer  \n",
       "J_D201211_MDIA_P705_SExp01-BGSID-102_R01  163073.593750        Lung Cancer  \n",
       "J_D201211_MDIA_P705_SExp01-BGSID-103_R01  242902.843750  Pancreatic Cancer  \n",
       "J_D201211_MDIA_P705_SExp01-BGSID-104_R01   74033.210938      Breast Cancer  \n",
       "J_D201211_MDIA_P705_SExp01-BGSID-105_R01  218686.546875            Healthy  \n",
       "J_D201211_MDIA_P705_SExp01-BGSID-106_R01  137199.046875  Pancreatic Cancer  \n",
       "J_D201211_MDIA_P705_SExp01-BGSID-107_R01  154778.015625        Lung Cancer  \n",
       "J_D201211_MDIA_P705_SExp01-BGSID-108_R01  101316.054688  Colorectal Cancer  \n",
       "J_D201211_MDIA_P705_SExp01-BGSID-109_R01   66921.515625            Healthy  \n",
       "\n",
       "[10 rows x 2731 columns]"
      ]
     },
     "execution_count": 15,
     "metadata": {},
     "output_type": "execute_result"
    }
   ],
   "source": [
    "data[:10]"
   ]
  },
  {
   "cell_type": "markdown",
   "metadata": {},
   "source": [
    "### Now that the data is prepared we continue with the following steps:\n",
    "* Create pipeline for imputing, scaling !! **Scaling is not needed for Random Forest**\n",
    "* (https://towardsdatascience.com/how-data-normalization-affects-your-random-forest-algorithm-fbc6753b4ddf)\n",
    "* Creation of training, validation and test sets\n",
    "* Feature Selection, Engineering\n",
    "* Model Selection"
   ]
  },
  {
   "cell_type": "code",
   "execution_count": 16,
   "metadata": {},
   "outputs": [],
   "source": [
    "#Make pipeline\n",
    "from sklearn.pipeline import Pipeline\n",
    "from sklearn.impute import SimpleImputer\n",
    "\n",
    "dataPrepPipe = Pipeline([\n",
    "    ('imputer', SimpleImputer(strategy='median')),\n",
    "    ]) \n",
    "\n",
    "#X is already purely numerical\n",
    "X = dataPrepPipe.fit_transform(X)"
   ]
  },
  {
   "cell_type": "code",
   "execution_count": 17,
   "metadata": {},
   "outputs": [
    {
     "name": "stdout",
     "output_type": "stream",
     "text": [
      "[4 1 3 4 0 2 4 3 1 2 3 0 5 0 1 2 4 3 5 0 2 4 3 2 2 1 5 2 3 4 3 0 2 5 3 5 0\n",
      " 4 1 1 0 1 2 4 1 5 0 5 4 2 5 1 0 3 4 2 5 4 4 0 4 5 0 0 5 2 2 0 1 5 4 2 1 3\n",
      " 4 0 0 3 5 1 5 1 3 1 0 0 4 2 4 3 1 2 3 0 0 1 1 2 5 5 3 5 3 1 3 4 2 1 4 1 4\n",
      " 3 5 2 5 5 0 2 3 6 6 6 6 6 6 6 6 6 6 6 6 6 6 6 6 6 6 6 6 6 6 6 6 6 6 3 3 2\n",
      " 0 1 4 3 4 2 0 3 3 3 5 2 1 1 5 2 5 4 1 4 2 0 4 5 6 5 4 1 1 0 0 0 3 1 0 3 1\n",
      " 5 3 0 0 2 2 5 4 5 3 4 5 1 1 0 3 4 4 0 5 2 2 6 6 6 6 6 6 6 6 6 6 6 6 6 6 6\n",
      " 6 6 2]\n"
     ]
    },
    {
     "data": {
      "text/plain": [
       "{0: 31, 1: 30, 2: 30, 3: 30, 4: 30, 5: 30, 6: 44}"
      ]
     },
     "execution_count": 17,
     "metadata": {},
     "output_type": "execute_result"
    }
   ],
   "source": [
    "# Encode target labels\n",
    "from sklearn import preprocessing\n",
    "\n",
    "labEnc = preprocessing.LabelEncoder() \n",
    "\n",
    "# apply label encoding\n",
    "y = labEnc.fit_transform(y) \n",
    "print(y)\n",
    "# show the health condition count\n",
    "unique, counts = np.unique(y, return_counts=True)\n",
    "dict(zip(unique, counts))"
   ]
  },
  {
   "cell_type": "code",
   "execution_count": 36,
   "metadata": {},
   "outputs": [
    {
     "data": {
      "text/plain": [
       "['Models/X.pkl']"
      ]
     },
     "execution_count": 36,
     "metadata": {},
     "output_type": "execute_result"
    }
   ],
   "source": [
    "# Save X and y for next session\n",
    "\n",
    "joblib.dump(y, \"rawDataBig/y.pkl\")\n",
    "joblib.dump(X, \"rawDataBig/X.pkl\")\n"
   ]
  },
  {
   "cell_type": "code",
   "execution_count": 48,
   "metadata": {},
   "outputs": [],
   "source": [
    "# load saved X and y \n",
    "\n",
    "y = joblib.load(\"rawDataBig/y.pkl\")\n",
    "X = joblib.load(\"rawDataBig/X.pkl\")\n"
   ]
  },
  {
   "cell_type": "code",
   "execution_count": 18,
   "metadata": {},
   "outputs": [
    {
     "ename": "NotFittedError",
     "evalue": "This SequentialFeatureSelector instance is not fitted yet. Call 'fit' with appropriate arguments before using this estimator.",
     "output_type": "error",
     "traceback": [
      "\u001b[1;31m---------------------------------------------------------------------------\u001b[0m",
      "\u001b[1;31mNotFittedError\u001b[0m                            Traceback (most recent call last)",
      "\u001b[1;32m~\\AppData\\Local\\Temp/ipykernel_6156/3052871772.py\u001b[0m in \u001b[0;36m<module>\u001b[1;34m\u001b[0m\n\u001b[0;32m     23\u001b[0m \u001b[1;31m#get the reduced X\u001b[0m\u001b[1;33m\u001b[0m\u001b[1;33m\u001b[0m\u001b[0m\n\u001b[0;32m     24\u001b[0m \u001b[0mmodel\u001b[0m \u001b[1;33m=\u001b[0m \u001b[0mSequentialFeatureSelector\u001b[0m\u001b[1;33m(\u001b[0m\u001b[0mestimator\u001b[0m \u001b[1;33m=\u001b[0m \u001b[0mraFo\u001b[0m\u001b[1;33m,\u001b[0m \u001b[0mn_features_to_select\u001b[0m \u001b[1;33m=\u001b[0m \u001b[1;36m0.20\u001b[0m\u001b[1;33m,\u001b[0m \u001b[0mcv\u001b[0m \u001b[1;33m=\u001b[0m \u001b[1;36m10\u001b[0m\u001b[1;33m,\u001b[0m  \u001b[0mn_jobs\u001b[0m\u001b[1;33m=\u001b[0m\u001b[1;33m-\u001b[0m\u001b[1;36m1\u001b[0m\u001b[1;33m)\u001b[0m\u001b[1;33m\u001b[0m\u001b[1;33m\u001b[0m\u001b[0m\n\u001b[1;32m---> 25\u001b[1;33m \u001b[0mX_new\u001b[0m \u001b[1;33m=\u001b[0m \u001b[0mmodel\u001b[0m\u001b[1;33m.\u001b[0m\u001b[0mtransform\u001b[0m\u001b[1;33m(\u001b[0m\u001b[0mX\u001b[0m\u001b[1;33m)\u001b[0m\u001b[1;33m\u001b[0m\u001b[1;33m\u001b[0m\u001b[0m\n\u001b[0m\u001b[0;32m     26\u001b[0m \u001b[0mprint\u001b[0m\u001b[1;33m(\u001b[0m\u001b[1;34mf\"Original X shape: {X.shape}\"\u001b[0m\u001b[1;33m)\u001b[0m\u001b[1;33m\u001b[0m\u001b[1;33m\u001b[0m\u001b[0m\n\u001b[0;32m     27\u001b[0m \u001b[0mprint\u001b[0m\u001b[1;33m(\u001b[0m\u001b[1;34mf\"Feature selected X_new shape: {X_new.shape}\"\u001b[0m\u001b[1;33m)\u001b[0m\u001b[1;33m\u001b[0m\u001b[1;33m\u001b[0m\u001b[0m\n",
      "\u001b[1;32m~\\anaconda3\\envs\\becs2\\lib\\site-packages\\sklearn\\feature_selection\\_base.py\u001b[0m in \u001b[0;36mtransform\u001b[1;34m(self, X)\u001b[0m\n\u001b[0;32m     88\u001b[0m             \u001b[0mreset\u001b[0m\u001b[1;33m=\u001b[0m\u001b[1;32mFalse\u001b[0m\u001b[1;33m,\u001b[0m\u001b[1;33m\u001b[0m\u001b[1;33m\u001b[0m\u001b[0m\n\u001b[0;32m     89\u001b[0m         )\n\u001b[1;32m---> 90\u001b[1;33m         \u001b[0mmask\u001b[0m \u001b[1;33m=\u001b[0m \u001b[0mself\u001b[0m\u001b[1;33m.\u001b[0m\u001b[0mget_support\u001b[0m\u001b[1;33m(\u001b[0m\u001b[1;33m)\u001b[0m\u001b[1;33m\u001b[0m\u001b[1;33m\u001b[0m\u001b[0m\n\u001b[0m\u001b[0;32m     91\u001b[0m         \u001b[1;32mif\u001b[0m \u001b[1;32mnot\u001b[0m \u001b[0mmask\u001b[0m\u001b[1;33m.\u001b[0m\u001b[0many\u001b[0m\u001b[1;33m(\u001b[0m\u001b[1;33m)\u001b[0m\u001b[1;33m:\u001b[0m\u001b[1;33m\u001b[0m\u001b[1;33m\u001b[0m\u001b[0m\n\u001b[0;32m     92\u001b[0m             warn(\n",
      "\u001b[1;32m~\\anaconda3\\envs\\becs2\\lib\\site-packages\\sklearn\\feature_selection\\_base.py\u001b[0m in \u001b[0;36mget_support\u001b[1;34m(self, indices)\u001b[0m\n\u001b[0;32m     51\u001b[0m             \u001b[0mvalues\u001b[0m \u001b[0mare\u001b[0m \u001b[0mindices\u001b[0m \u001b[0minto\u001b[0m \u001b[0mthe\u001b[0m \u001b[0minput\u001b[0m \u001b[0mfeature\u001b[0m \u001b[0mvector\u001b[0m\u001b[1;33m.\u001b[0m\u001b[1;33m\u001b[0m\u001b[1;33m\u001b[0m\u001b[0m\n\u001b[0;32m     52\u001b[0m         \"\"\"\n\u001b[1;32m---> 53\u001b[1;33m         \u001b[0mmask\u001b[0m \u001b[1;33m=\u001b[0m \u001b[0mself\u001b[0m\u001b[1;33m.\u001b[0m\u001b[0m_get_support_mask\u001b[0m\u001b[1;33m(\u001b[0m\u001b[1;33m)\u001b[0m\u001b[1;33m\u001b[0m\u001b[1;33m\u001b[0m\u001b[0m\n\u001b[0m\u001b[0;32m     54\u001b[0m         \u001b[1;32mreturn\u001b[0m \u001b[0mmask\u001b[0m \u001b[1;32mif\u001b[0m \u001b[1;32mnot\u001b[0m \u001b[0mindices\u001b[0m \u001b[1;32melse\u001b[0m \u001b[0mnp\u001b[0m\u001b[1;33m.\u001b[0m\u001b[0mwhere\u001b[0m\u001b[1;33m(\u001b[0m\u001b[0mmask\u001b[0m\u001b[1;33m)\u001b[0m\u001b[1;33m[\u001b[0m\u001b[1;36m0\u001b[0m\u001b[1;33m]\u001b[0m\u001b[1;33m\u001b[0m\u001b[1;33m\u001b[0m\u001b[0m\n\u001b[0;32m     55\u001b[0m \u001b[1;33m\u001b[0m\u001b[0m\n",
      "\u001b[1;32m~\\anaconda3\\envs\\becs2\\lib\\site-packages\\sklearn\\feature_selection\\_sequential.py\u001b[0m in \u001b[0;36m_get_support_mask\u001b[1;34m(self)\u001b[0m\n\u001b[0;32m    241\u001b[0m \u001b[1;33m\u001b[0m\u001b[0m\n\u001b[0;32m    242\u001b[0m     \u001b[1;32mdef\u001b[0m \u001b[0m_get_support_mask\u001b[0m\u001b[1;33m(\u001b[0m\u001b[0mself\u001b[0m\u001b[1;33m)\u001b[0m\u001b[1;33m:\u001b[0m\u001b[1;33m\u001b[0m\u001b[1;33m\u001b[0m\u001b[0m\n\u001b[1;32m--> 243\u001b[1;33m         \u001b[0mcheck_is_fitted\u001b[0m\u001b[1;33m(\u001b[0m\u001b[0mself\u001b[0m\u001b[1;33m)\u001b[0m\u001b[1;33m\u001b[0m\u001b[1;33m\u001b[0m\u001b[0m\n\u001b[0m\u001b[0;32m    244\u001b[0m         \u001b[1;32mreturn\u001b[0m \u001b[0mself\u001b[0m\u001b[1;33m.\u001b[0m\u001b[0msupport_\u001b[0m\u001b[1;33m\u001b[0m\u001b[1;33m\u001b[0m\u001b[0m\n\u001b[0;32m    245\u001b[0m \u001b[1;33m\u001b[0m\u001b[0m\n",
      "\u001b[1;32m~\\anaconda3\\envs\\becs2\\lib\\site-packages\\sklearn\\utils\\validation.py\u001b[0m in \u001b[0;36mcheck_is_fitted\u001b[1;34m(estimator, attributes, msg, all_or_any)\u001b[0m\n\u001b[0;32m   1207\u001b[0m \u001b[1;33m\u001b[0m\u001b[0m\n\u001b[0;32m   1208\u001b[0m     \u001b[1;32mif\u001b[0m \u001b[1;32mnot\u001b[0m \u001b[0mfitted\u001b[0m\u001b[1;33m:\u001b[0m\u001b[1;33m\u001b[0m\u001b[1;33m\u001b[0m\u001b[0m\n\u001b[1;32m-> 1209\u001b[1;33m         \u001b[1;32mraise\u001b[0m \u001b[0mNotFittedError\u001b[0m\u001b[1;33m(\u001b[0m\u001b[0mmsg\u001b[0m \u001b[1;33m%\u001b[0m \u001b[1;33m{\u001b[0m\u001b[1;34m\"name\"\u001b[0m\u001b[1;33m:\u001b[0m \u001b[0mtype\u001b[0m\u001b[1;33m(\u001b[0m\u001b[0mestimator\u001b[0m\u001b[1;33m)\u001b[0m\u001b[1;33m.\u001b[0m\u001b[0m__name__\u001b[0m\u001b[1;33m}\u001b[0m\u001b[1;33m)\u001b[0m\u001b[1;33m\u001b[0m\u001b[1;33m\u001b[0m\u001b[0m\n\u001b[0m\u001b[0;32m   1210\u001b[0m \u001b[1;33m\u001b[0m\u001b[0m\n\u001b[0;32m   1211\u001b[0m \u001b[1;33m\u001b[0m\u001b[0m\n",
      "\u001b[1;31mNotFittedError\u001b[0m: This SequentialFeatureSelector instance is not fitted yet. Call 'fit' with appropriate arguments before using this estimator."
     ]
    },
    {
     "data": {
      "image/png": "[encoded data removed]",
      "text/plain": [
       "<Figure size 432x288 with 1 Axes>"
      ]
     },
     "metadata": {},
     "output_type": "display_data"
    }
   ],
   "source": [
    "# Feature Selection\n",
    "\n",
    "\"\"\"\n",
    "Can be used in pipeline\n",
    "clf = Pipeline([\n",
    "  ('feature_selection', SelectFromModel(LinearSVC(penalty=\"l1\"))),\n",
    "  ('classification', RandomForestClassifier())\n",
    "])\n",
    "\"\"\"\n",
    "from sklearn.ensemble import RandomForestClassifier\n",
    "from sklearn.feature_selection import SelectFromModel #checkout description https://scikit-learn.org/stable/modules/feature_selection.html#tree-based-feature-selection\n",
    "\n",
    "#create Random Forest classifier with default hyperparameters\n",
    "raFo = RandomForestClassifier()\n",
    "raFo = raFo.fit(X, y)\n",
    "\n",
    "#checkout importance in a histogram\n",
    "plt.hist(raFo.feature_importances_, bins=100)\n",
    "plt.title(\"Histogram of the feature importance for all 2730 proteins\")\n",
    "plt.xlabel(\"Importance\")\n",
    "plt.ylabel(\"Count\")\n",
    "\n",
    "#get the reduced X\n",
    "model = SelectFromModel(estimator = raFo, prefit=True)\n",
    "X_new = model.transform(X)\n",
    "print(f\"Original X shape: {X.shape}\")\n",
    "print(f\"Feature selected X_new shape: {X_new.shape}\")\n"
   ]
  },
  {
   "cell_type": "code",
   "execution_count": null,
   "metadata": {},
   "outputs": [],
   "source": [
    "# Feature Selection with SequentialFeatureSelector\n",
    "\n",
    "\"\"\"\n",
    "Can be used in pipeline\n",
    "clf = Pipeline([\n",
    "  ('feature_selection', SelectFromModel(LinearSVC(penalty=\"l1\"))),\n",
    "  ('classification', RandomForestClassifier())\n",
    "])\n",
    "\"\"\"\n",
    "from sklearn.ensemble import RandomForestClassifier\n",
    "from sklearn.feature_selection import SequentialFeatureSelector #checkout description https://scikit-learn.org/stable/modules/feature_selection.html#tree-based-feature-selection\n",
    "\n",
    "#create Random Forest classifier with default hyperparameters\n",
    "raFo = RandomForestClassifier()\n",
    "raFo = raFo.fit(X, y)\n",
    "\n",
    "#checkout importance in a histogram\n",
    "plt.hist(raFo.feature_importances_, bins=100)\n",
    "plt.title(\"Histogram of the feature importance for all 2730 proteins\")\n",
    "plt.xlabel(\"Importance\")\n",
    "plt.ylabel(\"Count\")\n",
    "\n",
    "#get the reduced X\n",
    "model = SequentialFeatureSelector(estimator = raFo, n_features_to_select = 0.20, cv = 10,  n_jobs=-1)\n",
    "X_new = model.transform(X)\n",
    "print(f\"Original X shape: {X.shape}\")\n",
    "print(f\"Feature selected X_new shape: {X_new.shape}\")\n"
   ]
  },
  {
   "cell_type": "code",
   "execution_count": 45,
   "metadata": {},
   "outputs": [
    {
     "data": {
      "image/png": "[encoded data removed]",
      "text/plain": [
       "<Figure size 432x288 with 1 Axes>"
      ]
     },
     "metadata": {},
     "output_type": "display_data"
    },
    {
     "data": {
      "text/plain": [
       "' plt.rcParams[\"figure.figsize\"] = (10,5)\\nplt.bar(raFo.feature_names, raFo.feature_importances_)\\nplt.xlabel(\\'Feature Labels\\')\\nplt.ylabel(\\'Feature Importances\\')\\nplt.title(\\'Comparison of different Feature Importances\\'); '"
      ]
     },
     "execution_count": 45,
     "metadata": {},
     "output_type": "execute_result"
    }
   ],
   "source": [
    "# Visualize feature importance\n",
    "\n",
    "importances = raFo.feature_importances_\n",
    "\n",
    "std = np.std([tree.feature_importances_ for tree in raFo.estimators_], axis=0)\n",
    "std.sort()\n",
    "\n",
    "forest_importances = pd.Series(importances)\n",
    "\n",
    "fig, ax = plt.subplots()\n",
    "forest_importances.plot.bar(yerr=std, ax=ax)\n",
    "ax.set_title(\"Feature importances using MDI\")\n",
    "ax.set_ylabel(\"Mean decrease in impurity\")\n",
    "ax.get_xaxis().set_visible(False)\n",
    "fig.tight_layout()\n",
    "plt.show()\n",
    "\n",
    "\"\"\" plt.rcParams[\"figure.figsize\"] = (10,5)\n",
    "plt.bar(raFo.feature_names, raFo.feature_importances_)\n",
    "plt.xlabel('Feature Labels')\n",
    "plt.ylabel('Feature Importances')\n",
    "plt.title('Comparison of different Feature Importances'); \"\"\""
   ]
  },
  {
   "cell_type": "markdown",
   "metadata": {},
   "source": [
    "## Time to train the model\n"
   ]
  },
  {
   "cell_type": "code",
   "execution_count": 13,
   "metadata": {},
   "outputs": [
    {
     "name": "stderr",
     "output_type": "stream",
     "text": [
      "/Users/jonathanrieder/opt/anaconda3/envs/becs2/lib/python3.9/site-packages/sklearn/base.py:329: UserWarning: Trying to unpickle estimator DecisionTreeClassifier from version 1.0 when using version 1.0.2. This might lead to breaking code or invalid results. Use at your own risk. For more info please refer to:\n",
      "https://scikit-learn.org/stable/modules/model_persistence.html#security-maintainability-limitations\n",
      "  warnings.warn(\n",
      "/Users/jonathanrieder/opt/anaconda3/envs/becs2/lib/python3.9/site-packages/sklearn/base.py:329: UserWarning: Trying to unpickle estimator RandomForestClassifier from version 1.0 when using version 1.0.2. This might lead to breaking code or invalid results. Use at your own risk. For more info please refer to:\n",
      "https://scikit-learn.org/stable/modules/model_persistence.html#security-maintainability-limitations\n",
      "  warnings.warn(\n"
     ]
    }
   ],
   "source": [
    "# import already trained model\n",
    "\n",
    "clf_RF = joblib.load(\"rawDataBig/clf_RF_X_new.pkl\")\n",
    "clf_XGRF = joblib.load(\"rawDataBig/clf_XGRF_X_new.pkl\")\n"
   ]
  },
  {
   "cell_type": "markdown",
   "metadata": {},
   "source": [
    "### Random Forest"
   ]
  },
  {
   "cell_type": "code",
   "execution_count": 46,
   "metadata": {},
   "outputs": [
    {
     "name": "stdout",
     "output_type": "stream",
     "text": [
      "Accuracy Random Forest: 0.7333333333333333\n",
      "              precision    recall  f1-score   support\n",
      "\n",
      "           0       0.71      0.83      0.77         6\n",
      "           1       0.50      0.80      0.62         5\n",
      "           2       1.00      0.50      0.67         2\n",
      "           3       1.00      0.56      0.71         9\n",
      "           4       1.00      0.71      0.83         7\n",
      "           5       0.44      0.57      0.50         7\n",
      "           6       0.90      1.00      0.95         9\n",
      "\n",
      "    accuracy                           0.73        45\n",
      "   macro avg       0.79      0.71      0.72        45\n",
      "weighted avg       0.80      0.73      0.74        45\n",
      "\n"
     ]
    }
   ],
   "source": [
    "#split\n",
    "from sklearn.model_selection import train_test_split\n",
    "\n",
    "X_train, X_test, y_train, y_test = train_test_split(X_new, y, test_size=0.2, random_state=3)\n",
    "\n",
    "clf_RF = RandomForestClassifier(random_state=1)\n",
    "clf_RF.fit(X_train ,y_train)\n",
    "y_RFpred = clf_RF.predict(X_test)\n",
    "\n",
    "\n",
    "\n",
    "\n",
    "# Model Accuracy, how often is the classifier correct?\n",
    "print(\"Accuracy Random Forest:\",metrics.accuracy_score(y_test , y_RFpred))\n",
    "print(classification_report(y_test, y_RFpred))\n"
   ]
  },
  {
   "cell_type": "markdown",
   "metadata": {},
   "source": [
    "### XGBoost Random Forest"
   ]
  },
  {
   "cell_type": "code",
   "execution_count": 55,
   "metadata": {},
   "outputs": [
    {
     "name": "stdout",
     "output_type": "stream",
     "text": [
      "Accuracy XGBoost Random Forest: 0.7111111111111111\n",
      "              precision    recall  f1-score   support\n",
      "\n",
      "           0       0.43      0.50      0.46         6\n",
      "           1       0.57      0.80      0.67         5\n",
      "           2       0.20      0.50      0.29         2\n",
      "           3       1.00      0.33      0.50         9\n",
      "           4       0.88      1.00      0.93         7\n",
      "           5       1.00      0.71      0.83         7\n",
      "           6       0.90      1.00      0.95         9\n",
      "\n",
      "    accuracy                           0.71        45\n",
      "   macro avg       0.71      0.69      0.66        45\n",
      "weighted avg       0.80      0.71      0.71        45\n",
      "\n"
     ]
    }
   ],
   "source": [
    "params = dict(tree_method=\"exact\", \n",
    "                eval_metric='mlogloss',\n",
    "                use_label_encoder =False)\n",
    "\n",
    "clf_XGRF = xgboost.XGBClassifier(random_state=4, **params)\n",
    "\n",
    "clf_XGRF.fit(X_train ,y_train)\n",
    "y_XGRFpred = clf_XGRF.predict(X_test)\n",
    "\n",
    "print(\"Accuracy XGBoost Random Forest:\",metrics.accuracy_score(y_test , y_XGRFpred))\n",
    "print(classification_report(y_test, y_XGRFpred))"
   ]
  },
  {
   "cell_type": "code",
   "execution_count": 71,
   "metadata": {},
   "outputs": [
    {
     "data": {
      "text/plain": [
       "['Models/clf_XGRF_X_new.pkl']"
      ]
     },
     "execution_count": 71,
     "metadata": {},
     "output_type": "execute_result"
    }
   ],
   "source": [
    "#save the model\n",
    "joblib.dump(clf_RF, \"Models/clf_RF_X_new.pkl\")\n",
    "joblib.dump(clf_XGRF, \"Models/clf_XGRF_X_new.pkl\")"
   ]
  },
  {
   "cell_type": "code",
   "execution_count": 52,
   "metadata": {},
   "outputs": [
    {
     "data": {
      "image/png": "[encoded data removed]",
      "text/plain": [
       "<Figure size 432x288 with 2 Axes>"
      ]
     },
     "metadata": {},
     "output_type": "display_data"
    }
   ],
   "source": [
    "# visualize confusion matrix\n",
    "from sklearn.metrics import confusion_matrix, ConfusionMatrixDisplay\n",
    "\n",
    "cm = confusion_matrix(y_test, y_RFpred, labels=clf_RF.classes_) # calculate value\n",
    "disp = ConfusionMatrixDisplay(confusion_matrix=cm,              # display\n",
    "                              display_labels=clf_RF.classes_)\n",
    "disp.plot(); \n",
    "\n"
   ]
  },
  {
   "cell_type": "markdown",
   "metadata": {},
   "source": [
    "## Compare uncertainty of Data and Model"
   ]
  },
  {
   "cell_type": "code",
   "execution_count": 53,
   "metadata": {},
   "outputs": [
    {
     "name": "stdout",
     "output_type": "stream",
     "text": [
      "Uncertainty in the data: 0.026\n",
      "Uncertainty in the model: 0.009\n",
      "The model performance is 0.618 ± 0.026 ± 0.009\n"
     ]
    }
   ],
   "source": [
    "from sklearn.model_selection import cross_val_score\n",
    "\n",
    "scores = cross_val_score(clf_RF, X_new, y, cv=5, scoring='accuracy')\n",
    "Udata = scores.std()\n",
    "\n",
    "modAcuRF = []\n",
    "for rs in range(1,6):\n",
    "    model = RandomForestClassifier(random_state=random.randrange(rs))\n",
    "    model.fit(X_train, y_train)\n",
    "    modAcuRF += [accuracy_score(y_test, model.predict(X_test))]\n",
    "\n",
    "Umodel = np.std(modAcuRF)\n",
    "\n",
    "print(\"Uncertainty in the data: %.3f\" % Udata)\n",
    "print(\"Uncertainty in the model: %.3f\" % Umodel)\n",
    "print(\"The model performance is %.3f ± %.3f ± %.3f\" % (scores.mean(),Udata,Umodel))"
   ]
  },
  {
   "cell_type": "code",
   "execution_count": 56,
   "metadata": {},
   "outputs": [
    {
     "name": "stdout",
     "output_type": "stream",
     "text": [
      "Uncertainty in the data: 0.074\n",
      "Uncertainty in the model: 0.000\n",
      "The model performance is 0.649 ± 0.074 ± 0.000\n"
     ]
    }
   ],
   "source": [
    "from sklearn.model_selection import cross_val_score\n",
    "\n",
    "scores = cross_val_score(clf_XGRF, X_new, y, cv=5, scoring='accuracy')\n",
    "Udata = scores.std()\n",
    "\n",
    "\n",
    "modAcuXGRF = []\n",
    "for rs in range(1,6):\n",
    "    model = xgboost.XGBClassifier(random_state=random.randrange(rs), **params)\n",
    "    model.fit(X_train, y_train)\n",
    "    modAcuXGRF += [accuracy_score(y_test, model.predict(X_test))]\n",
    "\n",
    "Umodel = np.std(modAcuXGRF)\n",
    "\n",
    "print(\"Uncertainty in the data: %.3f\" % Udata)\n",
    "print(\"Uncertainty in the model: %.3f\" % Umodel)\n",
    "print(\"The model performance is %.3f ± %.3f ± %.3f\" % (scores.mean(),Udata,Umodel))"
   ]
  },
  {
   "cell_type": "code",
   "execution_count": null,
   "metadata": {},
   "outputs": [],
   "source": []
  }
 ],
 "metadata": {
  "interpreter": {
   "hash": "43fef3abedee1d893beac1d2d118646f520aa845e2b69655f65decb73f4f0136"
  },
  "kernelspec": {
   "display_name": "Python 3.8.12 64-bit ('python38_r411': conda)",
   "language": "python",
   "name": "python3"
  },
  "language_info": {
   "codemirror_mode": {
    "name": "ipython",
    "version": 3
   },
   "file_extension": ".py",
   "mimetype": "text/x-python",
   "name": "python",
   "nbconvert_exporter": "python",
   "pygments_lexer": "ipython3",
   "version": "3.9.7"
  },
  "orig_nbformat": 4
 },
 "nbformat": 4,
 "nbformat_minor": 2
}
